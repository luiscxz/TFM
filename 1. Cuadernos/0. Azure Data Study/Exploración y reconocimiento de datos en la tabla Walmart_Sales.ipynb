{
    "metadata": {
        "kernelspec": {
            "name": "SQL",
            "display_name": "SQL",
            "language": "sql"
        },
        "language_info": {
            "name": "sql",
            "version": ""
        }
    },
    "nbformat_minor": 2,
    "nbformat": 4,
    "cells": [
        {
            "cell_type": "markdown",
            "source": [
                "**# **Exploración y reconocimiento de los datos de la tabla Store****"
            ],
            "metadata": {
                "azdata_cell_guid": "41e13f6e-b123-4529-a533-b3fdc9275c15"
            },
            "attachments": {}
        },
        {
            "cell_type": "markdown",
            "source": [
                "# Tabla de Contenido\r\n",
                "- [TABLA Walmart_Sales](#tabla-Walmart_Sales)\r\n",
                "  - [Columna Store](#columna-Store)\r\n",
                "  - [Columna Date](#Columna-date)\r\n",
                "  - [Columna Weekly_Sales](#Columna-weekly_sales)\r\n",
                "  - [Columna Holiday_Flag](#Columna-Holiday_Flag)\r\n",
                "  - [Columna Temperature](#Columna-temperature)\r\n",
                "  - [Columna Fuel_Price](#Columna-fuel_price)\r\n",
                "  - [Columna CPI](#Columna-cpi)\r\n",
                "  - [Columna Unemployment](#Columna-unemployment)\r\n",
                "  - [Resultados y conclusiones](#Resultados-y-conclusiones)"
            ],
            "metadata": {
                "azdata_cell_guid": "910c9cee-18c4-4077-a5a9-1c584f2383fe"
            },
            "attachments": {}
        },
        {
            "cell_type": "markdown",
            "source": [
                "### **TABLA Walmart_Sales**\r\n",
                "<span style=\"font-size: 18px;\">\r\n",
                "La exploración de los datos de la tabla  \"Walmart_Sales\" consta de los siguientes pasos:\r\n",
                "\r\n",
                "1. Consulta de la cantidad de registros en la tabla.\r\n",
                "1. Visualización de la tabla.\r\n",
                "1. Visualización de registros NULL en la columna Store.\r\n",
                "1. Visualización de registros NULL en la columna Date.\r\n",
                "1. Visualización de registros NULL en la columna Weekly_Sales.\r\n",
                "1. Visualización de registros NULL en la columna Holiday_Flag.\r\n",
                "1. Visualización de registros NULL en la columna Temperature.\r\n",
                "1. Visualización de registros NULL en la columna Fuel_Price. \r\n",
                "1. Visualización de registros NULL en la columna CPI.\r\n",
                "1. Visualización de registros NULL en la columna Unemployment.\r\n",
                "</span>"
            ],
            "metadata": {
                "azdata_cell_guid": "c3042c7a-3eea-4030-a7e9-0288918cbd4e"
            },
            "attachments": {}
        },
        {
            "cell_type": "code",
            "source": [
                "-- # 1.\r\n",
                "USE TFM;\r\n",
                "SELECT COUNT(*) as cantidad_registro from Walmart_sales;"
            ],
            "metadata": {
                "azdata_cell_guid": "67e726af-6745-4026-8a9c-57c70d6c4196",
                "language": "sql"
            },
            "outputs": [
                {
                    "output_type": "display_data",
                    "data": {
                        "text/html": "(1 row affected)"
                    },
                    "metadata": {}
                },
                {
                    "output_type": "display_data",
                    "data": {
                        "text/html": "Total execution time: 00:00:00.006"
                    },
                    "metadata": {}
                },
                {
                    "output_type": "execute_result",
                    "execution_count": 1,
                    "data": {
                        "application/vnd.dataresource+json": {
                            "schema": {
                                "fields": [
                                    {
                                        "name": "cantidad_registro"
                                    }
                                ]
                            },
                            "data": [
                                {
                                    "cantidad_registro": "6435"
                                }
                            ]
                        },
                        "text/html": "<table><tr><th>cantidad_registro</th></tr><tr><td>6435</td></tr></table>"
                    },
                    "metadata": {}
                }
            ],
            "execution_count": 1
        },
        {
            "cell_type": "markdown",
            "source": [
                "<span style=\"font-size: 18px;\">\r\n",
                "Se puede observar que esta tabla tiene un total de 6435 registros. Ahora veamos algunos datos de la tabla.\r\n",
                "</span>"
            ],
            "metadata": {
                "azdata_cell_guid": "57517386-4ddc-438b-8065-39986acc6c46"
            },
            "attachments": {}
        },
        {
            "cell_type": "code",
            "source": [
                "-- # 2.\r\n",
                "select TOP 10 *from Walmart_sales;"
            ],
            "metadata": {
                "azdata_cell_guid": "679581e6-e69d-4419-aa2d-8a100c936af5",
                "language": "sql"
            },
            "outputs": [
                {
                    "output_type": "display_data",
                    "data": {
                        "text/html": "(10 rows affected)"
                    },
                    "metadata": {}
                },
                {
                    "output_type": "display_data",
                    "data": {
                        "text/html": "Total execution time: 00:00:00.004"
                    },
                    "metadata": {}
                },
                {
                    "output_type": "execute_result",
                    "execution_count": 2,
                    "data": {
                        "application/vnd.dataresource+json": {
                            "schema": {
                                "fields": [
                                    {
                                        "name": "Store"
                                    },
                                    {
                                        "name": "Date"
                                    },
                                    {
                                        "name": "Weekly_Sales"
                                    },
                                    {
                                        "name": "Holiday_Flag"
                                    },
                                    {
                                        "name": "Temperature"
                                    },
                                    {
                                        "name": "Fuel_Price"
                                    },
                                    {
                                        "name": "CPI"
                                    },
                                    {
                                        "name": "Unemployment"
                                    }
                                ]
                            },
                            "data": [
                                {
                                    "Store": "1",
                                    "Date": "2010-02-05",
                                    "Weekly_Sales": "16436909",
                                    "Holiday_Flag": "0",
                                    "Temperature": "42.31",
                                    "Fuel_Price": "2.572",
                                    "CPI": "2110963584",
                                    "Unemployment": "8.106"
                                },
                                {
                                    "Store": "1",
                                    "Date": "2010-02-12",
                                    "Weekly_Sales": "164195744",
                                    "Holiday_Flag": "1",
                                    "Temperature": "38.51",
                                    "Fuel_Price": "2.548",
                                    "CPI": "2112421760",
                                    "Unemployment": "8.106"
                                },
                                {
                                    "Store": "1",
                                    "Date": "2010-02-19",
                                    "Weekly_Sales": "161196816",
                                    "Holiday_Flag": "0",
                                    "Temperature": "39.93",
                                    "Fuel_Price": "2.514",
                                    "CPI": "2112891392",
                                    "Unemployment": "8.106"
                                },
                                {
                                    "Store": "1",
                                    "Date": "2010-02-26",
                                    "Weekly_Sales": "140972752",
                                    "Holiday_Flag": "0",
                                    "Temperature": "46.63",
                                    "Fuel_Price": "2.561",
                                    "CPI": "2113196416",
                                    "Unemployment": "8.106"
                                },
                                {
                                    "Store": "1",
                                    "Date": "2010-03-05",
                                    "Weekly_Sales": "155480672",
                                    "Holiday_Flag": "0",
                                    "Temperature": "46.5",
                                    "Fuel_Price": "2.625",
                                    "CPI": "2113501440",
                                    "Unemployment": "8.106"
                                },
                                {
                                    "Store": "1",
                                    "Date": "2010-03-12",
                                    "Weekly_Sales": "143954160",
                                    "Holiday_Flag": "0",
                                    "Temperature": "57.79",
                                    "Fuel_Price": "2.667",
                                    "CPI": "2113806464",
                                    "Unemployment": "8.106"
                                },
                                {
                                    "Store": "1",
                                    "Date": "2010-03-19",
                                    "Weekly_Sales": "147251584",
                                    "Holiday_Flag": "0",
                                    "Temperature": "54.58",
                                    "Fuel_Price": "2.72",
                                    "CPI": "211215632",
                                    "Unemployment": "8.106"
                                },
                                {
                                    "Store": "1",
                                    "Date": "2010-03-26",
                                    "Weekly_Sales": "140442992",
                                    "Holiday_Flag": "0",
                                    "Temperature": "51.45",
                                    "Fuel_Price": "2.732",
                                    "CPI": "2110180480",
                                    "Unemployment": "8.106"
                                },
                                {
                                    "Store": "1",
                                    "Date": "2010-04-02",
                                    "Weekly_Sales": "159496832",
                                    "Holiday_Flag": "0",
                                    "Temperature": "62.27",
                                    "Fuel_Price": "2.719",
                                    "CPI": "2108204544",
                                    "Unemployment": "7.808"
                                },
                                {
                                    "Store": "1",
                                    "Date": "2010-04-09",
                                    "Weekly_Sales": "154541856",
                                    "Holiday_Flag": "0",
                                    "Temperature": "65.86",
                                    "Fuel_Price": "2.77",
                                    "CPI": "2106228608",
                                    "Unemployment": "7.808"
                                }
                            ]
                        },
                        "text/html": "<table><tr><th>Store</th><th>Date</th><th>Weekly_Sales</th><th>Holiday_Flag</th><th>Temperature</th><th>Fuel_Price</th><th>CPI</th><th>Unemployment</th></tr><tr><td>1</td><td>2010-02-05</td><td>16436909</td><td>0</td><td>42.31</td><td>2.572</td><td>2110963584</td><td>8.106</td></tr><tr><td>1</td><td>2010-02-12</td><td>164195744</td><td>1</td><td>38.51</td><td>2.548</td><td>2112421760</td><td>8.106</td></tr><tr><td>1</td><td>2010-02-19</td><td>161196816</td><td>0</td><td>39.93</td><td>2.514</td><td>2112891392</td><td>8.106</td></tr><tr><td>1</td><td>2010-02-26</td><td>140972752</td><td>0</td><td>46.63</td><td>2.561</td><td>2113196416</td><td>8.106</td></tr><tr><td>1</td><td>2010-03-05</td><td>155480672</td><td>0</td><td>46.5</td><td>2.625</td><td>2113501440</td><td>8.106</td></tr><tr><td>1</td><td>2010-03-12</td><td>143954160</td><td>0</td><td>57.79</td><td>2.667</td><td>2113806464</td><td>8.106</td></tr><tr><td>1</td><td>2010-03-19</td><td>147251584</td><td>0</td><td>54.58</td><td>2.72</td><td>211215632</td><td>8.106</td></tr><tr><td>1</td><td>2010-03-26</td><td>140442992</td><td>0</td><td>51.45</td><td>2.732</td><td>2110180480</td><td>8.106</td></tr><tr><td>1</td><td>2010-04-02</td><td>159496832</td><td>0</td><td>62.27</td><td>2.719</td><td>2108204544</td><td>7.808</td></tr><tr><td>1</td><td>2010-04-09</td><td>154541856</td><td>0</td><td>65.86</td><td>2.77</td><td>2106228608</td><td>7.808</td></tr></table>"
                    },
                    "metadata": {}
                }
            ],
            "execution_count": 2
        },
        {
            "cell_type": "markdown",
            "source": [
                "<span style=\"font-size: 18px;\">\r\n",
                "En la tabla se pueden observar las siguientes características:\r\n",
                "\r\n",
                "1. Columna \"Store\": Contiene el ID único de cada tienda.\r\n",
                "1. Columna \"Date\": Los datos están en formato de fecha YYYY-MM-DD.\r\n",
                "1. Columna \"Weekly_Sales\": Incluye valores numéricos enteros.\r\n",
                "1. Columna \"Holiday_Flag\": Presenta valores numéricos enteros.\r\n",
                "1. Columna \"Temperature\": Contiene valores numéricos con decimales.\r\n",
                "1. Columna \"Fuel_Price\": Incluye valores numéricos con decimales.\r\n",
                "1. Columna \"CPI\": Contiene valores numéricos enteros.\r\n",
                "1. Columna \"Unemployment\": Presenta valores numéricos con decimales.\r\n",
                "\r\n",
                "\r\n",
                "A continuación, se analizarán estas observaciones con mayor detalle.\r\n",
                "</span>"
            ],
            "metadata": {
                "azdata_cell_guid": "1d5c39ed-7d83-42e1-830c-b869e72b2659"
            },
            "attachments": {}
        },
        {
            "cell_type": "markdown",
            "source": [
                "## **Columna Store**\r\n",
                "<span style=\"font-size: 18px;\">\r\n",
                "En esta columna nos enfocamos en :\r\n",
                "\r\n",
                "- <b>Búsqueda de valores null. </b> \r\n",
                "- <b>Búsqueda de datos duplicados: </b> Específicamente, buscamos combinaciones repetidas de tienda (Store) y fecha (Date) .\r\n",
                "\r\n",
                "\r\n",
                "</span>"
            ],
            "metadata": {
                "azdata_cell_guid": "7dd352b8-4fb8-41ae-83df-0716919812d6"
            },
            "attachments": {}
        },
        {
            "cell_type": "code",
            "source": [
                "-- # 3\r\n",
                "select * from Walmart_Sales\r\n",
                "where Store is NULL \r\n",
                "or Store LIKE '%[^0-9]%';\r\n",
                ""
            ],
            "metadata": {
                "azdata_cell_guid": "9588b7b6-420e-4311-b527-c7f214195456",
                "language": "sql"
            },
            "outputs": [
                {
                    "output_type": "display_data",
                    "data": {
                        "text/html": "(0 rows affected)"
                    },
                    "metadata": {}
                },
                {
                    "output_type": "display_data",
                    "data": {
                        "text/html": "Total execution time: 00:00:00.018"
                    },
                    "metadata": {}
                },
                {
                    "output_type": "execute_result",
                    "execution_count": 3,
                    "data": {
                        "application/vnd.dataresource+json": {
                            "schema": {
                                "fields": [
                                    {
                                        "name": "Store"
                                    },
                                    {
                                        "name": "Date"
                                    },
                                    {
                                        "name": "Weekly_Sales"
                                    },
                                    {
                                        "name": "Holiday_Flag"
                                    },
                                    {
                                        "name": "Temperature"
                                    },
                                    {
                                        "name": "Fuel_Price"
                                    },
                                    {
                                        "name": "CPI"
                                    },
                                    {
                                        "name": "Unemployment"
                                    }
                                ]
                            },
                            "data": []
                        },
                        "text/html": "<table><tr><th>Store</th><th>Date</th><th>Weekly_Sales</th><th>Holiday_Flag</th><th>Temperature</th><th>Fuel_Price</th><th>CPI</th><th>Unemployment</th></tr></table>"
                    },
                    "metadata": {}
                }
            ],
            "execution_count": 3
        },
        {
            "cell_type": "code",
            "source": [
                "SELECT Store, [Date], count(*)\r\n",
                "FROM Walmart_Sales\r\n",
                "GROUP BY Store, [Date]\r\n",
                "HAVING count(*) > 1;\r\n",
                ""
            ],
            "metadata": {
                "language": "sql",
                "azdata_cell_guid": "e54d341b-cd9f-44dc-9e68-5db2a2283c46",
                "tags": []
            },
            "outputs": [
                {
                    "output_type": "display_data",
                    "data": {
                        "text/html": "(0 rows affected)"
                    },
                    "metadata": {}
                },
                {
                    "output_type": "display_data",
                    "data": {
                        "text/html": "Total execution time: 00:00:00.014"
                    },
                    "metadata": {}
                },
                {
                    "output_type": "execute_result",
                    "execution_count": 4,
                    "data": {
                        "application/vnd.dataresource+json": {
                            "schema": {
                                "fields": [
                                    {
                                        "name": "Store"
                                    },
                                    {
                                        "name": "Date"
                                    },
                                    {
                                        "name": "(No column name)"
                                    }
                                ]
                            },
                            "data": []
                        },
                        "text/html": "<table><tr><th>Store</th><th>Date</th><th>(No column name)</th></tr></table>"
                    },
                    "metadata": {}
                }
            ],
            "execution_count": 4
        },
        {
            "cell_type": "markdown",
            "source": [
                "<span style=\"font-size: 18px;\">Podemos ver que en la columna Store no hay valores faltantes, todos los datos son numéricos y no existen datos duplicados en la combinación Store y Date.</span>"
            ],
            "metadata": {
                "azdata_cell_guid": "968356ca-ce2d-46c1-bf0b-f85d9b2778c4"
            },
            "attachments": {}
        },
        {
            "cell_type": "markdown",
            "source": [
                "## **Columna Date**\n",
                "\n",
                "<span style=\"font-size: 18px;\">\n",
                "En esta columna nos enfocamos en:\n",
                "\n",
                "- <b>Búsqueda de valores null</b>.\n",
                "</span>"
            ],
            "metadata": {
                "azdata_cell_guid": "0a29f355-2c09-4f9e-83b4-3d26851e0b8c"
            },
            "attachments": {}
        },
        {
            "cell_type": "code",
            "source": [
                "-- # 4\r\n",
                "SELECT * \r\n",
                "FROM Walmart_Sales\r\n",
                "WHERE [Date] IS NULL;"
            ],
            "metadata": {
                "azdata_cell_guid": "9045fc35-1910-4ede-8634-9089295dba67",
                "language": "sql",
                "tags": []
            },
            "outputs": [
                {
                    "output_type": "display_data",
                    "data": {
                        "text/html": "(0 rows affected)"
                    },
                    "metadata": {}
                },
                {
                    "output_type": "display_data",
                    "data": {
                        "text/html": "Total execution time: 00:00:00.002"
                    },
                    "metadata": {}
                },
                {
                    "output_type": "execute_result",
                    "execution_count": 5,
                    "data": {
                        "application/vnd.dataresource+json": {
                            "schema": {
                                "fields": [
                                    {
                                        "name": "Store"
                                    },
                                    {
                                        "name": "Date"
                                    },
                                    {
                                        "name": "Weekly_Sales"
                                    },
                                    {
                                        "name": "Holiday_Flag"
                                    },
                                    {
                                        "name": "Temperature"
                                    },
                                    {
                                        "name": "Fuel_Price"
                                    },
                                    {
                                        "name": "CPI"
                                    },
                                    {
                                        "name": "Unemployment"
                                    }
                                ]
                            },
                            "data": []
                        },
                        "text/html": "<table><tr><th>Store</th><th>Date</th><th>Weekly_Sales</th><th>Holiday_Flag</th><th>Temperature</th><th>Fuel_Price</th><th>CPI</th><th>Unemployment</th></tr></table>"
                    },
                    "metadata": {}
                }
            ],
            "execution_count": 5
        },
        {
            "cell_type": "markdown",
            "source": [
                "<span style=\"font-size: 18px;\">\r\n",
                "Podemos ver que en la columna Date no hay valores faltantes y todos los datos son fechas.\r\n",
                "</span>"
            ],
            "metadata": {
                "azdata_cell_guid": "42341808-bc6c-4dc8-9c1e-32ecab022a31"
            },
            "attachments": {}
        },
        {
            "cell_type": "markdown",
            "source": [
                "## **Columna Weekly_Sales**\r\n",
                "<span style=\"font-size: 18px;\">\r\n",
                "En esta columna nos enfocamos en:\r\n",
                "\r\n",
                "- <b>Búsqueda de valores null. </b> "
            ],
            "metadata": {
                "azdata_cell_guid": "de236912-2319-493f-80f6-d60e3eaab0a8"
            },
            "attachments": {}
        },
        {
            "cell_type": "code",
            "source": [
                "-- # 5.\r\n",
                "select *from Walmart_Sales\r\n",
                "where Weekly_Sales is NULL"
            ],
            "metadata": {
                "azdata_cell_guid": "a4a4767d-1436-4576-a889-b357d97ea312",
                "language": "sql",
                "tags": []
            },
            "outputs": [
                {
                    "output_type": "display_data",
                    "data": {
                        "text/html": "(0 rows affected)"
                    },
                    "metadata": {}
                },
                {
                    "output_type": "display_data",
                    "data": {
                        "text/html": "Total execution time: 00:00:00.003"
                    },
                    "metadata": {}
                },
                {
                    "output_type": "execute_result",
                    "execution_count": 6,
                    "data": {
                        "application/vnd.dataresource+json": {
                            "schema": {
                                "fields": [
                                    {
                                        "name": "Store"
                                    },
                                    {
                                        "name": "Date"
                                    },
                                    {
                                        "name": "Weekly_Sales"
                                    },
                                    {
                                        "name": "Holiday_Flag"
                                    },
                                    {
                                        "name": "Temperature"
                                    },
                                    {
                                        "name": "Fuel_Price"
                                    },
                                    {
                                        "name": "CPI"
                                    },
                                    {
                                        "name": "Unemployment"
                                    }
                                ]
                            },
                            "data": []
                        },
                        "text/html": "<table><tr><th>Store</th><th>Date</th><th>Weekly_Sales</th><th>Holiday_Flag</th><th>Temperature</th><th>Fuel_Price</th><th>CPI</th><th>Unemployment</th></tr></table>"
                    },
                    "metadata": {}
                }
            ],
            "execution_count": 6
        },
        {
            "cell_type": "markdown",
            "source": [
                "<span style=\"font-size: 18px;\">\r\n",
                "Podemos ver que en la columna Walmart_Sales no hay valores faltantes.\r\n",
                "</span>"
            ],
            "metadata": {
                "language": "sql",
                "azdata_cell_guid": "ebe1f93f-8267-4821-b241-8e522f833ff5"
            },
            "attachments": {}
        },
        {
            "cell_type": "markdown",
            "source": [
                "## **Columna Holiday_Flag**\r\n",
                "<span style=\"font-size: 18px;\">\r\n",
                "En esta columna nos enfocamos en:\r\n",
                "\r\n",
                "- <b>Búsqueda de valores null. </b> \r\n",
                "- <b>Búsqueda de valores no numéricos.</b>"
            ],
            "metadata": {
                "language": "sql",
                "azdata_cell_guid": "2c51b08e-7048-4ed9-9490-cf2c69b9966c"
            },
            "attachments": {}
        },
        {
            "cell_type": "code",
            "source": [
                "-- # 6.\r\n",
                "select *from Walmart_Sales\r\n",
                "where Holiday_Flag is NULL\r\n",
                "or Holiday_Flag LIKE '%[^0-9]%';"
            ],
            "metadata": {
                "language": "sql",
                "azdata_cell_guid": "79858a25-87f4-49b7-89ae-a3bbb2fc3bee"
            },
            "outputs": [
                {
                    "output_type": "display_data",
                    "data": {
                        "text/html": "(0 rows affected)"
                    },
                    "metadata": {}
                },
                {
                    "output_type": "display_data",
                    "data": {
                        "text/html": "Total execution time: 00:00:00.017"
                    },
                    "metadata": {}
                },
                {
                    "output_type": "execute_result",
                    "execution_count": 7,
                    "data": {
                        "application/vnd.dataresource+json": {
                            "schema": {
                                "fields": [
                                    {
                                        "name": "Store"
                                    },
                                    {
                                        "name": "Date"
                                    },
                                    {
                                        "name": "Weekly_Sales"
                                    },
                                    {
                                        "name": "Holiday_Flag"
                                    },
                                    {
                                        "name": "Temperature"
                                    },
                                    {
                                        "name": "Fuel_Price"
                                    },
                                    {
                                        "name": "CPI"
                                    },
                                    {
                                        "name": "Unemployment"
                                    }
                                ]
                            },
                            "data": []
                        },
                        "text/html": "<table><tr><th>Store</th><th>Date</th><th>Weekly_Sales</th><th>Holiday_Flag</th><th>Temperature</th><th>Fuel_Price</th><th>CPI</th><th>Unemployment</th></tr></table>"
                    },
                    "metadata": {}
                }
            ],
            "execution_count": 7
        },
        {
            "cell_type": "markdown",
            "source": [
                "<span style=\"font-size: 18px;\">\r\n",
                "\r\n",
                "Esta columna tampoco tiene valores faltantes.\r\n",
                "\r\n",
                "</span>"
            ],
            "metadata": {
                "language": "sql",
                "azdata_cell_guid": "39b67b87-a7c0-4c67-bf61-902f65b2caf1"
            },
            "attachments": {}
        },
        {
            "cell_type": "markdown",
            "source": [
                "## **Columna Temperature**\r\n",
                "<span style=\"font-size: 18px;\">\r\n",
                "En esta columna nos enfocamos en:\r\n",
                "\r\n",
                "- <b>Búsqueda de valores null. </b> "
            ],
            "metadata": {
                "language": "sql",
                "azdata_cell_guid": "f60ca93e-971b-43ac-89ef-c1a5ca50752c"
            },
            "attachments": {}
        },
        {
            "cell_type": "code",
            "source": [
                "-- # 7. \r\n",
                "select *from Walmart_Sales\r\n",
                "where Temperature is NULL"
            ],
            "metadata": {
                "language": "sql",
                "azdata_cell_guid": "e04c739f-46c7-45f6-90c2-2f63d6fdaa6b"
            },
            "outputs": [
                {
                    "output_type": "display_data",
                    "data": {
                        "text/html": "(0 rows affected)"
                    },
                    "metadata": {}
                },
                {
                    "output_type": "display_data",
                    "data": {
                        "text/html": "Total execution time: 00:00:00.002"
                    },
                    "metadata": {}
                },
                {
                    "output_type": "execute_result",
                    "execution_count": 8,
                    "data": {
                        "application/vnd.dataresource+json": {
                            "schema": {
                                "fields": [
                                    {
                                        "name": "Store"
                                    },
                                    {
                                        "name": "Date"
                                    },
                                    {
                                        "name": "Weekly_Sales"
                                    },
                                    {
                                        "name": "Holiday_Flag"
                                    },
                                    {
                                        "name": "Temperature"
                                    },
                                    {
                                        "name": "Fuel_Price"
                                    },
                                    {
                                        "name": "CPI"
                                    },
                                    {
                                        "name": "Unemployment"
                                    }
                                ]
                            },
                            "data": []
                        },
                        "text/html": "<table><tr><th>Store</th><th>Date</th><th>Weekly_Sales</th><th>Holiday_Flag</th><th>Temperature</th><th>Fuel_Price</th><th>CPI</th><th>Unemployment</th></tr></table>"
                    },
                    "metadata": {}
                }
            ],
            "execution_count": 8
        },
        {
            "cell_type": "markdown",
            "source": [
                "<span style=\"font-size: 18px;\">\r\n",
                "\r\n",
                "En la columna Temperatura tampoco hay valores faltantes.\r\n",
                "\r\n",
                "</span>"
            ],
            "metadata": {
                "azdata_cell_guid": "231c31b8-0d8e-4979-9878-1fe602130d70"
            },
            "attachments": {}
        },
        {
            "cell_type": "markdown",
            "source": [
                "## **Columna Fuel_Price**\r\n",
                "\r\n",
                "<span style=\"font-size: 18px;\">\r\n",
                "\r\n",
                "En esta columna nos enfocamos en:\r\n",
                "\r\n",
                "- <b>Búsqueda de valores null. </b>"
            ],
            "metadata": {
                "azdata_cell_guid": "91a22dbe-87d2-4ee1-8514-a7bd3d1ca588"
            },
            "attachments": {}
        },
        {
            "cell_type": "code",
            "source": [
                "-- # 8.\r\n",
                "select *from Walmart_Sales\r\n",
                "where Fuel_Price is NULL;"
            ],
            "metadata": {
                "azdata_cell_guid": "89b76d6b-2ec2-47fe-a431-40c48f4b8d9a",
                "language": "sql"
            },
            "outputs": [
                {
                    "output_type": "display_data",
                    "data": {
                        "text/html": "(0 rows affected)"
                    },
                    "metadata": {}
                },
                {
                    "output_type": "display_data",
                    "data": {
                        "text/html": "Total execution time: 00:00:00.002"
                    },
                    "metadata": {}
                },
                {
                    "output_type": "execute_result",
                    "execution_count": 9,
                    "data": {
                        "application/vnd.dataresource+json": {
                            "schema": {
                                "fields": [
                                    {
                                        "name": "Store"
                                    },
                                    {
                                        "name": "Date"
                                    },
                                    {
                                        "name": "Weekly_Sales"
                                    },
                                    {
                                        "name": "Holiday_Flag"
                                    },
                                    {
                                        "name": "Temperature"
                                    },
                                    {
                                        "name": "Fuel_Price"
                                    },
                                    {
                                        "name": "CPI"
                                    },
                                    {
                                        "name": "Unemployment"
                                    }
                                ]
                            },
                            "data": []
                        },
                        "text/html": "<table><tr><th>Store</th><th>Date</th><th>Weekly_Sales</th><th>Holiday_Flag</th><th>Temperature</th><th>Fuel_Price</th><th>CPI</th><th>Unemployment</th></tr></table>"
                    },
                    "metadata": {}
                }
            ],
            "execution_count": 9
        },
        {
            "cell_type": "markdown",
            "source": [
                "<span style=\"font-size: 18px;\">\r\n",
                "\r\n",
                "En la columna Fuel_Price tampoco hay valores faltantes.\r\n",
                "\r\n",
                "</span>"
            ],
            "metadata": {
                "azdata_cell_guid": "a14a63d4-bbe0-48a6-bb51-de5b1fd88d56"
            },
            "attachments": {}
        },
        {
            "cell_type": "markdown",
            "source": [
                "## **Columna CPI**\r\n",
                "\r\n",
                "<span style=\"font-size: 18px;\">\r\n",
                "\r\n",
                "En esta columna nos enfocamos en:\r\n",
                "\r\n",
                "- <b>Búsqueda de valores null. </b>"
            ],
            "metadata": {
                "azdata_cell_guid": "3aa258eb-3753-43fe-a735-64c9038c2ab0"
            },
            "attachments": {}
        },
        {
            "cell_type": "code",
            "source": [
                "-- # 9.\r\n",
                "select *from Walmart_Sales\r\n",
                "where CPI is NULL;"
            ],
            "metadata": {
                "azdata_cell_guid": "b379e77a-5028-4668-abb7-2f1feb9978b7",
                "language": "sql"
            },
            "outputs": [
                {
                    "output_type": "display_data",
                    "data": {
                        "text/html": "(0 rows affected)"
                    },
                    "metadata": {}
                },
                {
                    "output_type": "display_data",
                    "data": {
                        "text/html": "Total execution time: 00:00:00.003"
                    },
                    "metadata": {}
                },
                {
                    "output_type": "execute_result",
                    "execution_count": 10,
                    "data": {
                        "application/vnd.dataresource+json": {
                            "schema": {
                                "fields": [
                                    {
                                        "name": "Store"
                                    },
                                    {
                                        "name": "Date"
                                    },
                                    {
                                        "name": "Weekly_Sales"
                                    },
                                    {
                                        "name": "Holiday_Flag"
                                    },
                                    {
                                        "name": "Temperature"
                                    },
                                    {
                                        "name": "Fuel_Price"
                                    },
                                    {
                                        "name": "CPI"
                                    },
                                    {
                                        "name": "Unemployment"
                                    }
                                ]
                            },
                            "data": []
                        },
                        "text/html": "<table><tr><th>Store</th><th>Date</th><th>Weekly_Sales</th><th>Holiday_Flag</th><th>Temperature</th><th>Fuel_Price</th><th>CPI</th><th>Unemployment</th></tr></table>"
                    },
                    "metadata": {}
                }
            ],
            "execution_count": 10
        },
        {
            "cell_type": "markdown",
            "source": [
                "<span style=\"font-size: 18px;\">\r\n",
                "\r\n",
                "En la columna CPI tampoco hay valores faltantes.\r\n",
                "\r\n",
                "</span>"
            ],
            "metadata": {
                "azdata_cell_guid": "8a178069-15c7-4dac-88f5-f62e86bf56ff"
            },
            "attachments": {}
        },
        {
            "cell_type": "markdown",
            "source": [
                "## **Columna Unemployment**\r\n",
                "\r\n",
                "<span style=\"font-size: 18px;\">\r\n",
                "\r\n",
                "En esta columna nos enfocamos en:\r\n",
                "\r\n",
                "- <b>Búsqueda de valores null. </b>"
            ],
            "metadata": {
                "azdata_cell_guid": "60a9393b-dbbd-4b75-b283-6065e0204876"
            },
            "attachments": {}
        },
        {
            "cell_type": "code",
            "source": [
                "-- # 10.\r\n",
                "select *from Walmart_Sales\r\n",
                "where Unemployment is NULL;"
            ],
            "metadata": {
                "azdata_cell_guid": "7ab714c3-9c0a-4c0e-8200-9fc21f98952c",
                "language": "sql"
            },
            "outputs": [
                {
                    "output_type": "display_data",
                    "data": {
                        "text/html": "(0 rows affected)"
                    },
                    "metadata": {}
                },
                {
                    "output_type": "display_data",
                    "data": {
                        "text/html": "Total execution time: 00:00:00.002"
                    },
                    "metadata": {}
                },
                {
                    "output_type": "execute_result",
                    "execution_count": 11,
                    "data": {
                        "application/vnd.dataresource+json": {
                            "schema": {
                                "fields": [
                                    {
                                        "name": "Store"
                                    },
                                    {
                                        "name": "Date"
                                    },
                                    {
                                        "name": "Weekly_Sales"
                                    },
                                    {
                                        "name": "Holiday_Flag"
                                    },
                                    {
                                        "name": "Temperature"
                                    },
                                    {
                                        "name": "Fuel_Price"
                                    },
                                    {
                                        "name": "CPI"
                                    },
                                    {
                                        "name": "Unemployment"
                                    }
                                ]
                            },
                            "data": []
                        },
                        "text/html": "<table><tr><th>Store</th><th>Date</th><th>Weekly_Sales</th><th>Holiday_Flag</th><th>Temperature</th><th>Fuel_Price</th><th>CPI</th><th>Unemployment</th></tr></table>"
                    },
                    "metadata": {}
                }
            ],
            "execution_count": 11
        },
        {
            "cell_type": "markdown",
            "source": [
                "## **Resultados y conclusiones**\r\n",
                "\r\n",
                "<span style=\"font-size: 18px;\">\r\n",
                "A modo de resumen tenemos los siguientes resultados:\r\n",
                "\r\n",
                "1. Tras revisar la tabla, se observó que todas las columnas están libres de registros NULL, lo cual es un resultado positivo. Sin embargo, se identificó que es necesario transformar todas las columnas al formato adecuado. Actualmente, la única columna que tiene un formato válido y apropiado para el tipo de datos que almacena es la columna Date.\r\n",
                "1. Al revisar la agrupación Store y Date, se observó que no hay registros con la misma tienda y la misma fecha en la tabla. Es decir, la tabla no contiene registros duplicados.\r\n",
                "\r\n",
                "\r\n",
                "<b>Conclusiones:</b>\r\n",
                "\r\n",
                "1. Es crucial revisar y ajustar los formatos de las demás columnas para garantizar que los datos se almacenen y se procesen correctamente. Esto no solo mejorará la integridad de los datos, sino que también facilitará futuras consultas y análisis.\r\n",
                "\r\n",
                "</span>"
            ],
            "metadata": {
                "azdata_cell_guid": "1a90b03f-d97e-4673-9883-3f18333f1eab"
            },
            "attachments": {}
        }
    ]
}