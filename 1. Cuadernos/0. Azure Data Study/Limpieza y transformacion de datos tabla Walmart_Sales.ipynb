{
    "metadata": {
        "kernelspec": {
            "name": "SQL",
            "display_name": "SQL",
            "language": "sql"
        },
        "language_info": {
            "name": "sql",
            "version": ""
        }
    },
    "nbformat_minor": 2,
    "nbformat": 4,
    "cells": [
        {
            "cell_type": "markdown",
            "source": [
                "# **Limpieza y transformación de los datos de la tabla Walmart_Sales**"
            ],
            "metadata": {
                "azdata_cell_guid": "1dd1f8dc-f035-49aa-b597-9d1f579ae86c"
            },
            "attachments": {}
        },
        {
            "cell_type": "markdown",
            "source": [
                "# Tabla de Contenido\r\n",
                "- [TABLA Walmart_Sales](#tabla-Walmart_Sales)\r\n",
                "  - [Actualización de tipo de datos](#Actualización-de-tipo-de-datos)\r\n",
                "  - [Verificación de la integridad de los datos](#Verificación-de-la-integridad-de-los-datos)\r\n",
                "  - [Transformación del formato de la Fecha](#Transformación-del-formato-de-la-Fecha)\r\n",
                "  - [Creación de columna Holiday_Events](#Creación-de-columna-Holiday_Events)\r\n",
                "  - [CPI corrección a tres dígitos enteros y el resto en decimal](#CPI-corrección-a-tres-dígitos-enteros-y-el-resto-en-decimal)\r\n",
                "  - [Resultados y conclusiones](#Resultados-y-conclusiones)\r\n",
                "  "
            ],
            "metadata": {
                "azdata_cell_guid": "cc5fc1f9-d8d6-4c92-aea7-030d4c7672da"
            },
            "attachments": {}
        },
        {
            "cell_type": "markdown",
            "source": [
                "<span style=\"font-size: 18px;\">\r\n",
                "En el análisis de los datos de la tabla Walmart_Sales, se identificaron las siguientes observaciones:\r\n",
                "\r\n",
                "1. No hay registros duplicados. Esto se evidenció al agrupar los datos en términos de Store y Date.\r\n",
                "1. No hay caracteres especiales en ninguna de las columnas.\r\n",
                "\r\n",
                "A continuación, se procede  a realizar las correcciones necesarias en los datos de esta tabla para garantizar su calidad y consistencia. Esto involucra lo siguiente:\r\n",
                "\r\n",
                "1. Consulta de información sobre las columnas, incluyendo su nombre y tipo de dato.\r\n",
                "1. Transformar cada columna a su respectivo formato.\r\n",
                "1. Verificación de la integridad de los datos.\r\n",
                "1. Transformar la columna Date a DD-MM-AAAA.\r\n",
                "1. Creación de la columna Holiday_Events.\r\n",
                "\r\n",
                "</span>"
            ],
            "metadata": {
                "azdata_cell_guid": "f153cc85-156a-4296-b1d5-0cf034dd1121"
            },
            "attachments": {}
        },
        {
            "cell_type": "code",
            "source": [
                "-- # 1.\r\n",
                "USE TFM;\r\n",
                "select TOP 5 *from Walmart_Sales;"
            ],
            "metadata": {
                "azdata_cell_guid": "e60d7cb4-d17a-4754-ab6f-1d02c3e00aad",
                "language": "sql"
            },
            "outputs": [
                {
                    "output_type": "display_data",
                    "data": {
                        "text/html": "(5 rows affected)"
                    },
                    "metadata": {}
                },
                {
                    "output_type": "display_data",
                    "data": {
                        "text/html": "Total execution time: 00:00:00.011"
                    },
                    "metadata": {}
                },
                {
                    "output_type": "execute_result",
                    "execution_count": 74,
                    "data": {
                        "application/vnd.dataresource+json": {
                            "schema": {
                                "fields": [
                                    {
                                        "name": "Store"
                                    },
                                    {
                                        "name": "Date"
                                    },
                                    {
                                        "name": "Weekly_Sales"
                                    },
                                    {
                                        "name": "Holiday_Flag"
                                    },
                                    {
                                        "name": "Temperature"
                                    },
                                    {
                                        "name": "Fuel_Price"
                                    },
                                    {
                                        "name": "CPI"
                                    },
                                    {
                                        "name": "Unemployment"
                                    }
                                ]
                            },
                            "data": [
                                {
                                    "Store": "1",
                                    "Date": "2010-02-05",
                                    "Weekly_Sales": "16436909",
                                    "Holiday_Flag": "0",
                                    "Temperature": "42.31",
                                    "Fuel_Price": "2.572",
                                    "CPI": "2110963584",
                                    "Unemployment": "8.106"
                                },
                                {
                                    "Store": "1",
                                    "Date": "2010-02-12",
                                    "Weekly_Sales": "164195744",
                                    "Holiday_Flag": "1",
                                    "Temperature": "38.51",
                                    "Fuel_Price": "2.548",
                                    "CPI": "2112421760",
                                    "Unemployment": "8.106"
                                },
                                {
                                    "Store": "1",
                                    "Date": "2010-02-19",
                                    "Weekly_Sales": "161196816",
                                    "Holiday_Flag": "0",
                                    "Temperature": "39.93",
                                    "Fuel_Price": "2.514",
                                    "CPI": "2112891392",
                                    "Unemployment": "8.106"
                                },
                                {
                                    "Store": "1",
                                    "Date": "2010-02-26",
                                    "Weekly_Sales": "140972752",
                                    "Holiday_Flag": "0",
                                    "Temperature": "46.63",
                                    "Fuel_Price": "2.561",
                                    "CPI": "2113196416",
                                    "Unemployment": "8.106"
                                },
                                {
                                    "Store": "1",
                                    "Date": "2010-03-05",
                                    "Weekly_Sales": "155480672",
                                    "Holiday_Flag": "0",
                                    "Temperature": "46.5",
                                    "Fuel_Price": "2.625",
                                    "CPI": "2113501440",
                                    "Unemployment": "8.106"
                                }
                            ]
                        },
                        "text/html": "<table><tr><th>Store</th><th>Date</th><th>Weekly_Sales</th><th>Holiday_Flag</th><th>Temperature</th><th>Fuel_Price</th><th>CPI</th><th>Unemployment</th></tr><tr><td>1</td><td>2010-02-05</td><td>16436909</td><td>0</td><td>42.31</td><td>2.572</td><td>2110963584</td><td>8.106</td></tr><tr><td>1</td><td>2010-02-12</td><td>164195744</td><td>1</td><td>38.51</td><td>2.548</td><td>2112421760</td><td>8.106</td></tr><tr><td>1</td><td>2010-02-19</td><td>161196816</td><td>0</td><td>39.93</td><td>2.514</td><td>2112891392</td><td>8.106</td></tr><tr><td>1</td><td>2010-02-26</td><td>140972752</td><td>0</td><td>46.63</td><td>2.561</td><td>2113196416</td><td>8.106</td></tr><tr><td>1</td><td>2010-03-05</td><td>155480672</td><td>0</td><td>46.5</td><td>2.625</td><td>2113501440</td><td>8.106</td></tr></table>"
                    },
                    "metadata": {}
                }
            ],
            "execution_count": 74
        },
        {
            "cell_type": "code",
            "source": [
                "SELECT *FROM INFORMATION_SCHEMA.COLUMNS\r\n",
                "WHERE TABLE_NAME = 'Walmart_Sales'"
            ],
            "metadata": {
                "language": "sql",
                "azdata_cell_guid": "491da410-7fd1-49da-865a-15ee493d1c5d"
            },
            "outputs": [
                {
                    "output_type": "display_data",
                    "data": {
                        "text/html": "(8 rows affected)"
                    },
                    "metadata": {}
                },
                {
                    "output_type": "display_data",
                    "data": {
                        "text/html": "Total execution time: 00:00:00.051"
                    },
                    "metadata": {}
                },
                {
                    "output_type": "execute_result",
                    "execution_count": 75,
                    "data": {
                        "application/vnd.dataresource+json": {
                            "schema": {
                                "fields": [
                                    {
                                        "name": "TABLE_CATALOG"
                                    },
                                    {
                                        "name": "TABLE_SCHEMA"
                                    },
                                    {
                                        "name": "TABLE_NAME"
                                    },
                                    {
                                        "name": "COLUMN_NAME"
                                    },
                                    {
                                        "name": "ORDINAL_POSITION"
                                    },
                                    {
                                        "name": "COLUMN_DEFAULT"
                                    },
                                    {
                                        "name": "IS_NULLABLE"
                                    },
                                    {
                                        "name": "DATA_TYPE"
                                    },
                                    {
                                        "name": "CHARACTER_MAXIMUM_LENGTH"
                                    },
                                    {
                                        "name": "CHARACTER_OCTET_LENGTH"
                                    },
                                    {
                                        "name": "NUMERIC_PRECISION"
                                    },
                                    {
                                        "name": "NUMERIC_PRECISION_RADIX"
                                    },
                                    {
                                        "name": "NUMERIC_SCALE"
                                    },
                                    {
                                        "name": "DATETIME_PRECISION"
                                    },
                                    {
                                        "name": "CHARACTER_SET_CATALOG"
                                    },
                                    {
                                        "name": "CHARACTER_SET_SCHEMA"
                                    },
                                    {
                                        "name": "CHARACTER_SET_NAME"
                                    },
                                    {
                                        "name": "COLLATION_CATALOG"
                                    },
                                    {
                                        "name": "COLLATION_SCHEMA"
                                    },
                                    {
                                        "name": "COLLATION_NAME"
                                    },
                                    {
                                        "name": "DOMAIN_CATALOG"
                                    },
                                    {
                                        "name": "DOMAIN_SCHEMA"
                                    },
                                    {
                                        "name": "DOMAIN_NAME"
                                    }
                                ]
                            },
                            "data": [
                                {
                                    "TABLE_CATALOG": "TFM",
                                    "TABLE_SCHEMA": "dbo",
                                    "TABLE_NAME": "Walmart_Sales",
                                    "COLUMN_NAME": "Store",
                                    "ORDINAL_POSITION": "1",
                                    "COLUMN_DEFAULT": "NULL",
                                    "IS_NULLABLE": "NO",
                                    "DATA_TYPE": "tinyint",
                                    "CHARACTER_MAXIMUM_LENGTH": "NULL",
                                    "CHARACTER_OCTET_LENGTH": "NULL",
                                    "NUMERIC_PRECISION": "3",
                                    "NUMERIC_PRECISION_RADIX": "10",
                                    "NUMERIC_SCALE": "0",
                                    "DATETIME_PRECISION": "NULL",
                                    "CHARACTER_SET_CATALOG": "NULL",
                                    "CHARACTER_SET_SCHEMA": "NULL",
                                    "CHARACTER_SET_NAME": "NULL",
                                    "COLLATION_CATALOG": "NULL",
                                    "COLLATION_SCHEMA": "NULL",
                                    "COLLATION_NAME": "NULL",
                                    "DOMAIN_CATALOG": "NULL",
                                    "DOMAIN_SCHEMA": "NULL",
                                    "DOMAIN_NAME": "NULL"
                                },
                                {
                                    "TABLE_CATALOG": "TFM",
                                    "TABLE_SCHEMA": "dbo",
                                    "TABLE_NAME": "Walmart_Sales",
                                    "COLUMN_NAME": "Date",
                                    "ORDINAL_POSITION": "2",
                                    "COLUMN_DEFAULT": "NULL",
                                    "IS_NULLABLE": "NO",
                                    "DATA_TYPE": "date",
                                    "CHARACTER_MAXIMUM_LENGTH": "NULL",
                                    "CHARACTER_OCTET_LENGTH": "NULL",
                                    "NUMERIC_PRECISION": "NULL",
                                    "NUMERIC_PRECISION_RADIX": "NULL",
                                    "NUMERIC_SCALE": "NULL",
                                    "DATETIME_PRECISION": "0",
                                    "CHARACTER_SET_CATALOG": "NULL",
                                    "CHARACTER_SET_SCHEMA": "NULL",
                                    "CHARACTER_SET_NAME": "NULL",
                                    "COLLATION_CATALOG": "NULL",
                                    "COLLATION_SCHEMA": "NULL",
                                    "COLLATION_NAME": "NULL",
                                    "DOMAIN_CATALOG": "NULL",
                                    "DOMAIN_SCHEMA": "NULL",
                                    "DOMAIN_NAME": "NULL"
                                },
                                {
                                    "TABLE_CATALOG": "TFM",
                                    "TABLE_SCHEMA": "dbo",
                                    "TABLE_NAME": "Walmart_Sales",
                                    "COLUMN_NAME": "Weekly_Sales",
                                    "ORDINAL_POSITION": "3",
                                    "COLUMN_DEFAULT": "NULL",
                                    "IS_NULLABLE": "NO",
                                    "DATA_TYPE": "float",
                                    "CHARACTER_MAXIMUM_LENGTH": "NULL",
                                    "CHARACTER_OCTET_LENGTH": "NULL",
                                    "NUMERIC_PRECISION": "53",
                                    "NUMERIC_PRECISION_RADIX": "2",
                                    "NUMERIC_SCALE": "NULL",
                                    "DATETIME_PRECISION": "NULL",
                                    "CHARACTER_SET_CATALOG": "NULL",
                                    "CHARACTER_SET_SCHEMA": "NULL",
                                    "CHARACTER_SET_NAME": "NULL",
                                    "COLLATION_CATALOG": "NULL",
                                    "COLLATION_SCHEMA": "NULL",
                                    "COLLATION_NAME": "NULL",
                                    "DOMAIN_CATALOG": "NULL",
                                    "DOMAIN_SCHEMA": "NULL",
                                    "DOMAIN_NAME": "NULL"
                                },
                                {
                                    "TABLE_CATALOG": "TFM",
                                    "TABLE_SCHEMA": "dbo",
                                    "TABLE_NAME": "Walmart_Sales",
                                    "COLUMN_NAME": "Holiday_Flag",
                                    "ORDINAL_POSITION": "4",
                                    "COLUMN_DEFAULT": "NULL",
                                    "IS_NULLABLE": "NO",
                                    "DATA_TYPE": "bit",
                                    "CHARACTER_MAXIMUM_LENGTH": "NULL",
                                    "CHARACTER_OCTET_LENGTH": "NULL",
                                    "NUMERIC_PRECISION": "NULL",
                                    "NUMERIC_PRECISION_RADIX": "NULL",
                                    "NUMERIC_SCALE": "NULL",
                                    "DATETIME_PRECISION": "NULL",
                                    "CHARACTER_SET_CATALOG": "NULL",
                                    "CHARACTER_SET_SCHEMA": "NULL",
                                    "CHARACTER_SET_NAME": "NULL",
                                    "COLLATION_CATALOG": "NULL",
                                    "COLLATION_SCHEMA": "NULL",
                                    "COLLATION_NAME": "NULL",
                                    "DOMAIN_CATALOG": "NULL",
                                    "DOMAIN_SCHEMA": "NULL",
                                    "DOMAIN_NAME": "NULL"
                                },
                                {
                                    "TABLE_CATALOG": "TFM",
                                    "TABLE_SCHEMA": "dbo",
                                    "TABLE_NAME": "Walmart_Sales",
                                    "COLUMN_NAME": "Temperature",
                                    "ORDINAL_POSITION": "5",
                                    "COLUMN_DEFAULT": "NULL",
                                    "IS_NULLABLE": "NO",
                                    "DATA_TYPE": "text",
                                    "CHARACTER_MAXIMUM_LENGTH": "2147483647",
                                    "CHARACTER_OCTET_LENGTH": "2147483647",
                                    "NUMERIC_PRECISION": "NULL",
                                    "NUMERIC_PRECISION_RADIX": "NULL",
                                    "NUMERIC_SCALE": "NULL",
                                    "DATETIME_PRECISION": "NULL",
                                    "CHARACTER_SET_CATALOG": "NULL",
                                    "CHARACTER_SET_SCHEMA": "NULL",
                                    "CHARACTER_SET_NAME": "iso_1",
                                    "COLLATION_CATALOG": "NULL",
                                    "COLLATION_SCHEMA": "NULL",
                                    "COLLATION_NAME": "Modern_Spanish_100_CI_AI",
                                    "DOMAIN_CATALOG": "NULL",
                                    "DOMAIN_SCHEMA": "NULL",
                                    "DOMAIN_NAME": "NULL"
                                },
                                {
                                    "TABLE_CATALOG": "TFM",
                                    "TABLE_SCHEMA": "dbo",
                                    "TABLE_NAME": "Walmart_Sales",
                                    "COLUMN_NAME": "Fuel_Price",
                                    "ORDINAL_POSITION": "6",
                                    "COLUMN_DEFAULT": "NULL",
                                    "IS_NULLABLE": "NO",
                                    "DATA_TYPE": "text",
                                    "CHARACTER_MAXIMUM_LENGTH": "2147483647",
                                    "CHARACTER_OCTET_LENGTH": "2147483647",
                                    "NUMERIC_PRECISION": "NULL",
                                    "NUMERIC_PRECISION_RADIX": "NULL",
                                    "NUMERIC_SCALE": "NULL",
                                    "DATETIME_PRECISION": "NULL",
                                    "CHARACTER_SET_CATALOG": "NULL",
                                    "CHARACTER_SET_SCHEMA": "NULL",
                                    "CHARACTER_SET_NAME": "iso_1",
                                    "COLLATION_CATALOG": "NULL",
                                    "COLLATION_SCHEMA": "NULL",
                                    "COLLATION_NAME": "Modern_Spanish_100_CI_AI",
                                    "DOMAIN_CATALOG": "NULL",
                                    "DOMAIN_SCHEMA": "NULL",
                                    "DOMAIN_NAME": "NULL"
                                },
                                {
                                    "TABLE_CATALOG": "TFM",
                                    "TABLE_SCHEMA": "dbo",
                                    "TABLE_NAME": "Walmart_Sales",
                                    "COLUMN_NAME": "CPI",
                                    "ORDINAL_POSITION": "7",
                                    "COLUMN_DEFAULT": "NULL",
                                    "IS_NULLABLE": "NO",
                                    "DATA_TYPE": "float",
                                    "CHARACTER_MAXIMUM_LENGTH": "NULL",
                                    "CHARACTER_OCTET_LENGTH": "NULL",
                                    "NUMERIC_PRECISION": "53",
                                    "NUMERIC_PRECISION_RADIX": "2",
                                    "NUMERIC_SCALE": "NULL",
                                    "DATETIME_PRECISION": "NULL",
                                    "CHARACTER_SET_CATALOG": "NULL",
                                    "CHARACTER_SET_SCHEMA": "NULL",
                                    "CHARACTER_SET_NAME": "NULL",
                                    "COLLATION_CATALOG": "NULL",
                                    "COLLATION_SCHEMA": "NULL",
                                    "COLLATION_NAME": "NULL",
                                    "DOMAIN_CATALOG": "NULL",
                                    "DOMAIN_SCHEMA": "NULL",
                                    "DOMAIN_NAME": "NULL"
                                },
                                {
                                    "TABLE_CATALOG": "TFM",
                                    "TABLE_SCHEMA": "dbo",
                                    "TABLE_NAME": "Walmart_Sales",
                                    "COLUMN_NAME": "Unemployment",
                                    "ORDINAL_POSITION": "8",
                                    "COLUMN_DEFAULT": "NULL",
                                    "IS_NULLABLE": "NO",
                                    "DATA_TYPE": "text",
                                    "CHARACTER_MAXIMUM_LENGTH": "2147483647",
                                    "CHARACTER_OCTET_LENGTH": "2147483647",
                                    "NUMERIC_PRECISION": "NULL",
                                    "NUMERIC_PRECISION_RADIX": "NULL",
                                    "NUMERIC_SCALE": "NULL",
                                    "DATETIME_PRECISION": "NULL",
                                    "CHARACTER_SET_CATALOG": "NULL",
                                    "CHARACTER_SET_SCHEMA": "NULL",
                                    "CHARACTER_SET_NAME": "iso_1",
                                    "COLLATION_CATALOG": "NULL",
                                    "COLLATION_SCHEMA": "NULL",
                                    "COLLATION_NAME": "Modern_Spanish_100_CI_AI",
                                    "DOMAIN_CATALOG": "NULL",
                                    "DOMAIN_SCHEMA": "NULL",
                                    "DOMAIN_NAME": "NULL"
                                }
                            ]
                        },
                        "text/html": "<table><tr><th>TABLE_CATALOG</th><th>TABLE_SCHEMA</th><th>TABLE_NAME</th><th>COLUMN_NAME</th><th>ORDINAL_POSITION</th><th>COLUMN_DEFAULT</th><th>IS_NULLABLE</th><th>DATA_TYPE</th><th>CHARACTER_MAXIMUM_LENGTH</th><th>CHARACTER_OCTET_LENGTH</th><th>NUMERIC_PRECISION</th><th>NUMERIC_PRECISION_RADIX</th><th>NUMERIC_SCALE</th><th>DATETIME_PRECISION</th><th>CHARACTER_SET_CATALOG</th><th>CHARACTER_SET_SCHEMA</th><th>CHARACTER_SET_NAME</th><th>COLLATION_CATALOG</th><th>COLLATION_SCHEMA</th><th>COLLATION_NAME</th><th>DOMAIN_CATALOG</th><th>DOMAIN_SCHEMA</th><th>DOMAIN_NAME</th></tr><tr><td>TFM</td><td>dbo</td><td>Walmart_Sales</td><td>Store</td><td>1</td><td>NULL</td><td>NO</td><td>tinyint</td><td>NULL</td><td>NULL</td><td>3</td><td>10</td><td>0</td><td>NULL</td><td>NULL</td><td>NULL</td><td>NULL</td><td>NULL</td><td>NULL</td><td>NULL</td><td>NULL</td><td>NULL</td><td>NULL</td></tr><tr><td>TFM</td><td>dbo</td><td>Walmart_Sales</td><td>Date</td><td>2</td><td>NULL</td><td>NO</td><td>date</td><td>NULL</td><td>NULL</td><td>NULL</td><td>NULL</td><td>NULL</td><td>0</td><td>NULL</td><td>NULL</td><td>NULL</td><td>NULL</td><td>NULL</td><td>NULL</td><td>NULL</td><td>NULL</td><td>NULL</td></tr><tr><td>TFM</td><td>dbo</td><td>Walmart_Sales</td><td>Weekly_Sales</td><td>3</td><td>NULL</td><td>NO</td><td>float</td><td>NULL</td><td>NULL</td><td>53</td><td>2</td><td>NULL</td><td>NULL</td><td>NULL</td><td>NULL</td><td>NULL</td><td>NULL</td><td>NULL</td><td>NULL</td><td>NULL</td><td>NULL</td><td>NULL</td></tr><tr><td>TFM</td><td>dbo</td><td>Walmart_Sales</td><td>Holiday_Flag</td><td>4</td><td>NULL</td><td>NO</td><td>bit</td><td>NULL</td><td>NULL</td><td>NULL</td><td>NULL</td><td>NULL</td><td>NULL</td><td>NULL</td><td>NULL</td><td>NULL</td><td>NULL</td><td>NULL</td><td>NULL</td><td>NULL</td><td>NULL</td><td>NULL</td></tr><tr><td>TFM</td><td>dbo</td><td>Walmart_Sales</td><td>Temperature</td><td>5</td><td>NULL</td><td>NO</td><td>text</td><td>2147483647</td><td>2147483647</td><td>NULL</td><td>NULL</td><td>NULL</td><td>NULL</td><td>NULL</td><td>NULL</td><td>iso_1</td><td>NULL</td><td>NULL</td><td>Modern_Spanish_100_CI_AI</td><td>NULL</td><td>NULL</td><td>NULL</td></tr><tr><td>TFM</td><td>dbo</td><td>Walmart_Sales</td><td>Fuel_Price</td><td>6</td><td>NULL</td><td>NO</td><td>text</td><td>2147483647</td><td>2147483647</td><td>NULL</td><td>NULL</td><td>NULL</td><td>NULL</td><td>NULL</td><td>NULL</td><td>iso_1</td><td>NULL</td><td>NULL</td><td>Modern_Spanish_100_CI_AI</td><td>NULL</td><td>NULL</td><td>NULL</td></tr><tr><td>TFM</td><td>dbo</td><td>Walmart_Sales</td><td>CPI</td><td>7</td><td>NULL</td><td>NO</td><td>float</td><td>NULL</td><td>NULL</td><td>53</td><td>2</td><td>NULL</td><td>NULL</td><td>NULL</td><td>NULL</td><td>NULL</td><td>NULL</td><td>NULL</td><td>NULL</td><td>NULL</td><td>NULL</td><td>NULL</td></tr><tr><td>TFM</td><td>dbo</td><td>Walmart_Sales</td><td>Unemployment</td><td>8</td><td>NULL</td><td>NO</td><td>text</td><td>2147483647</td><td>2147483647</td><td>NULL</td><td>NULL</td><td>NULL</td><td>NULL</td><td>NULL</td><td>NULL</td><td>iso_1</td><td>NULL</td><td>NULL</td><td>Modern_Spanish_100_CI_AI</td><td>NULL</td><td>NULL</td><td>NULL</td></tr></table>"
                    },
                    "metadata": {}
                }
            ],
            "execution_count": 75
        },
        {
            "cell_type": "markdown",
            "source": [
                "## **Actualización de tipo de datos**\r\n",
                "<span style=\"font-size: 18px;\">\r\n",
                "Se realizó una actualización en las columnas Store, Temperature, Fuel_Price y Unemployment para cambiar su tipo de datos. Inicialmente estaban definidas como texto, lo cual limitaba su compatibilidad con diversas operaciones y conversiones directas.\r\n",
                "</span>"
            ],
            "metadata": {
                "azdata_cell_guid": "537aafe8-81d5-401f-b350-0ee289113cc9"
            },
            "attachments": {}
        },
        {
            "cell_type": "code",
            "source": [
                "SELECT\r\n",
                "    MAX(LEN(CONVERT(VARCHAR, Temperature))) AS LonMaxTemp,\r\n",
                "    MAX(LEN(CONVERT(VARCHAR, Fuel_Price))) AS LonMaxPrice,\r\n",
                "    MAX(LEN(CONVERT(VARCHAR, Unemployment))) AS LonMaxUnemployment\r\n",
                "FROM Walmart_Sales;"
            ],
            "metadata": {
                "azdata_cell_guid": "c18182f3-ccbb-4490-97f0-c2f330b24920",
                "language": "sql",
                "tags": []
            },
            "outputs": [
                {
                    "output_type": "display_data",
                    "data": {
                        "text/html": "(1 row affected)"
                    },
                    "metadata": {}
                },
                {
                    "output_type": "display_data",
                    "data": {
                        "text/html": "Total execution time: 00:00:00.403"
                    },
                    "metadata": {}
                },
                {
                    "output_type": "execute_result",
                    "execution_count": 76,
                    "data": {
                        "application/vnd.dataresource+json": {
                            "schema": {
                                "fields": [
                                    {
                                        "name": "LonMaxTemp"
                                    },
                                    {
                                        "name": "LonMaxPrice"
                                    },
                                    {
                                        "name": "LonMaxUnemployment"
                                    }
                                ]
                            },
                            "data": [
                                {
                                    "LonMaxTemp": "6",
                                    "LonMaxPrice": "5",
                                    "LonMaxUnemployment": "6"
                                }
                            ]
                        },
                        "text/html": "<table><tr><th>LonMaxTemp</th><th>LonMaxPrice</th><th>LonMaxUnemployment</th></tr><tr><td>6</td><td>5</td><td>6</td></tr></table>"
                    },
                    "metadata": {}
                }
            ],
            "execution_count": 76
        },
        {
            "cell_type": "code",
            "source": [
                "-- # 2.\r\n",
                "ALTER TABLE Walmart_Sales\r\n",
                "ALTER COLUMN Temperature VARCHAR(6);\r\n",
                "\r\n",
                "ALTER TABLE Walmart_Sales\r\n",
                "ALTER COLUMN Temperature FLOAT;\r\n",
                "\r\n",
                "ALTER TABLE Walmart_Sales\r\n",
                "ALTER COLUMN Fuel_Price VARCHAR(5);\r\n",
                "\r\n",
                "ALTER TABLE Walmart_Sales\r\n",
                "ALTER COLUMN Fuel_Price FLOAT;\r\n",
                "\r\n",
                "ALTER TABLE Walmart_Sales\r\n",
                "ALTER COLUMN Unemployment VARCHAR(6);\r\n",
                "\r\n",
                "ALTER TABLE Walmart_Sales\r\n",
                "ALTER COLUMN Unemployment FLOAT;\r\n",
                "\r\n",
                "ALTER TABLE Walmart_Sales\r\n",
                "ALTER COLUMN Store INT;\r\n",
                "ALTER TABLE Walmart_Sales\r\n",
                "ALTER COLUMN Holiday_Flag INT;"
            ],
            "metadata": {
                "language": "sql",
                "azdata_cell_guid": "aa085e1a-09ad-4a22-83c2-bcdf0d816ed5"
            },
            "outputs": [
                {
                    "output_type": "display_data",
                    "data": {
                        "text/html": "Commands completed successfully."
                    },
                    "metadata": {}
                },
                {
                    "output_type": "display_data",
                    "data": {
                        "text/html": "Total execution time: 00:00:00.822"
                    },
                    "metadata": {}
                }
            ],
            "execution_count": 77
        },
        {
            "cell_type": "markdown",
            "source": [
                "<span style=\"font-size: 18px;\">\r\n",
                "Verifiquemos que la actualización sea correcta.\r\n",
                "</span>"
            ],
            "metadata": {
                "language": "sql",
                "azdata_cell_guid": "823a6b2c-0806-4295-a383-4ac74c411791"
            },
            "attachments": {}
        },
        {
            "cell_type": "code",
            "source": [
                "SELECT *FROM INFORMATION_SCHEMA.COLUMNS\r\n",
                "WHERE TABLE_NAME = 'Walmart_Sales'"
            ],
            "metadata": {
                "language": "sql",
                "azdata_cell_guid": "b18814d3-8453-4fa5-a3eb-fb258fb887b5"
            },
            "outputs": [
                {
                    "output_type": "display_data",
                    "data": {
                        "text/html": "(8 rows affected)"
                    },
                    "metadata": {}
                },
                {
                    "output_type": "display_data",
                    "data": {
                        "text/html": "Total execution time: 00:00:00.005"
                    },
                    "metadata": {}
                },
                {
                    "output_type": "execute_result",
                    "execution_count": 78,
                    "data": {
                        "application/vnd.dataresource+json": {
                            "schema": {
                                "fields": [
                                    {
                                        "name": "TABLE_CATALOG"
                                    },
                                    {
                                        "name": "TABLE_SCHEMA"
                                    },
                                    {
                                        "name": "TABLE_NAME"
                                    },
                                    {
                                        "name": "COLUMN_NAME"
                                    },
                                    {
                                        "name": "ORDINAL_POSITION"
                                    },
                                    {
                                        "name": "COLUMN_DEFAULT"
                                    },
                                    {
                                        "name": "IS_NULLABLE"
                                    },
                                    {
                                        "name": "DATA_TYPE"
                                    },
                                    {
                                        "name": "CHARACTER_MAXIMUM_LENGTH"
                                    },
                                    {
                                        "name": "CHARACTER_OCTET_LENGTH"
                                    },
                                    {
                                        "name": "NUMERIC_PRECISION"
                                    },
                                    {
                                        "name": "NUMERIC_PRECISION_RADIX"
                                    },
                                    {
                                        "name": "NUMERIC_SCALE"
                                    },
                                    {
                                        "name": "DATETIME_PRECISION"
                                    },
                                    {
                                        "name": "CHARACTER_SET_CATALOG"
                                    },
                                    {
                                        "name": "CHARACTER_SET_SCHEMA"
                                    },
                                    {
                                        "name": "CHARACTER_SET_NAME"
                                    },
                                    {
                                        "name": "COLLATION_CATALOG"
                                    },
                                    {
                                        "name": "COLLATION_SCHEMA"
                                    },
                                    {
                                        "name": "COLLATION_NAME"
                                    },
                                    {
                                        "name": "DOMAIN_CATALOG"
                                    },
                                    {
                                        "name": "DOMAIN_SCHEMA"
                                    },
                                    {
                                        "name": "DOMAIN_NAME"
                                    }
                                ]
                            },
                            "data": [
                                {
                                    "TABLE_CATALOG": "TFM",
                                    "TABLE_SCHEMA": "dbo",
                                    "TABLE_NAME": "Walmart_Sales",
                                    "COLUMN_NAME": "Store",
                                    "ORDINAL_POSITION": "1",
                                    "COLUMN_DEFAULT": "NULL",
                                    "IS_NULLABLE": "YES",
                                    "DATA_TYPE": "int",
                                    "CHARACTER_MAXIMUM_LENGTH": "NULL",
                                    "CHARACTER_OCTET_LENGTH": "NULL",
                                    "NUMERIC_PRECISION": "10",
                                    "NUMERIC_PRECISION_RADIX": "10",
                                    "NUMERIC_SCALE": "0",
                                    "DATETIME_PRECISION": "NULL",
                                    "CHARACTER_SET_CATALOG": "NULL",
                                    "CHARACTER_SET_SCHEMA": "NULL",
                                    "CHARACTER_SET_NAME": "NULL",
                                    "COLLATION_CATALOG": "NULL",
                                    "COLLATION_SCHEMA": "NULL",
                                    "COLLATION_NAME": "NULL",
                                    "DOMAIN_CATALOG": "NULL",
                                    "DOMAIN_SCHEMA": "NULL",
                                    "DOMAIN_NAME": "NULL"
                                },
                                {
                                    "TABLE_CATALOG": "TFM",
                                    "TABLE_SCHEMA": "dbo",
                                    "TABLE_NAME": "Walmart_Sales",
                                    "COLUMN_NAME": "Date",
                                    "ORDINAL_POSITION": "2",
                                    "COLUMN_DEFAULT": "NULL",
                                    "IS_NULLABLE": "NO",
                                    "DATA_TYPE": "date",
                                    "CHARACTER_MAXIMUM_LENGTH": "NULL",
                                    "CHARACTER_OCTET_LENGTH": "NULL",
                                    "NUMERIC_PRECISION": "NULL",
                                    "NUMERIC_PRECISION_RADIX": "NULL",
                                    "NUMERIC_SCALE": "NULL",
                                    "DATETIME_PRECISION": "0",
                                    "CHARACTER_SET_CATALOG": "NULL",
                                    "CHARACTER_SET_SCHEMA": "NULL",
                                    "CHARACTER_SET_NAME": "NULL",
                                    "COLLATION_CATALOG": "NULL",
                                    "COLLATION_SCHEMA": "NULL",
                                    "COLLATION_NAME": "NULL",
                                    "DOMAIN_CATALOG": "NULL",
                                    "DOMAIN_SCHEMA": "NULL",
                                    "DOMAIN_NAME": "NULL"
                                },
                                {
                                    "TABLE_CATALOG": "TFM",
                                    "TABLE_SCHEMA": "dbo",
                                    "TABLE_NAME": "Walmart_Sales",
                                    "COLUMN_NAME": "Weekly_Sales",
                                    "ORDINAL_POSITION": "3",
                                    "COLUMN_DEFAULT": "NULL",
                                    "IS_NULLABLE": "NO",
                                    "DATA_TYPE": "float",
                                    "CHARACTER_MAXIMUM_LENGTH": "NULL",
                                    "CHARACTER_OCTET_LENGTH": "NULL",
                                    "NUMERIC_PRECISION": "53",
                                    "NUMERIC_PRECISION_RADIX": "2",
                                    "NUMERIC_SCALE": "NULL",
                                    "DATETIME_PRECISION": "NULL",
                                    "CHARACTER_SET_CATALOG": "NULL",
                                    "CHARACTER_SET_SCHEMA": "NULL",
                                    "CHARACTER_SET_NAME": "NULL",
                                    "COLLATION_CATALOG": "NULL",
                                    "COLLATION_SCHEMA": "NULL",
                                    "COLLATION_NAME": "NULL",
                                    "DOMAIN_CATALOG": "NULL",
                                    "DOMAIN_SCHEMA": "NULL",
                                    "DOMAIN_NAME": "NULL"
                                },
                                {
                                    "TABLE_CATALOG": "TFM",
                                    "TABLE_SCHEMA": "dbo",
                                    "TABLE_NAME": "Walmart_Sales",
                                    "COLUMN_NAME": "Holiday_Flag",
                                    "ORDINAL_POSITION": "4",
                                    "COLUMN_DEFAULT": "NULL",
                                    "IS_NULLABLE": "YES",
                                    "DATA_TYPE": "int",
                                    "CHARACTER_MAXIMUM_LENGTH": "NULL",
                                    "CHARACTER_OCTET_LENGTH": "NULL",
                                    "NUMERIC_PRECISION": "10",
                                    "NUMERIC_PRECISION_RADIX": "10",
                                    "NUMERIC_SCALE": "0",
                                    "DATETIME_PRECISION": "NULL",
                                    "CHARACTER_SET_CATALOG": "NULL",
                                    "CHARACTER_SET_SCHEMA": "NULL",
                                    "CHARACTER_SET_NAME": "NULL",
                                    "COLLATION_CATALOG": "NULL",
                                    "COLLATION_SCHEMA": "NULL",
                                    "COLLATION_NAME": "NULL",
                                    "DOMAIN_CATALOG": "NULL",
                                    "DOMAIN_SCHEMA": "NULL",
                                    "DOMAIN_NAME": "NULL"
                                },
                                {
                                    "TABLE_CATALOG": "TFM",
                                    "TABLE_SCHEMA": "dbo",
                                    "TABLE_NAME": "Walmart_Sales",
                                    "COLUMN_NAME": "Temperature",
                                    "ORDINAL_POSITION": "5",
                                    "COLUMN_DEFAULT": "NULL",
                                    "IS_NULLABLE": "YES",
                                    "DATA_TYPE": "float",
                                    "CHARACTER_MAXIMUM_LENGTH": "NULL",
                                    "CHARACTER_OCTET_LENGTH": "NULL",
                                    "NUMERIC_PRECISION": "53",
                                    "NUMERIC_PRECISION_RADIX": "2",
                                    "NUMERIC_SCALE": "NULL",
                                    "DATETIME_PRECISION": "NULL",
                                    "CHARACTER_SET_CATALOG": "NULL",
                                    "CHARACTER_SET_SCHEMA": "NULL",
                                    "CHARACTER_SET_NAME": "NULL",
                                    "COLLATION_CATALOG": "NULL",
                                    "COLLATION_SCHEMA": "NULL",
                                    "COLLATION_NAME": "NULL",
                                    "DOMAIN_CATALOG": "NULL",
                                    "DOMAIN_SCHEMA": "NULL",
                                    "DOMAIN_NAME": "NULL"
                                },
                                {
                                    "TABLE_CATALOG": "TFM",
                                    "TABLE_SCHEMA": "dbo",
                                    "TABLE_NAME": "Walmart_Sales",
                                    "COLUMN_NAME": "Fuel_Price",
                                    "ORDINAL_POSITION": "6",
                                    "COLUMN_DEFAULT": "NULL",
                                    "IS_NULLABLE": "YES",
                                    "DATA_TYPE": "float",
                                    "CHARACTER_MAXIMUM_LENGTH": "NULL",
                                    "CHARACTER_OCTET_LENGTH": "NULL",
                                    "NUMERIC_PRECISION": "53",
                                    "NUMERIC_PRECISION_RADIX": "2",
                                    "NUMERIC_SCALE": "NULL",
                                    "DATETIME_PRECISION": "NULL",
                                    "CHARACTER_SET_CATALOG": "NULL",
                                    "CHARACTER_SET_SCHEMA": "NULL",
                                    "CHARACTER_SET_NAME": "NULL",
                                    "COLLATION_CATALOG": "NULL",
                                    "COLLATION_SCHEMA": "NULL",
                                    "COLLATION_NAME": "NULL",
                                    "DOMAIN_CATALOG": "NULL",
                                    "DOMAIN_SCHEMA": "NULL",
                                    "DOMAIN_NAME": "NULL"
                                },
                                {
                                    "TABLE_CATALOG": "TFM",
                                    "TABLE_SCHEMA": "dbo",
                                    "TABLE_NAME": "Walmart_Sales",
                                    "COLUMN_NAME": "CPI",
                                    "ORDINAL_POSITION": "7",
                                    "COLUMN_DEFAULT": "NULL",
                                    "IS_NULLABLE": "NO",
                                    "DATA_TYPE": "float",
                                    "CHARACTER_MAXIMUM_LENGTH": "NULL",
                                    "CHARACTER_OCTET_LENGTH": "NULL",
                                    "NUMERIC_PRECISION": "53",
                                    "NUMERIC_PRECISION_RADIX": "2",
                                    "NUMERIC_SCALE": "NULL",
                                    "DATETIME_PRECISION": "NULL",
                                    "CHARACTER_SET_CATALOG": "NULL",
                                    "CHARACTER_SET_SCHEMA": "NULL",
                                    "CHARACTER_SET_NAME": "NULL",
                                    "COLLATION_CATALOG": "NULL",
                                    "COLLATION_SCHEMA": "NULL",
                                    "COLLATION_NAME": "NULL",
                                    "DOMAIN_CATALOG": "NULL",
                                    "DOMAIN_SCHEMA": "NULL",
                                    "DOMAIN_NAME": "NULL"
                                },
                                {
                                    "TABLE_CATALOG": "TFM",
                                    "TABLE_SCHEMA": "dbo",
                                    "TABLE_NAME": "Walmart_Sales",
                                    "COLUMN_NAME": "Unemployment",
                                    "ORDINAL_POSITION": "8",
                                    "COLUMN_DEFAULT": "NULL",
                                    "IS_NULLABLE": "YES",
                                    "DATA_TYPE": "float",
                                    "CHARACTER_MAXIMUM_LENGTH": "NULL",
                                    "CHARACTER_OCTET_LENGTH": "NULL",
                                    "NUMERIC_PRECISION": "53",
                                    "NUMERIC_PRECISION_RADIX": "2",
                                    "NUMERIC_SCALE": "NULL",
                                    "DATETIME_PRECISION": "NULL",
                                    "CHARACTER_SET_CATALOG": "NULL",
                                    "CHARACTER_SET_SCHEMA": "NULL",
                                    "CHARACTER_SET_NAME": "NULL",
                                    "COLLATION_CATALOG": "NULL",
                                    "COLLATION_SCHEMA": "NULL",
                                    "COLLATION_NAME": "NULL",
                                    "DOMAIN_CATALOG": "NULL",
                                    "DOMAIN_SCHEMA": "NULL",
                                    "DOMAIN_NAME": "NULL"
                                }
                            ]
                        },
                        "text/html": "<table><tr><th>TABLE_CATALOG</th><th>TABLE_SCHEMA</th><th>TABLE_NAME</th><th>COLUMN_NAME</th><th>ORDINAL_POSITION</th><th>COLUMN_DEFAULT</th><th>IS_NULLABLE</th><th>DATA_TYPE</th><th>CHARACTER_MAXIMUM_LENGTH</th><th>CHARACTER_OCTET_LENGTH</th><th>NUMERIC_PRECISION</th><th>NUMERIC_PRECISION_RADIX</th><th>NUMERIC_SCALE</th><th>DATETIME_PRECISION</th><th>CHARACTER_SET_CATALOG</th><th>CHARACTER_SET_SCHEMA</th><th>CHARACTER_SET_NAME</th><th>COLLATION_CATALOG</th><th>COLLATION_SCHEMA</th><th>COLLATION_NAME</th><th>DOMAIN_CATALOG</th><th>DOMAIN_SCHEMA</th><th>DOMAIN_NAME</th></tr><tr><td>TFM</td><td>dbo</td><td>Walmart_Sales</td><td>Store</td><td>1</td><td>NULL</td><td>YES</td><td>int</td><td>NULL</td><td>NULL</td><td>10</td><td>10</td><td>0</td><td>NULL</td><td>NULL</td><td>NULL</td><td>NULL</td><td>NULL</td><td>NULL</td><td>NULL</td><td>NULL</td><td>NULL</td><td>NULL</td></tr><tr><td>TFM</td><td>dbo</td><td>Walmart_Sales</td><td>Date</td><td>2</td><td>NULL</td><td>NO</td><td>date</td><td>NULL</td><td>NULL</td><td>NULL</td><td>NULL</td><td>NULL</td><td>0</td><td>NULL</td><td>NULL</td><td>NULL</td><td>NULL</td><td>NULL</td><td>NULL</td><td>NULL</td><td>NULL</td><td>NULL</td></tr><tr><td>TFM</td><td>dbo</td><td>Walmart_Sales</td><td>Weekly_Sales</td><td>3</td><td>NULL</td><td>NO</td><td>float</td><td>NULL</td><td>NULL</td><td>53</td><td>2</td><td>NULL</td><td>NULL</td><td>NULL</td><td>NULL</td><td>NULL</td><td>NULL</td><td>NULL</td><td>NULL</td><td>NULL</td><td>NULL</td><td>NULL</td></tr><tr><td>TFM</td><td>dbo</td><td>Walmart_Sales</td><td>Holiday_Flag</td><td>4</td><td>NULL</td><td>YES</td><td>int</td><td>NULL</td><td>NULL</td><td>10</td><td>10</td><td>0</td><td>NULL</td><td>NULL</td><td>NULL</td><td>NULL</td><td>NULL</td><td>NULL</td><td>NULL</td><td>NULL</td><td>NULL</td><td>NULL</td></tr><tr><td>TFM</td><td>dbo</td><td>Walmart_Sales</td><td>Temperature</td><td>5</td><td>NULL</td><td>YES</td><td>float</td><td>NULL</td><td>NULL</td><td>53</td><td>2</td><td>NULL</td><td>NULL</td><td>NULL</td><td>NULL</td><td>NULL</td><td>NULL</td><td>NULL</td><td>NULL</td><td>NULL</td><td>NULL</td><td>NULL</td></tr><tr><td>TFM</td><td>dbo</td><td>Walmart_Sales</td><td>Fuel_Price</td><td>6</td><td>NULL</td><td>YES</td><td>float</td><td>NULL</td><td>NULL</td><td>53</td><td>2</td><td>NULL</td><td>NULL</td><td>NULL</td><td>NULL</td><td>NULL</td><td>NULL</td><td>NULL</td><td>NULL</td><td>NULL</td><td>NULL</td><td>NULL</td></tr><tr><td>TFM</td><td>dbo</td><td>Walmart_Sales</td><td>CPI</td><td>7</td><td>NULL</td><td>NO</td><td>float</td><td>NULL</td><td>NULL</td><td>53</td><td>2</td><td>NULL</td><td>NULL</td><td>NULL</td><td>NULL</td><td>NULL</td><td>NULL</td><td>NULL</td><td>NULL</td><td>NULL</td><td>NULL</td><td>NULL</td></tr><tr><td>TFM</td><td>dbo</td><td>Walmart_Sales</td><td>Unemployment</td><td>8</td><td>NULL</td><td>YES</td><td>float</td><td>NULL</td><td>NULL</td><td>53</td><td>2</td><td>NULL</td><td>NULL</td><td>NULL</td><td>NULL</td><td>NULL</td><td>NULL</td><td>NULL</td><td>NULL</td><td>NULL</td><td>NULL</td><td>NULL</td></tr></table>"
                    },
                    "metadata": {}
                }
            ],
            "execution_count": 78
        },
        {
            "cell_type": "markdown",
            "source": [
                "## **Verificación de la integridad de los datos.**\r\n",
                "<span style=\"font-size: 18px;\">\r\n",
                "Dado que se realizó actualización del tipo de datos que reciben las columnas Store, Temperature, Fuel_Price y Unemployment. Procedemos a verificar la integridad de los datos. Es decir, vamos a ver que no existan registros Null.\r\n",
                "</span>"
            ],
            "metadata": {
                "language": "sql",
                "azdata_cell_guid": "17c15811-e270-4223-952d-b5fea5198572"
            },
            "attachments": {}
        },
        {
            "cell_type": "code",
            "source": [
                "-- # 3.\r\n",
                "SELECT \r\n",
                "    COUNT(*) AS TotalFilas,\r\n",
                "    SUM(CASE WHEN Store IS NULL THEN 1 ELSE 0 END) AS Nulls_Store,\r\n",
                "    SUM(CASE WHEN [Date] IS NULL THEN 1 ELSE 0 END) AS Nulls_Date,\r\n",
                "    SUM(CASE WHEN Weekly_Sales IS NULL THEN 1 ELSE 0 END) AS Nulls_Weekly_Sales,\r\n",
                "    SUM(CASE WHEN Holiday_Flag IS NULL THEN 1 ELSE 0 END) AS Nulls_Holiday_Flag,\r\n",
                "    SUM(CASE WHEN Temperature IS NULL THEN 1 ELSE 0 END) AS Nulls_Temperature,\r\n",
                "    SUM(CASE WHEN Fuel_Price IS NULL THEN 1 ELSE 0 END) AS Nulls_Fuel_Price,\r\n",
                "    SUM(CASE WHEN CPI IS NULL THEN 1 ELSE 0 END) AS Nulls_CPI,\r\n",
                "    SUM(CASE WHEN Unemployment IS NULL THEN 1 ELSE 0 END) AS Nulls_Unemployment\r\n",
                "FROM Walmart_Sales;"
            ],
            "metadata": {
                "language": "sql",
                "azdata_cell_guid": "18df1ff5-40ef-477d-9a91-c90bcf69a0b3"
            },
            "outputs": [
                {
                    "output_type": "display_data",
                    "data": {
                        "text/html": "(1 row affected)"
                    },
                    "metadata": {}
                },
                {
                    "output_type": "display_data",
                    "data": {
                        "text/html": "Total execution time: 00:00:00.014"
                    },
                    "metadata": {}
                },
                {
                    "output_type": "execute_result",
                    "execution_count": 79,
                    "data": {
                        "application/vnd.dataresource+json": {
                            "schema": {
                                "fields": [
                                    {
                                        "name": "TotalFilas"
                                    },
                                    {
                                        "name": "Nulls_Store"
                                    },
                                    {
                                        "name": "Nulls_Date"
                                    },
                                    {
                                        "name": "Nulls_Weekly_Sales"
                                    },
                                    {
                                        "name": "Nulls_Holiday_Flag"
                                    },
                                    {
                                        "name": "Nulls_Temperature"
                                    },
                                    {
                                        "name": "Nulls_Fuel_Price"
                                    },
                                    {
                                        "name": "Nulls_CPI"
                                    },
                                    {
                                        "name": "Nulls_Unemployment"
                                    }
                                ]
                            },
                            "data": [
                                {
                                    "TotalFilas": "6435",
                                    "Nulls_Store": "0",
                                    "Nulls_Date": "0",
                                    "Nulls_Weekly_Sales": "0",
                                    "Nulls_Holiday_Flag": "0",
                                    "Nulls_Temperature": "0",
                                    "Nulls_Fuel_Price": "0",
                                    "Nulls_CPI": "0",
                                    "Nulls_Unemployment": "0"
                                }
                            ]
                        },
                        "text/html": "<table><tr><th>TotalFilas</th><th>Nulls_Store</th><th>Nulls_Date</th><th>Nulls_Weekly_Sales</th><th>Nulls_Holiday_Flag</th><th>Nulls_Temperature</th><th>Nulls_Fuel_Price</th><th>Nulls_CPI</th><th>Nulls_Unemployment</th></tr><tr><td>6435</td><td>0</td><td>0</td><td>0</td><td>0</td><td>0</td><td>0</td><td>0</td><td>0</td></tr></table>"
                    },
                    "metadata": {}
                }
            ],
            "execution_count": 79
        },
        {
            "cell_type": "code",
            "source": [
                "-- # 3.\r\n",
                "SELECT \r\n",
                "    COUNT(*) AS TotalFilas,\r\n",
                "    SUM(CASE WHEN LTRIM(RTRIM(CAST(Store AS VARCHAR(MAX)))) = '' THEN 1 ELSE 0 END) AS Empty_Store,\r\n",
                "    SUM(CASE WHEN LTRIM(RTRIM(CAST([Date] AS VARCHAR(MAX)))) = '' THEN 1 ELSE 0 END) AS Empty_Date,\r\n",
                "    SUM(CASE WHEN LTRIM(RTRIM(CAST(Weekly_Sales AS VARCHAR(MAX)))) = '' THEN 1 ELSE 0 END) AS Empty_Weekly_Sales,\r\n",
                "    SUM(CASE WHEN LTRIM(RTRIM(CAST(Holiday_Flag AS VARCHAR(MAX)))) = '' THEN 1 ELSE 0 END) AS Empty_Holiday_Flag,\r\n",
                "    SUM(CASE WHEN LTRIM(RTRIM(CAST(Temperature AS VARCHAR(MAX)))) = '' THEN 1 ELSE 0 END) AS Empty_Temperature,\r\n",
                "    SUM(CASE WHEN LTRIM(RTRIM(CAST(Fuel_Price AS VARCHAR(MAX)))) = '' THEN 1 ELSE 0 END) AS Empty_Fuel_Price,\r\n",
                "    SUM(CASE WHEN LTRIM(RTRIM(CAST(CPI AS VARCHAR(MAX)))) = '' THEN 1 ELSE 0 END) AS Empty_CPI,\r\n",
                "    SUM(CASE WHEN LTRIM(RTRIM(CAST(Unemployment AS VARCHAR(MAX)))) = '' THEN 1 ELSE 0 END) AS Empty_Unemployment\r\n",
                "FROM Walmart_Sales;"
            ],
            "metadata": {
                "language": "sql",
                "azdata_cell_guid": "17ed4d8d-9bc3-48d0-a6af-1ed070d841e6",
                "tags": []
            },
            "outputs": [
                {
                    "output_type": "display_data",
                    "data": {
                        "text/html": "(1 row affected)"
                    },
                    "metadata": {}
                },
                {
                    "output_type": "display_data",
                    "data": {
                        "text/html": "Total execution time: 00:00:00.188"
                    },
                    "metadata": {}
                },
                {
                    "output_type": "execute_result",
                    "execution_count": 80,
                    "data": {
                        "application/vnd.dataresource+json": {
                            "schema": {
                                "fields": [
                                    {
                                        "name": "TotalFilas"
                                    },
                                    {
                                        "name": "Empty_Store"
                                    },
                                    {
                                        "name": "Empty_Date"
                                    },
                                    {
                                        "name": "Empty_Weekly_Sales"
                                    },
                                    {
                                        "name": "Empty_Holiday_Flag"
                                    },
                                    {
                                        "name": "Empty_Temperature"
                                    },
                                    {
                                        "name": "Empty_Fuel_Price"
                                    },
                                    {
                                        "name": "Empty_CPI"
                                    },
                                    {
                                        "name": "Empty_Unemployment"
                                    }
                                ]
                            },
                            "data": [
                                {
                                    "TotalFilas": "6435",
                                    "Empty_Store": "0",
                                    "Empty_Date": "0",
                                    "Empty_Weekly_Sales": "0",
                                    "Empty_Holiday_Flag": "0",
                                    "Empty_Temperature": "0",
                                    "Empty_Fuel_Price": "0",
                                    "Empty_CPI": "0",
                                    "Empty_Unemployment": "0"
                                }
                            ]
                        },
                        "text/html": "<table><tr><th>TotalFilas</th><th>Empty_Store</th><th>Empty_Date</th><th>Empty_Weekly_Sales</th><th>Empty_Holiday_Flag</th><th>Empty_Temperature</th><th>Empty_Fuel_Price</th><th>Empty_CPI</th><th>Empty_Unemployment</th></tr><tr><td>6435</td><td>0</td><td>0</td><td>0</td><td>0</td><td>0</td><td>0</td><td>0</td><td>0</td></tr></table>"
                    },
                    "metadata": {}
                }
            ],
            "execution_count": 80
        },
        {
            "cell_type": "markdown",
            "source": [
                "<span style=\"font-size: 18px;\">\r\n",
                "Esto es perfecto!\r\n",
                "En la tabla no hay valores Null ni registros vacios.\r\n",
                "</span>"
            ],
            "metadata": {
                "language": "sql",
                "azdata_cell_guid": "9e2dc908-9b7f-4090-afaf-e8750195b36e"
            },
            "attachments": {}
        },
        {
            "cell_type": "markdown",
            "source": [
                "## **Transformación del formato de la Fecha.**\n",
                "\n",
                "<span style=\"font-size:18px;\">A modo de solicitud, la fecha se transformó del formato AAAA-MM-DD al formato DD-MM-AAA.</span>"
            ],
            "metadata": {
                "language": "sql",
                "azdata_cell_guid": "38e9709f-1a85-43f8-b221-c8cd433b34cf"
            },
            "attachments": {}
        },
        {
            "cell_type": "code",
            "source": [
                "ALTER TABLE Walmart_Sales\r\n",
                "ALTER COLUMN [Date] NVARCHAR(10);"
            ],
            "metadata": {
                "language": "sql",
                "azdata_cell_guid": "b553129f-491b-41aa-8c20-df990c7b2268",
                "tags": []
            },
            "outputs": [
                {
                    "output_type": "display_data",
                    "data": {
                        "text/html": "Commands completed successfully."
                    },
                    "metadata": {}
                },
                {
                    "output_type": "display_data",
                    "data": {
                        "text/html": "Total execution time: 00:00:00.088"
                    },
                    "metadata": {}
                }
            ],
            "execution_count": 81
        },
        {
            "cell_type": "code",
            "source": [
                "UPDATE Walmart_Sales\r\n",
                "SET [Date] = CONVERT(nvarchar(10), CONVERT(date, [Date], 120), 105);"
            ],
            "metadata": {
                "language": "sql",
                "azdata_cell_guid": "2241286e-2251-4521-9f39-85eddae0d55a",
                "tags": []
            },
            "outputs": [
                {
                    "output_type": "display_data",
                    "data": {
                        "text/html": "(6435 rows affected)"
                    },
                    "metadata": {}
                },
                {
                    "output_type": "display_data",
                    "data": {
                        "text/html": "Total execution time: 00:00:00.052"
                    },
                    "metadata": {}
                }
            ],
            "execution_count": 82
        },
        {
            "cell_type": "code",
            "source": [
                "select TOP 5 *from Walmart_Sales;"
            ],
            "metadata": {
                "language": "sql",
                "azdata_cell_guid": "c16a1202-366b-4574-ae74-a7597c98a83f"
            },
            "outputs": [
                {
                    "output_type": "display_data",
                    "data": {
                        "text/html": "(5 rows affected)"
                    },
                    "metadata": {}
                },
                {
                    "output_type": "display_data",
                    "data": {
                        "text/html": "Total execution time: 00:00:00.004"
                    },
                    "metadata": {}
                },
                {
                    "output_type": "execute_result",
                    "execution_count": 83,
                    "data": {
                        "application/vnd.dataresource+json": {
                            "schema": {
                                "fields": [
                                    {
                                        "name": "Store"
                                    },
                                    {
                                        "name": "Date"
                                    },
                                    {
                                        "name": "Weekly_Sales"
                                    },
                                    {
                                        "name": "Holiday_Flag"
                                    },
                                    {
                                        "name": "Temperature"
                                    },
                                    {
                                        "name": "Fuel_Price"
                                    },
                                    {
                                        "name": "CPI"
                                    },
                                    {
                                        "name": "Unemployment"
                                    }
                                ]
                            },
                            "data": [
                                {
                                    "Store": "1",
                                    "Date": "05-02-2010",
                                    "Weekly_Sales": "16436909",
                                    "Holiday_Flag": "0",
                                    "Temperature": "42.31",
                                    "Fuel_Price": "2.572",
                                    "CPI": "2110963584",
                                    "Unemployment": "8.106"
                                },
                                {
                                    "Store": "1",
                                    "Date": "12-02-2010",
                                    "Weekly_Sales": "164195744",
                                    "Holiday_Flag": "1",
                                    "Temperature": "38.51",
                                    "Fuel_Price": "2.548",
                                    "CPI": "2112421760",
                                    "Unemployment": "8.106"
                                },
                                {
                                    "Store": "1",
                                    "Date": "19-02-2010",
                                    "Weekly_Sales": "161196816",
                                    "Holiday_Flag": "0",
                                    "Temperature": "39.93",
                                    "Fuel_Price": "2.514",
                                    "CPI": "2112891392",
                                    "Unemployment": "8.106"
                                },
                                {
                                    "Store": "1",
                                    "Date": "26-02-2010",
                                    "Weekly_Sales": "140972752",
                                    "Holiday_Flag": "0",
                                    "Temperature": "46.63",
                                    "Fuel_Price": "2.561",
                                    "CPI": "2113196416",
                                    "Unemployment": "8.106"
                                },
                                {
                                    "Store": "1",
                                    "Date": "05-03-2010",
                                    "Weekly_Sales": "155480672",
                                    "Holiday_Flag": "0",
                                    "Temperature": "46.5",
                                    "Fuel_Price": "2.625",
                                    "CPI": "2113501440",
                                    "Unemployment": "8.106"
                                }
                            ]
                        },
                        "text/html": "<table><tr><th>Store</th><th>Date</th><th>Weekly_Sales</th><th>Holiday_Flag</th><th>Temperature</th><th>Fuel_Price</th><th>CPI</th><th>Unemployment</th></tr><tr><td>1</td><td>05-02-2010</td><td>16436909</td><td>0</td><td>42.31</td><td>2.572</td><td>2110963584</td><td>8.106</td></tr><tr><td>1</td><td>12-02-2010</td><td>164195744</td><td>1</td><td>38.51</td><td>2.548</td><td>2112421760</td><td>8.106</td></tr><tr><td>1</td><td>19-02-2010</td><td>161196816</td><td>0</td><td>39.93</td><td>2.514</td><td>2112891392</td><td>8.106</td></tr><tr><td>1</td><td>26-02-2010</td><td>140972752</td><td>0</td><td>46.63</td><td>2.561</td><td>2113196416</td><td>8.106</td></tr><tr><td>1</td><td>05-03-2010</td><td>155480672</td><td>0</td><td>46.5</td><td>2.625</td><td>2113501440</td><td>8.106</td></tr></table>"
                    },
                    "metadata": {}
                }
            ],
            "execution_count": 83
        },
        {
            "cell_type": "code",
            "source": [
                "SELECT \r\n",
                "    MIN(CONVERT(date, [Date], 105)) AS FechaMinima,\r\n",
                "    MAX(CONVERT(date, [Date], 105)) AS FechaMaxima\r\n",
                "FROM Walmart_Sales;"
            ],
            "metadata": {
                "azdata_cell_guid": "57f1204e-2403-4431-8319-aed24e450f6f",
                "language": "sql"
            },
            "outputs": [
                {
                    "output_type": "display_data",
                    "data": {
                        "text/html": "(1 row affected)"
                    },
                    "metadata": {}
                },
                {
                    "output_type": "display_data",
                    "data": {
                        "text/html": "Total execution time: 00:00:00.041"
                    },
                    "metadata": {}
                },
                {
                    "output_type": "execute_result",
                    "execution_count": 84,
                    "data": {
                        "application/vnd.dataresource+json": {
                            "schema": {
                                "fields": [
                                    {
                                        "name": "FechaMinima"
                                    },
                                    {
                                        "name": "FechaMaxima"
                                    }
                                ]
                            },
                            "data": [
                                {
                                    "FechaMinima": "2010-02-05",
                                    "FechaMaxima": "2012-10-26"
                                }
                            ]
                        },
                        "text/html": "<table><tr><th>FechaMinima</th><th>FechaMaxima</th></tr><tr><td>2010-02-05</td><td>2012-10-26</td></tr></table>"
                    },
                    "metadata": {}
                }
            ],
            "execution_count": 84
        },
        {
            "cell_type": "markdown",
            "source": [
                "## **Creación de columna Holiday_Events.**\r\n",
                "<span style=\"font-size: 18px;\">\r\n",
                "\r\n",
                "Esta columna se completó asignando las clases Super Bowl, Labour Day, Thanksgiving y Christmas a las fechas correspondientes. Para el resto de los registros, se asignó la clase No aplica.\r\n",
                "\r\n",
                "A continuación, se detallan las fechas asociadas a cada clase:\r\n",
                "\r\n",
                "- Super Bowl: 12-Feb-2010, 11-Feb-2011, 10-Feb-2012, 8-Feb-2013.\r\n",
                "- Labour Day: 10-Sep-2010, 9-Sep-2011, 7-Sep-2012, 6-Sep-2013.\r\n",
                "- Thanksgiving: 26-Nov-2010, 25-Nov-2011, 23-Nov-2012, 29-Nov-2013.\r\n",
                "- Christmas: 31-Dec-2010, 30-Dec-2011, 28-Dec-2012, 27-Dec-2013.\r\n",
                "</span>"
            ],
            "metadata": {
                "language": "sql",
                "azdata_cell_guid": "ce9a10cf-37ac-482e-86d8-c61b5937cafd"
            },
            "attachments": {}
        },
        {
            "cell_type": "code",
            "source": [
                "-- # 5.\r\n",
                "ALTER TABLE Walmart_Sales\r\n",
                "ADD Holiday_Events NVARCHAR(14);"
            ],
            "metadata": {
                "language": "sql",
                "azdata_cell_guid": "08800215-03f1-4fdf-a390-7fb413e2f92b",
                "tags": []
            },
            "outputs": [
                {
                    "output_type": "display_data",
                    "data": {
                        "text/html": "Commands completed successfully."
                    },
                    "metadata": {}
                },
                {
                    "output_type": "display_data",
                    "data": {
                        "text/html": "Total execution time: 00:00:00.002"
                    },
                    "metadata": {}
                }
            ],
            "execution_count": 85
        },
        {
            "cell_type": "code",
            "source": [
                "UPDATE Walmart_Sales\r\n",
                "SET Holiday_Events = \r\n",
                "  CASE \r\n",
                "    WHEN [Date] IN ('12-02-2010', '11-02-2011', '10-02-2012') THEN 'Super Bowl'\r\n",
                "    WHEN [Date] IN ('10-09-2010', '09-09-2011', '07-09-2012') THEN 'Labour Day'\r\n",
                "    WHEN [Date] IN ('26-11-2010', '25-11-2011', '23-11-2012') THEN 'Thanksgiving'\r\n",
                "    WHEN [Date] IN ('31-12-2010', '30-12-2011', '28-12-2012') THEN 'Christmas'\r\n",
                "    ELSE COALESCE(Holiday_Events, 'No aplica')\r\n",
                "  END;"
            ],
            "metadata": {
                "language": "sql",
                "azdata_cell_guid": "aeb2afef-92f4-442b-b745-e42088ee927b",
                "tags": []
            },
            "outputs": [
                {
                    "output_type": "display_data",
                    "data": {
                        "text/html": "(6435 rows affected)"
                    },
                    "metadata": {}
                },
                {
                    "output_type": "display_data",
                    "data": {
                        "text/html": "Total execution time: 00:00:00.125"
                    },
                    "metadata": {}
                }
            ],
            "execution_count": 86
        },
        {
            "cell_type": "markdown",
            "source": [
                "## **CPI corrección a tres dígitos enteros y el resto en decimal**\r\n",
                "<span style=\"font-size: 18px;\">\r\n",
                "Dado que los valores almacenados en la columna eran números sin decimales, y según la guía se especifica que el campo CPI debe ser un valor numérico con tres cifras enteras y el resto en decimales, se realizó la corrección correspondiente.\r\n",
                "</span>"
            ],
            "metadata": {
                "language": "sql",
                "azdata_cell_guid": "f4888cb1-cfb6-428c-be2a-072f47fd14c2"
            },
            "attachments": {}
        },
        {
            "cell_type": "code",
            "source": [
                "UPDATE Walmart_Sales\r\n",
                "SET CPI = STUFF(TRIM(STR(CPI, 20)), 4, 0, '.');"
            ],
            "metadata": {
                "language": "sql",
                "azdata_cell_guid": "5532fdec-636b-4eee-9051-1fecb2393ec4"
            },
            "outputs": [
                {
                    "output_type": "display_data",
                    "data": {
                        "text/html": "(6435 rows affected)"
                    },
                    "metadata": {}
                },
                {
                    "output_type": "display_data",
                    "data": {
                        "text/html": "Total execution time: 00:00:00.084"
                    },
                    "metadata": {}
                }
            ],
            "execution_count": 153
        },
        {
            "cell_type": "code",
            "source": [
                "select TOP 50 *from Walmart_Sales;"
            ],
            "metadata": {
                "language": "sql",
                "azdata_cell_guid": "36eba363-18da-4e3d-ba82-7b849bba7d66"
            },
            "outputs": [
                {
                    "output_type": "display_data",
                    "data": {
                        "text/html": "(50 rows affected)"
                    },
                    "metadata": {}
                },
                {
                    "output_type": "display_data",
                    "data": {
                        "text/html": "Total execution time: 00:00:00.004"
                    },
                    "metadata": {}
                },
                {
                    "output_type": "execute_result",
                    "execution_count": 154,
                    "data": {
                        "application/vnd.dataresource+json": {
                            "schema": {
                                "fields": [
                                    {
                                        "name": "Store"
                                    },
                                    {
                                        "name": "Date"
                                    },
                                    {
                                        "name": "Weekly_Sales"
                                    },
                                    {
                                        "name": "Holiday_Flag"
                                    },
                                    {
                                        "name": "Temperature"
                                    },
                                    {
                                        "name": "Fuel_Price"
                                    },
                                    {
                                        "name": "CPI"
                                    },
                                    {
                                        "name": "Unemployment"
                                    },
                                    {
                                        "name": "Holiday_Events"
                                    }
                                ]
                            },
                            "data": [
                                {
                                    "Store": "1",
                                    "Date": "05-02-2010",
                                    "Weekly_Sales": "16436909",
                                    "Holiday_Flag": "0",
                                    "Temperature": "42.31",
                                    "Fuel_Price": "2.572",
                                    "CPI": "211.0963584",
                                    "Unemployment": "8.106",
                                    "Holiday_Events": "No aplica"
                                },
                                {
                                    "Store": "1",
                                    "Date": "12-02-2010",
                                    "Weekly_Sales": "164195744",
                                    "Holiday_Flag": "1",
                                    "Temperature": "38.51",
                                    "Fuel_Price": "2.548",
                                    "CPI": "211.242176",
                                    "Unemployment": "8.106",
                                    "Holiday_Events": "Super Bowl"
                                },
                                {
                                    "Store": "1",
                                    "Date": "19-02-2010",
                                    "Weekly_Sales": "161196816",
                                    "Holiday_Flag": "0",
                                    "Temperature": "39.93",
                                    "Fuel_Price": "2.514",
                                    "CPI": "211.2891392",
                                    "Unemployment": "8.106",
                                    "Holiday_Events": "No aplica"
                                },
                                {
                                    "Store": "1",
                                    "Date": "26-02-2010",
                                    "Weekly_Sales": "140972752",
                                    "Holiday_Flag": "0",
                                    "Temperature": "46.63",
                                    "Fuel_Price": "2.561",
                                    "CPI": "211.3196416",
                                    "Unemployment": "8.106",
                                    "Holiday_Events": "No aplica"
                                },
                                {
                                    "Store": "1",
                                    "Date": "05-03-2010",
                                    "Weekly_Sales": "155480672",
                                    "Holiday_Flag": "0",
                                    "Temperature": "46.5",
                                    "Fuel_Price": "2.625",
                                    "CPI": "211.350144",
                                    "Unemployment": "8.106",
                                    "Holiday_Events": "No aplica"
                                },
                                {
                                    "Store": "1",
                                    "Date": "12-03-2010",
                                    "Weekly_Sales": "143954160",
                                    "Holiday_Flag": "0",
                                    "Temperature": "57.79",
                                    "Fuel_Price": "2.667",
                                    "CPI": "211.3806464",
                                    "Unemployment": "8.106",
                                    "Holiday_Events": "No aplica"
                                },
                                {
                                    "Store": "1",
                                    "Date": "19-03-2010",
                                    "Weekly_Sales": "147251584",
                                    "Holiday_Flag": "0",
                                    "Temperature": "54.58",
                                    "Fuel_Price": "2.72",
                                    "CPI": "211.215632",
                                    "Unemployment": "8.106",
                                    "Holiday_Events": "No aplica"
                                },
                                {
                                    "Store": "1",
                                    "Date": "26-03-2010",
                                    "Weekly_Sales": "140442992",
                                    "Holiday_Flag": "0",
                                    "Temperature": "51.45",
                                    "Fuel_Price": "2.732",
                                    "CPI": "211.018048",
                                    "Unemployment": "8.106",
                                    "Holiday_Events": "No aplica"
                                },
                                {
                                    "Store": "1",
                                    "Date": "02-04-2010",
                                    "Weekly_Sales": "159496832",
                                    "Holiday_Flag": "0",
                                    "Temperature": "62.27",
                                    "Fuel_Price": "2.719",
                                    "CPI": "210.8204544",
                                    "Unemployment": "7.808",
                                    "Holiday_Events": "No aplica"
                                },
                                {
                                    "Store": "1",
                                    "Date": "09-04-2010",
                                    "Weekly_Sales": "154541856",
                                    "Holiday_Flag": "0",
                                    "Temperature": "65.86",
                                    "Fuel_Price": "2.77",
                                    "CPI": "210.6228608",
                                    "Unemployment": "7.808",
                                    "Holiday_Events": "No aplica"
                                },
                                {
                                    "Store": "1",
                                    "Date": "16-04-2010",
                                    "Weekly_Sales": "146605824",
                                    "Holiday_Flag": "0",
                                    "Temperature": "66.32",
                                    "Fuel_Price": "2.808",
                                    "CPI": "210.4887",
                                    "Unemployment": "7.808",
                                    "Holiday_Events": "No aplica"
                                },
                                {
                                    "Store": "1",
                                    "Date": "23-04-2010",
                                    "Weekly_Sales": "139125616",
                                    "Holiday_Flag": "0",
                                    "Temperature": "64.84",
                                    "Fuel_Price": "2.795",
                                    "CPI": "210.4391168",
                                    "Unemployment": "7.808",
                                    "Holiday_Events": "No aplica"
                                },
                                {
                                    "Store": "1",
                                    "Date": "30-04-2010",
                                    "Weekly_Sales": "142510064",
                                    "Holiday_Flag": "0",
                                    "Temperature": "67.41",
                                    "Fuel_Price": "2.78",
                                    "CPI": "210.3895424",
                                    "Unemployment": "7.808",
                                    "Holiday_Events": "No aplica"
                                },
                                {
                                    "Store": "1",
                                    "Date": "07-05-2010",
                                    "Weekly_Sales": "160395520",
                                    "Holiday_Flag": "0",
                                    "Temperature": "72.55",
                                    "Fuel_Price": "2.835",
                                    "CPI": "210.339968",
                                    "Unemployment": "7.808",
                                    "Holiday_Events": "No aplica"
                                },
                                {
                                    "Store": "1",
                                    "Date": "14-05-2010",
                                    "Weekly_Sales": "14942515",
                                    "Holiday_Flag": "0",
                                    "Temperature": "74.78",
                                    "Fuel_Price": "2.854",
                                    "CPI": "210.3374208",
                                    "Unemployment": "7.808",
                                    "Holiday_Events": "No aplica"
                                },
                                {
                                    "Store": "1",
                                    "Date": "21-05-2010",
                                    "Weekly_Sales": "139966208",
                                    "Holiday_Flag": "0",
                                    "Temperature": "76.44",
                                    "Fuel_Price": "2.826",
                                    "CPI": "210.617088",
                                    "Unemployment": "7.808",
                                    "Holiday_Events": "No aplica"
                                },
                                {
                                    "Store": "1",
                                    "Date": "28-05-2010",
                                    "Weekly_Sales": "143206992",
                                    "Holiday_Flag": "0",
                                    "Temperature": "80.44",
                                    "Fuel_Price": "2.759",
                                    "CPI": "210.8967552",
                                    "Unemployment": "7.808",
                                    "Holiday_Events": "No aplica"
                                },
                                {
                                    "Store": "1",
                                    "Date": "04-06-2010",
                                    "Weekly_Sales": "161552464",
                                    "Holiday_Flag": "0",
                                    "Temperature": "80.69",
                                    "Fuel_Price": "2.705",
                                    "CPI": "211.1764224",
                                    "Unemployment": "7.808",
                                    "Holiday_Events": "No aplica"
                                },
                                {
                                    "Store": "1",
                                    "Date": "11-06-2010",
                                    "Weekly_Sales": "154256112",
                                    "Holiday_Flag": "0",
                                    "Temperature": "80.43",
                                    "Fuel_Price": "2.668",
                                    "CPI": "211.4560896",
                                    "Unemployment": "7.808",
                                    "Holiday_Events": "No aplica"
                                },
                                {
                                    "Store": "1",
                                    "Date": "18-06-2010",
                                    "Weekly_Sales": "150328400",
                                    "Holiday_Flag": "0",
                                    "Temperature": "84.11",
                                    "Fuel_Price": "2.637",
                                    "CPI": "211.4537728",
                                    "Unemployment": "7.808",
                                    "Holiday_Events": "No aplica"
                                },
                                {
                                    "Store": "1",
                                    "Date": "25-06-2010",
                                    "Weekly_Sales": "14227116",
                                    "Holiday_Flag": "0",
                                    "Temperature": "84.34",
                                    "Fuel_Price": "2.653",
                                    "CPI": "211.3386496",
                                    "Unemployment": "7.808",
                                    "Holiday_Events": "No aplica"
                                },
                                {
                                    "Store": "1",
                                    "Date": "02-07-2010",
                                    "Weekly_Sales": "149241808",
                                    "Holiday_Flag": "0",
                                    "Temperature": "80.91",
                                    "Fuel_Price": "2.669",
                                    "CPI": "211.2235392",
                                    "Unemployment": "7.787",
                                    "Holiday_Events": "No aplica"
                                },
                                {
                                    "Store": "1",
                                    "Date": "09-07-2010",
                                    "Weekly_Sales": "154607424",
                                    "Holiday_Flag": "0",
                                    "Temperature": "80.48",
                                    "Fuel_Price": "2.642",
                                    "CPI": "211.108416",
                                    "Unemployment": "7.787",
                                    "Holiday_Events": "No aplica"
                                },
                                {
                                    "Store": "1",
                                    "Date": "16-07-2010",
                                    "Weekly_Sales": "144893888",
                                    "Holiday_Flag": "0",
                                    "Temperature": "83.15",
                                    "Fuel_Price": "2.623",
                                    "CPI": "211.1003904",
                                    "Unemployment": "7.787",
                                    "Holiday_Events": "No aplica"
                                },
                                {
                                    "Store": "1",
                                    "Date": "23-07-2010",
                                    "Weekly_Sales": "13850652",
                                    "Holiday_Flag": "0",
                                    "Temperature": "83.36",
                                    "Fuel_Price": "2.608",
                                    "CPI": "211.2351488",
                                    "Unemployment": "7.787",
                                    "Holiday_Events": "No aplica"
                                },
                                {
                                    "Store": "1",
                                    "Date": "30-07-2010",
                                    "Weekly_Sales": "13719866",
                                    "Holiday_Flag": "0",
                                    "Temperature": "81.84",
                                    "Fuel_Price": "2.64",
                                    "CPI": "211.3699072",
                                    "Unemployment": "7.787",
                                    "Holiday_Events": "No aplica"
                                },
                                {
                                    "Store": "1",
                                    "Date": "06-08-2010",
                                    "Weekly_Sales": "160549184",
                                    "Holiday_Flag": "0",
                                    "Temperature": "87.16",
                                    "Fuel_Price": "2.627",
                                    "CPI": "211.5046656",
                                    "Unemployment": "7.787",
                                    "Holiday_Events": "No aplica"
                                },
                                {
                                    "Store": "1",
                                    "Date": "13-08-2010",
                                    "Weekly_Sales": "150823776",
                                    "Holiday_Flag": "0",
                                    "Temperature": "87",
                                    "Fuel_Price": "2.692",
                                    "CPI": "211.639424",
                                    "Unemployment": "7.787",
                                    "Holiday_Events": "No aplica"
                                },
                                {
                                    "Store": "1",
                                    "Date": "20-08-2010",
                                    "Weekly_Sales": "151308048",
                                    "Holiday_Flag": "0",
                                    "Temperature": "86.65",
                                    "Fuel_Price": "2.664",
                                    "CPI": "211.6033664",
                                    "Unemployment": "7.787",
                                    "Holiday_Events": "No aplica"
                                },
                                {
                                    "Store": "1",
                                    "Date": "27-08-2010",
                                    "Weekly_Sales": "144914288",
                                    "Holiday_Flag": "0",
                                    "Temperature": "85.22",
                                    "Fuel_Price": "2.619",
                                    "CPI": "211.5673088",
                                    "Unemployment": "7.787",
                                    "Holiday_Events": "No aplica"
                                },
                                {
                                    "Store": "1",
                                    "Date": "03-09-2010",
                                    "Weekly_Sales": "154016352",
                                    "Holiday_Flag": "0",
                                    "Temperature": "81.21",
                                    "Fuel_Price": "2.577",
                                    "CPI": "211.5312512",
                                    "Unemployment": "7.787",
                                    "Holiday_Events": "No aplica"
                                },
                                {
                                    "Store": "1",
                                    "Date": "10-09-2010",
                                    "Weekly_Sales": "150746064",
                                    "Holiday_Flag": "1",
                                    "Temperature": "78.69",
                                    "Fuel_Price": "2.565",
                                    "CPI": "211.4951936",
                                    "Unemployment": "7.787",
                                    "Holiday_Events": "Labour Day"
                                },
                                {
                                    "Store": "1",
                                    "Date": "17-09-2010",
                                    "Weekly_Sales": "143037872",
                                    "Holiday_Flag": "0",
                                    "Temperature": "82.11",
                                    "Fuel_Price": "2.582",
                                    "CPI": "211.5224576",
                                    "Unemployment": "7.787",
                                    "Holiday_Events": "No aplica"
                                },
                                {
                                    "Store": "1",
                                    "Date": "24-09-2010",
                                    "Weekly_Sales": "135179104",
                                    "Holiday_Flag": "0",
                                    "Temperature": "80.94",
                                    "Fuel_Price": "2.624",
                                    "CPI": "211.5972224",
                                    "Unemployment": "7.787",
                                    "Holiday_Events": "No aplica"
                                },
                                {
                                    "Store": "1",
                                    "Date": "01-10-2010",
                                    "Weekly_Sales": "14533295",
                                    "Holiday_Flag": "0",
                                    "Temperature": "71.89",
                                    "Fuel_Price": "2.603",
                                    "CPI": "211.6719872",
                                    "Unemployment": "7.838",
                                    "Holiday_Events": "No aplica"
                                },
                                {
                                    "Store": "1",
                                    "Date": "08-10-2010",
                                    "Weekly_Sales": "150824000",
                                    "Holiday_Flag": "0",
                                    "Temperature": "63.93",
                                    "Fuel_Price": "2.633",
                                    "CPI": "211.746752",
                                    "Unemployment": "7.838",
                                    "Holiday_Events": "No aplica"
                                },
                                {
                                    "Store": "1",
                                    "Date": "15-10-2010",
                                    "Weekly_Sales": "14594091",
                                    "Holiday_Flag": "0",
                                    "Temperature": "67.18",
                                    "Fuel_Price": "2.72",
                                    "CPI": "211.8137472",
                                    "Unemployment": "7.838",
                                    "Holiday_Events": "No aplica"
                                },
                                {
                                    "Store": "1",
                                    "Date": "22-10-2010",
                                    "Weekly_Sales": "1345454",
                                    "Holiday_Flag": "0",
                                    "Temperature": "69.86",
                                    "Fuel_Price": "2.725",
                                    "CPI": "211.8612992",
                                    "Unemployment": "7.838",
                                    "Holiday_Events": "No aplica"
                                },
                                {
                                    "Store": "1",
                                    "Date": "29-10-2010",
                                    "Weekly_Sales": "138420928",
                                    "Holiday_Flag": "0",
                                    "Temperature": "69.64",
                                    "Fuel_Price": "2.716",
                                    "CPI": "211.9088384",
                                    "Unemployment": "7.838",
                                    "Holiday_Events": "No aplica"
                                },
                                {
                                    "Store": "1",
                                    "Date": "05-11-2010",
                                    "Weekly_Sales": "155165920",
                                    "Holiday_Flag": "0",
                                    "Temperature": "58.74",
                                    "Fuel_Price": "2.689",
                                    "CPI": "211.9563904",
                                    "Unemployment": "7.838",
                                    "Holiday_Events": "No aplica"
                                },
                                {
                                    "Store": "1",
                                    "Date": "12-11-2010",
                                    "Weekly_Sales": "149447952",
                                    "Holiday_Flag": "0",
                                    "Temperature": "59.61",
                                    "Fuel_Price": "2.728",
                                    "CPI": "212.003936",
                                    "Unemployment": "7.838",
                                    "Holiday_Events": "No aplica"
                                },
                                {
                                    "Store": "1",
                                    "Date": "19-11-2010",
                                    "Weekly_Sales": "148378416",
                                    "Holiday_Flag": "0",
                                    "Temperature": "51.41",
                                    "Fuel_Price": "2.771",
                                    "CPI": "211.8896768",
                                    "Unemployment": "7.838",
                                    "Holiday_Events": "No aplica"
                                },
                                {
                                    "Store": "1",
                                    "Date": "26-11-2010",
                                    "Weekly_Sales": "195562416",
                                    "Holiday_Flag": "1",
                                    "Temperature": "64.52",
                                    "Fuel_Price": "2.735",
                                    "CPI": "211.7484288",
                                    "Unemployment": "7.838",
                                    "Holiday_Events": "Thanksgiving"
                                },
                                {
                                    "Store": "1",
                                    "Date": "03-12-2010",
                                    "Weekly_Sales": "154803376",
                                    "Holiday_Flag": "0",
                                    "Temperature": "49.27",
                                    "Fuel_Price": "2.708",
                                    "CPI": "211.6072",
                                    "Unemployment": "7.838",
                                    "Holiday_Events": "No aplica"
                                },
                                {
                                    "Store": "1",
                                    "Date": "10-12-2010",
                                    "Weekly_Sales": "168261424",
                                    "Holiday_Flag": "0",
                                    "Temperature": "46.33",
                                    "Fuel_Price": "2.843",
                                    "CPI": "211.4659584",
                                    "Unemployment": "7.838",
                                    "Holiday_Events": "No aplica"
                                },
                                {
                                    "Store": "1",
                                    "Date": "17-12-2010",
                                    "Weekly_Sales": "189103488",
                                    "Holiday_Flag": "0",
                                    "Temperature": "49.84",
                                    "Fuel_Price": "2.869",
                                    "CPI": "211.405312",
                                    "Unemployment": "7.838",
                                    "Holiday_Events": "No aplica"
                                },
                                {
                                    "Store": "1",
                                    "Date": "24-12-2010",
                                    "Weekly_Sales": "23879502",
                                    "Holiday_Flag": "0",
                                    "Temperature": "52.33",
                                    "Fuel_Price": "2.886",
                                    "CPI": "211.40512",
                                    "Unemployment": "7.838",
                                    "Holiday_Events": "No aplica"
                                },
                                {
                                    "Store": "1",
                                    "Date": "31-12-2010",
                                    "Weekly_Sales": "136732000",
                                    "Holiday_Flag": "1",
                                    "Temperature": "48.43",
                                    "Fuel_Price": "2.943",
                                    "CPI": "211.404928",
                                    "Unemployment": "7.838",
                                    "Holiday_Events": "Christmas"
                                },
                                {
                                    "Store": "1",
                                    "Date": "07-01-2011",
                                    "Weekly_Sales": "144473232",
                                    "Holiday_Flag": "0",
                                    "Temperature": "48.27",
                                    "Fuel_Price": "2.976",
                                    "CPI": "211.404736",
                                    "Unemployment": "7.742",
                                    "Holiday_Events": "No aplica"
                                },
                                {
                                    "Store": "1",
                                    "Date": "14-01-2011",
                                    "Weekly_Sales": "139101392",
                                    "Holiday_Flag": "0",
                                    "Temperature": "35.4",
                                    "Fuel_Price": "2.983",
                                    "CPI": "211.457408",
                                    "Unemployment": "7.742",
                                    "Holiday_Events": "No aplica"
                                }
                            ]
                        },
                        "text/html": "<table><tr><th>Store</th><th>Date</th><th>Weekly_Sales</th><th>Holiday_Flag</th><th>Temperature</th><th>Fuel_Price</th><th>CPI</th><th>Unemployment</th><th>Holiday_Events</th></tr><tr><td>1</td><td>05-02-2010</td><td>16436909</td><td>0</td><td>42.31</td><td>2.572</td><td>211.0963584</td><td>8.106</td><td>No aplica</td></tr><tr><td>1</td><td>12-02-2010</td><td>164195744</td><td>1</td><td>38.51</td><td>2.548</td><td>211.242176</td><td>8.106</td><td>Super Bowl</td></tr><tr><td>1</td><td>19-02-2010</td><td>161196816</td><td>0</td><td>39.93</td><td>2.514</td><td>211.2891392</td><td>8.106</td><td>No aplica</td></tr><tr><td>1</td><td>26-02-2010</td><td>140972752</td><td>0</td><td>46.63</td><td>2.561</td><td>211.3196416</td><td>8.106</td><td>No aplica</td></tr><tr><td>1</td><td>05-03-2010</td><td>155480672</td><td>0</td><td>46.5</td><td>2.625</td><td>211.350144</td><td>8.106</td><td>No aplica</td></tr><tr><td>1</td><td>12-03-2010</td><td>143954160</td><td>0</td><td>57.79</td><td>2.667</td><td>211.3806464</td><td>8.106</td><td>No aplica</td></tr><tr><td>1</td><td>19-03-2010</td><td>147251584</td><td>0</td><td>54.58</td><td>2.72</td><td>211.215632</td><td>8.106</td><td>No aplica</td></tr><tr><td>1</td><td>26-03-2010</td><td>140442992</td><td>0</td><td>51.45</td><td>2.732</td><td>211.018048</td><td>8.106</td><td>No aplica</td></tr><tr><td>1</td><td>02-04-2010</td><td>159496832</td><td>0</td><td>62.27</td><td>2.719</td><td>210.8204544</td><td>7.808</td><td>No aplica</td></tr><tr><td>1</td><td>09-04-2010</td><td>154541856</td><td>0</td><td>65.86</td><td>2.77</td><td>210.6228608</td><td>7.808</td><td>No aplica</td></tr><tr><td>1</td><td>16-04-2010</td><td>146605824</td><td>0</td><td>66.32</td><td>2.808</td><td>210.4887</td><td>7.808</td><td>No aplica</td></tr><tr><td>1</td><td>23-04-2010</td><td>139125616</td><td>0</td><td>64.84</td><td>2.795</td><td>210.4391168</td><td>7.808</td><td>No aplica</td></tr><tr><td>1</td><td>30-04-2010</td><td>142510064</td><td>0</td><td>67.41</td><td>2.78</td><td>210.3895424</td><td>7.808</td><td>No aplica</td></tr><tr><td>1</td><td>07-05-2010</td><td>160395520</td><td>0</td><td>72.55</td><td>2.835</td><td>210.339968</td><td>7.808</td><td>No aplica</td></tr><tr><td>1</td><td>14-05-2010</td><td>14942515</td><td>0</td><td>74.78</td><td>2.854</td><td>210.3374208</td><td>7.808</td><td>No aplica</td></tr><tr><td>1</td><td>21-05-2010</td><td>139966208</td><td>0</td><td>76.44</td><td>2.826</td><td>210.617088</td><td>7.808</td><td>No aplica</td></tr><tr><td>1</td><td>28-05-2010</td><td>143206992</td><td>0</td><td>80.44</td><td>2.759</td><td>210.8967552</td><td>7.808</td><td>No aplica</td></tr><tr><td>1</td><td>04-06-2010</td><td>161552464</td><td>0</td><td>80.69</td><td>2.705</td><td>211.1764224</td><td>7.808</td><td>No aplica</td></tr><tr><td>1</td><td>11-06-2010</td><td>154256112</td><td>0</td><td>80.43</td><td>2.668</td><td>211.4560896</td><td>7.808</td><td>No aplica</td></tr><tr><td>1</td><td>18-06-2010</td><td>150328400</td><td>0</td><td>84.11</td><td>2.637</td><td>211.4537728</td><td>7.808</td><td>No aplica</td></tr><tr><td>1</td><td>25-06-2010</td><td>14227116</td><td>0</td><td>84.34</td><td>2.653</td><td>211.3386496</td><td>7.808</td><td>No aplica</td></tr><tr><td>1</td><td>02-07-2010</td><td>149241808</td><td>0</td><td>80.91</td><td>2.669</td><td>211.2235392</td><td>7.787</td><td>No aplica</td></tr><tr><td>1</td><td>09-07-2010</td><td>154607424</td><td>0</td><td>80.48</td><td>2.642</td><td>211.108416</td><td>7.787</td><td>No aplica</td></tr><tr><td>1</td><td>16-07-2010</td><td>144893888</td><td>0</td><td>83.15</td><td>2.623</td><td>211.1003904</td><td>7.787</td><td>No aplica</td></tr><tr><td>1</td><td>23-07-2010</td><td>13850652</td><td>0</td><td>83.36</td><td>2.608</td><td>211.2351488</td><td>7.787</td><td>No aplica</td></tr><tr><td>1</td><td>30-07-2010</td><td>13719866</td><td>0</td><td>81.84</td><td>2.64</td><td>211.3699072</td><td>7.787</td><td>No aplica</td></tr><tr><td>1</td><td>06-08-2010</td><td>160549184</td><td>0</td><td>87.16</td><td>2.627</td><td>211.5046656</td><td>7.787</td><td>No aplica</td></tr><tr><td>1</td><td>13-08-2010</td><td>150823776</td><td>0</td><td>87</td><td>2.692</td><td>211.639424</td><td>7.787</td><td>No aplica</td></tr><tr><td>1</td><td>20-08-2010</td><td>151308048</td><td>0</td><td>86.65</td><td>2.664</td><td>211.6033664</td><td>7.787</td><td>No aplica</td></tr><tr><td>1</td><td>27-08-2010</td><td>144914288</td><td>0</td><td>85.22</td><td>2.619</td><td>211.5673088</td><td>7.787</td><td>No aplica</td></tr><tr><td>1</td><td>03-09-2010</td><td>154016352</td><td>0</td><td>81.21</td><td>2.577</td><td>211.5312512</td><td>7.787</td><td>No aplica</td></tr><tr><td>1</td><td>10-09-2010</td><td>150746064</td><td>1</td><td>78.69</td><td>2.565</td><td>211.4951936</td><td>7.787</td><td>Labour Day</td></tr><tr><td>1</td><td>17-09-2010</td><td>143037872</td><td>0</td><td>82.11</td><td>2.582</td><td>211.5224576</td><td>7.787</td><td>No aplica</td></tr><tr><td>1</td><td>24-09-2010</td><td>135179104</td><td>0</td><td>80.94</td><td>2.624</td><td>211.5972224</td><td>7.787</td><td>No aplica</td></tr><tr><td>1</td><td>01-10-2010</td><td>14533295</td><td>0</td><td>71.89</td><td>2.603</td><td>211.6719872</td><td>7.838</td><td>No aplica</td></tr><tr><td>1</td><td>08-10-2010</td><td>150824000</td><td>0</td><td>63.93</td><td>2.633</td><td>211.746752</td><td>7.838</td><td>No aplica</td></tr><tr><td>1</td><td>15-10-2010</td><td>14594091</td><td>0</td><td>67.18</td><td>2.72</td><td>211.8137472</td><td>7.838</td><td>No aplica</td></tr><tr><td>1</td><td>22-10-2010</td><td>1345454</td><td>0</td><td>69.86</td><td>2.725</td><td>211.8612992</td><td>7.838</td><td>No aplica</td></tr><tr><td>1</td><td>29-10-2010</td><td>138420928</td><td>0</td><td>69.64</td><td>2.716</td><td>211.9088384</td><td>7.838</td><td>No aplica</td></tr><tr><td>1</td><td>05-11-2010</td><td>155165920</td><td>0</td><td>58.74</td><td>2.689</td><td>211.9563904</td><td>7.838</td><td>No aplica</td></tr><tr><td>1</td><td>12-11-2010</td><td>149447952</td><td>0</td><td>59.61</td><td>2.728</td><td>212.003936</td><td>7.838</td><td>No aplica</td></tr><tr><td>1</td><td>19-11-2010</td><td>148378416</td><td>0</td><td>51.41</td><td>2.771</td><td>211.8896768</td><td>7.838</td><td>No aplica</td></tr><tr><td>1</td><td>26-11-2010</td><td>195562416</td><td>1</td><td>64.52</td><td>2.735</td><td>211.7484288</td><td>7.838</td><td>Thanksgiving</td></tr><tr><td>1</td><td>03-12-2010</td><td>154803376</td><td>0</td><td>49.27</td><td>2.708</td><td>211.6072</td><td>7.838</td><td>No aplica</td></tr><tr><td>1</td><td>10-12-2010</td><td>168261424</td><td>0</td><td>46.33</td><td>2.843</td><td>211.4659584</td><td>7.838</td><td>No aplica</td></tr><tr><td>1</td><td>17-12-2010</td><td>189103488</td><td>0</td><td>49.84</td><td>2.869</td><td>211.405312</td><td>7.838</td><td>No aplica</td></tr><tr><td>1</td><td>24-12-2010</td><td>23879502</td><td>0</td><td>52.33</td><td>2.886</td><td>211.40512</td><td>7.838</td><td>No aplica</td></tr><tr><td>1</td><td>31-12-2010</td><td>136732000</td><td>1</td><td>48.43</td><td>2.943</td><td>211.404928</td><td>7.838</td><td>Christmas</td></tr><tr><td>1</td><td>07-01-2011</td><td>144473232</td><td>0</td><td>48.27</td><td>2.976</td><td>211.404736</td><td>7.742</td><td>No aplica</td></tr><tr><td>1</td><td>14-01-2011</td><td>139101392</td><td>0</td><td>35.4</td><td>2.983</td><td>211.457408</td><td>7.742</td><td>No aplica</td></tr></table>"
                    },
                    "metadata": {}
                }
            ],
            "execution_count": 154
        },
        {
            "cell_type": "markdown",
            "source": [
                "## **Resultados y conclusiones**\r\n",
                "\r\n",
                "<span style=\"font-size: 18px;\">\r\n",
                "\r\n",
                "La tabla \"Walmart_Sale\" ha sido depurada y transformada para su uso en diversos análisis exploratorios de datos. Se asegura que las columnas que almacenan valores numéricos sean del tipo BIT, INT o FLOAT. Asimismo, se garantiza la ausencia de valores faltantes o NULL.\r\n",
                "\r\n",
                "En conclusión, los datos están completamente preparados para su utilización.\r\n",
                "</span>"
            ],
            "metadata": {
                "azdata_cell_guid": "020083cc-3eff-4a41-9a4a-ea3795e55d24"
            },
            "attachments": {}
        }
    ]
}