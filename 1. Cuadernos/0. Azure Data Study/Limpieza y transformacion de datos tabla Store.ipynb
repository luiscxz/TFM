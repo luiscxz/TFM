{
    "metadata": {
        "kernelspec": {
            "name": "SQL",
            "display_name": "SQL",
            "language": "sql"
        },
        "language_info": {
            "name": "sql",
            "version": ""
        }
    },
    "nbformat_minor": 2,
    "nbformat": 4,
    "cells": [
        {
            "cell_type": "markdown",
            "source": [
                "# **Limpieza y transformación de los datos de la tabla Store**"
            ],
            "metadata": {
                "azdata_cell_guid": "d2ea4206-f82c-451f-aca3-a1a0a5aa5991"
            },
            "attachments": {}
        },
        {
            "cell_type": "markdown",
            "source": [
                "# Tabla de Contenido\r\n",
                "- [TABLA STORE](#tabla-store)\r\n",
                "  - [Columna City](#columna-city)\r\n",
                "  - [Columna Open_Date](#Columna-open_date)\r\n",
                "  - [Columna Zip_Code](#Columna-zip_code)\r\n",
                "  - [Columna Phone](#Columna-phone)\r\n",
                "  - [Columna Email](#Columna-email)\r\n",
                "  - [Resultados y conclusiones](#Resultados-y-conclusiones)"
            ],
            "metadata": {
                "azdata_cell_guid": "55e8ba88-b172-41bd-b224-f554a88500ff"
            },
            "attachments": {}
        },
        {
            "cell_type": "markdown",
            "source": [
                "\r\n",
                "<span style=\"font-size: 18px;\">\r\n",
                "En el análisis de los datos de la tabla Store, se identificaron las siguientes observaciones:\r\n",
                "\r\n",
                "1. La tabla <b>Store</b> contiene un total de 45 registros distribuidos en 6 columnas.\r\n",
                "1. La columna <b>City</b>  incluye 32 nombres de ciudades que requieren conversión a un formato estándar.\r\n",
                "1. La columna <b>Open_Date</b> presenta 3 registros con fechas en un formato inválido.\r\n",
                "1. La columna <b>Zip_Code</b> tiene 9 registros con caracteres no numéricos.\r\n",
                "1. La columna <b>Phone</b> contiene 35 registros con caracteres no numéricos.\r\n",
                "1. La columna <b>Email</b> cuenta con 13 correos electrónicos que no cumplen con el formato estándar (nombre@dominio.es).\r\n",
                "\r\n",
                "A continuación, se procede  a realizar las correcciones necesarias en los datos de esta tabla para garantizar su calidad y consistencia. Esto involucra lo siguiente:\r\n",
                "\r\n",
                "1. Consulta de información sobre las columnas, incluyendo su nombre y tipo de dato.\r\n",
                "1. Limpieza y estandarización de los datos en la columna \"City\".\r\n",
                "1. Corrección de fechas con formato inválido.\r\n",
                "1. Eliminación de caracteres no numéricos en la columna \"Zip_Code\".\r\n",
                "1. Eliminación de caracteres no numéricos en la columna \"Phone\".\r\n",
                "1. Corrección de correos electrónicos con formato inválido.\r\n",
                "\r\n",
                "</span>"
            ],
            "metadata": {
                "azdata_cell_guid": "fc58d7db-76bf-4d29-8619-4fdfd0e3d091"
            },
            "attachments": {}
        },
        {
            "cell_type": "code",
            "source": [
                "-- # 1.\r\n",
                "USE TFM;\r\n",
                "SELECT *FROM INFORMATION_SCHEMA.COLUMNS\r\n",
                "WHERE TABLE_NAME = 'Store'\r\n",
                "--BACKUP DATABASE TFM\r\n",
                "--TO DISK = 'D:\\6. NEXER\\master\\Solucion TFM\\0. Data SQL\\1. Bakup Data'"
            ],
            "metadata": {
                "azdata_cell_guid": "74ff06eb-12b0-4936-bc88-8acfa6a45a95",
                "language": "sql",
                "tags": []
            },
            "outputs": [
                {
                    "output_type": "display_data",
                    "data": {
                        "text/html": "(6 rows affected)"
                    },
                    "metadata": {}
                },
                {
                    "output_type": "display_data",
                    "data": {
                        "text/html": "Total execution time: 00:00:00.088"
                    },
                    "metadata": {}
                },
                {
                    "output_type": "execute_result",
                    "execution_count": 12,
                    "data": {
                        "application/vnd.dataresource+json": {
                            "schema": {
                                "fields": [
                                    {
                                        "name": "TABLE_CATALOG"
                                    },
                                    {
                                        "name": "TABLE_SCHEMA"
                                    },
                                    {
                                        "name": "TABLE_NAME"
                                    },
                                    {
                                        "name": "COLUMN_NAME"
                                    },
                                    {
                                        "name": "ORDINAL_POSITION"
                                    },
                                    {
                                        "name": "COLUMN_DEFAULT"
                                    },
                                    {
                                        "name": "IS_NULLABLE"
                                    },
                                    {
                                        "name": "DATA_TYPE"
                                    },
                                    {
                                        "name": "CHARACTER_MAXIMUM_LENGTH"
                                    },
                                    {
                                        "name": "CHARACTER_OCTET_LENGTH"
                                    },
                                    {
                                        "name": "NUMERIC_PRECISION"
                                    },
                                    {
                                        "name": "NUMERIC_PRECISION_RADIX"
                                    },
                                    {
                                        "name": "NUMERIC_SCALE"
                                    },
                                    {
                                        "name": "DATETIME_PRECISION"
                                    },
                                    {
                                        "name": "CHARACTER_SET_CATALOG"
                                    },
                                    {
                                        "name": "CHARACTER_SET_SCHEMA"
                                    },
                                    {
                                        "name": "CHARACTER_SET_NAME"
                                    },
                                    {
                                        "name": "COLLATION_CATALOG"
                                    },
                                    {
                                        "name": "COLLATION_SCHEMA"
                                    },
                                    {
                                        "name": "COLLATION_NAME"
                                    },
                                    {
                                        "name": "DOMAIN_CATALOG"
                                    },
                                    {
                                        "name": "DOMAIN_SCHEMA"
                                    },
                                    {
                                        "name": "DOMAIN_NAME"
                                    }
                                ]
                            },
                            "data": [
                                {
                                    "TABLE_CATALOG": "TFM",
                                    "TABLE_SCHEMA": "dbo",
                                    "TABLE_NAME": "Store",
                                    "COLUMN_NAME": "Store_ID",
                                    "ORDINAL_POSITION": "1",
                                    "COLUMN_DEFAULT": "NULL",
                                    "IS_NULLABLE": "NO",
                                    "DATA_TYPE": "tinyint",
                                    "CHARACTER_MAXIMUM_LENGTH": "NULL",
                                    "CHARACTER_OCTET_LENGTH": "NULL",
                                    "NUMERIC_PRECISION": "3",
                                    "NUMERIC_PRECISION_RADIX": "10",
                                    "NUMERIC_SCALE": "0",
                                    "DATETIME_PRECISION": "NULL",
                                    "CHARACTER_SET_CATALOG": "NULL",
                                    "CHARACTER_SET_SCHEMA": "NULL",
                                    "CHARACTER_SET_NAME": "NULL",
                                    "COLLATION_CATALOG": "NULL",
                                    "COLLATION_SCHEMA": "NULL",
                                    "COLLATION_NAME": "NULL",
                                    "DOMAIN_CATALOG": "NULL",
                                    "DOMAIN_SCHEMA": "NULL",
                                    "DOMAIN_NAME": "NULL"
                                },
                                {
                                    "TABLE_CATALOG": "TFM",
                                    "TABLE_SCHEMA": "dbo",
                                    "TABLE_NAME": "Store",
                                    "COLUMN_NAME": "City",
                                    "ORDINAL_POSITION": "2",
                                    "COLUMN_DEFAULT": "NULL",
                                    "IS_NULLABLE": "NO",
                                    "DATA_TYPE": "nvarchar",
                                    "CHARACTER_MAXIMUM_LENGTH": "50",
                                    "CHARACTER_OCTET_LENGTH": "100",
                                    "NUMERIC_PRECISION": "NULL",
                                    "NUMERIC_PRECISION_RADIX": "NULL",
                                    "NUMERIC_SCALE": "NULL",
                                    "DATETIME_PRECISION": "NULL",
                                    "CHARACTER_SET_CATALOG": "NULL",
                                    "CHARACTER_SET_SCHEMA": "NULL",
                                    "CHARACTER_SET_NAME": "UNICODE",
                                    "COLLATION_CATALOG": "NULL",
                                    "COLLATION_SCHEMA": "NULL",
                                    "COLLATION_NAME": "Modern_Spanish_100_CI_AI",
                                    "DOMAIN_CATALOG": "NULL",
                                    "DOMAIN_SCHEMA": "NULL",
                                    "DOMAIN_NAME": "NULL"
                                },
                                {
                                    "TABLE_CATALOG": "TFM",
                                    "TABLE_SCHEMA": "dbo",
                                    "TABLE_NAME": "Store",
                                    "COLUMN_NAME": "Open_Date",
                                    "ORDINAL_POSITION": "3",
                                    "COLUMN_DEFAULT": "NULL",
                                    "IS_NULLABLE": "NO",
                                    "DATA_TYPE": "nvarchar",
                                    "CHARACTER_MAXIMUM_LENGTH": "50",
                                    "CHARACTER_OCTET_LENGTH": "100",
                                    "NUMERIC_PRECISION": "NULL",
                                    "NUMERIC_PRECISION_RADIX": "NULL",
                                    "NUMERIC_SCALE": "NULL",
                                    "DATETIME_PRECISION": "NULL",
                                    "CHARACTER_SET_CATALOG": "NULL",
                                    "CHARACTER_SET_SCHEMA": "NULL",
                                    "CHARACTER_SET_NAME": "UNICODE",
                                    "COLLATION_CATALOG": "NULL",
                                    "COLLATION_SCHEMA": "NULL",
                                    "COLLATION_NAME": "Modern_Spanish_100_CI_AI",
                                    "DOMAIN_CATALOG": "NULL",
                                    "DOMAIN_SCHEMA": "NULL",
                                    "DOMAIN_NAME": "NULL"
                                },
                                {
                                    "TABLE_CATALOG": "TFM",
                                    "TABLE_SCHEMA": "dbo",
                                    "TABLE_NAME": "Store",
                                    "COLUMN_NAME": "Zip_Code",
                                    "ORDINAL_POSITION": "4",
                                    "COLUMN_DEFAULT": "NULL",
                                    "IS_NULLABLE": "NO",
                                    "DATA_TYPE": "nvarchar",
                                    "CHARACTER_MAXIMUM_LENGTH": "50",
                                    "CHARACTER_OCTET_LENGTH": "100",
                                    "NUMERIC_PRECISION": "NULL",
                                    "NUMERIC_PRECISION_RADIX": "NULL",
                                    "NUMERIC_SCALE": "NULL",
                                    "DATETIME_PRECISION": "NULL",
                                    "CHARACTER_SET_CATALOG": "NULL",
                                    "CHARACTER_SET_SCHEMA": "NULL",
                                    "CHARACTER_SET_NAME": "UNICODE",
                                    "COLLATION_CATALOG": "NULL",
                                    "COLLATION_SCHEMA": "NULL",
                                    "COLLATION_NAME": "Modern_Spanish_100_CI_AI",
                                    "DOMAIN_CATALOG": "NULL",
                                    "DOMAIN_SCHEMA": "NULL",
                                    "DOMAIN_NAME": "NULL"
                                },
                                {
                                    "TABLE_CATALOG": "TFM",
                                    "TABLE_SCHEMA": "dbo",
                                    "TABLE_NAME": "Store",
                                    "COLUMN_NAME": "Phone",
                                    "ORDINAL_POSITION": "5",
                                    "COLUMN_DEFAULT": "NULL",
                                    "IS_NULLABLE": "NO",
                                    "DATA_TYPE": "nvarchar",
                                    "CHARACTER_MAXIMUM_LENGTH": "50",
                                    "CHARACTER_OCTET_LENGTH": "100",
                                    "NUMERIC_PRECISION": "NULL",
                                    "NUMERIC_PRECISION_RADIX": "NULL",
                                    "NUMERIC_SCALE": "NULL",
                                    "DATETIME_PRECISION": "NULL",
                                    "CHARACTER_SET_CATALOG": "NULL",
                                    "CHARACTER_SET_SCHEMA": "NULL",
                                    "CHARACTER_SET_NAME": "UNICODE",
                                    "COLLATION_CATALOG": "NULL",
                                    "COLLATION_SCHEMA": "NULL",
                                    "COLLATION_NAME": "Modern_Spanish_100_CI_AI",
                                    "DOMAIN_CATALOG": "NULL",
                                    "DOMAIN_SCHEMA": "NULL",
                                    "DOMAIN_NAME": "NULL"
                                },
                                {
                                    "TABLE_CATALOG": "TFM",
                                    "TABLE_SCHEMA": "dbo",
                                    "TABLE_NAME": "Store",
                                    "COLUMN_NAME": "Email",
                                    "ORDINAL_POSITION": "6",
                                    "COLUMN_DEFAULT": "NULL",
                                    "IS_NULLABLE": "NO",
                                    "DATA_TYPE": "nvarchar",
                                    "CHARACTER_MAXIMUM_LENGTH": "50",
                                    "CHARACTER_OCTET_LENGTH": "100",
                                    "NUMERIC_PRECISION": "NULL",
                                    "NUMERIC_PRECISION_RADIX": "NULL",
                                    "NUMERIC_SCALE": "NULL",
                                    "DATETIME_PRECISION": "NULL",
                                    "CHARACTER_SET_CATALOG": "NULL",
                                    "CHARACTER_SET_SCHEMA": "NULL",
                                    "CHARACTER_SET_NAME": "UNICODE",
                                    "COLLATION_CATALOG": "NULL",
                                    "COLLATION_SCHEMA": "NULL",
                                    "COLLATION_NAME": "Modern_Spanish_100_CI_AI",
                                    "DOMAIN_CATALOG": "NULL",
                                    "DOMAIN_SCHEMA": "NULL",
                                    "DOMAIN_NAME": "NULL"
                                }
                            ]
                        },
                        "text/html": "<table><tr><th>TABLE_CATALOG</th><th>TABLE_SCHEMA</th><th>TABLE_NAME</th><th>COLUMN_NAME</th><th>ORDINAL_POSITION</th><th>COLUMN_DEFAULT</th><th>IS_NULLABLE</th><th>DATA_TYPE</th><th>CHARACTER_MAXIMUM_LENGTH</th><th>CHARACTER_OCTET_LENGTH</th><th>NUMERIC_PRECISION</th><th>NUMERIC_PRECISION_RADIX</th><th>NUMERIC_SCALE</th><th>DATETIME_PRECISION</th><th>CHARACTER_SET_CATALOG</th><th>CHARACTER_SET_SCHEMA</th><th>CHARACTER_SET_NAME</th><th>COLLATION_CATALOG</th><th>COLLATION_SCHEMA</th><th>COLLATION_NAME</th><th>DOMAIN_CATALOG</th><th>DOMAIN_SCHEMA</th><th>DOMAIN_NAME</th></tr><tr><td>TFM</td><td>dbo</td><td>Store</td><td>Store_ID</td><td>1</td><td>NULL</td><td>NO</td><td>tinyint</td><td>NULL</td><td>NULL</td><td>3</td><td>10</td><td>0</td><td>NULL</td><td>NULL</td><td>NULL</td><td>NULL</td><td>NULL</td><td>NULL</td><td>NULL</td><td>NULL</td><td>NULL</td><td>NULL</td></tr><tr><td>TFM</td><td>dbo</td><td>Store</td><td>City</td><td>2</td><td>NULL</td><td>NO</td><td>nvarchar</td><td>50</td><td>100</td><td>NULL</td><td>NULL</td><td>NULL</td><td>NULL</td><td>NULL</td><td>NULL</td><td>UNICODE</td><td>NULL</td><td>NULL</td><td>Modern_Spanish_100_CI_AI</td><td>NULL</td><td>NULL</td><td>NULL</td></tr><tr><td>TFM</td><td>dbo</td><td>Store</td><td>Open_Date</td><td>3</td><td>NULL</td><td>NO</td><td>nvarchar</td><td>50</td><td>100</td><td>NULL</td><td>NULL</td><td>NULL</td><td>NULL</td><td>NULL</td><td>NULL</td><td>UNICODE</td><td>NULL</td><td>NULL</td><td>Modern_Spanish_100_CI_AI</td><td>NULL</td><td>NULL</td><td>NULL</td></tr><tr><td>TFM</td><td>dbo</td><td>Store</td><td>Zip_Code</td><td>4</td><td>NULL</td><td>NO</td><td>nvarchar</td><td>50</td><td>100</td><td>NULL</td><td>NULL</td><td>NULL</td><td>NULL</td><td>NULL</td><td>NULL</td><td>UNICODE</td><td>NULL</td><td>NULL</td><td>Modern_Spanish_100_CI_AI</td><td>NULL</td><td>NULL</td><td>NULL</td></tr><tr><td>TFM</td><td>dbo</td><td>Store</td><td>Phone</td><td>5</td><td>NULL</td><td>NO</td><td>nvarchar</td><td>50</td><td>100</td><td>NULL</td><td>NULL</td><td>NULL</td><td>NULL</td><td>NULL</td><td>NULL</td><td>UNICODE</td><td>NULL</td><td>NULL</td><td>Modern_Spanish_100_CI_AI</td><td>NULL</td><td>NULL</td><td>NULL</td></tr><tr><td>TFM</td><td>dbo</td><td>Store</td><td>Email</td><td>6</td><td>NULL</td><td>NO</td><td>nvarchar</td><td>50</td><td>100</td><td>NULL</td><td>NULL</td><td>NULL</td><td>NULL</td><td>NULL</td><td>NULL</td><td>UNICODE</td><td>NULL</td><td>NULL</td><td>Modern_Spanish_100_CI_AI</td><td>NULL</td><td>NULL</td><td>NULL</td></tr></table>"
                    },
                    "metadata": {}
                }
            ],
            "execution_count": 12
        },
        {
            "cell_type": "markdown",
            "source": [
                "## **Columna City**\r\n",
                "<span style=\"font-size: 18px;\">\r\n",
                "Para limpiar esta columna realizamos lo siguiente:\r\n",
                "\r\n",
                "1. Creamos la función CleanToTexT: Esta función realiza lo siguiente:\r\n",
                "    - <b>Recepción de datos:</b> Recibe como entrada una columna de interés.\r\n",
                "    -  <b>Identificación de caracteres no deseados:</b> Utiliza la instrucción SET @Letter = PATINDEX('%[^A-Za-z _]%', @Data) para localizar la posición del primer carácter que no sea una letra, un espacio ni un guion bajo.\r\n",
                "    - <b>Eliminación de caracteres no deseados:</b> Se inicia un bucle WHILE que elimina, con la instrucción SET @Data = STUFF(@Data, @Letter, 1, ''), el carácter no permitido ubicado en la posición @Letter. Este proceso se repite mientras @Letter > 0.\r\n",
                "    - <b>Reemplazo de guiones bajos:</b> Una vez eliminados los caracteres no deseados, se reemplazan los guiones bajos (\"___\") por un espacio, utilizando SET @Data = REPLACE(@Data, '_', ' ').\r\n",
                "    - <b>Eliminación de espacios consecutivos:</b> Finalmente, se ejecuta un segundo bucle WHILE que elimina los espacios en blanco consecutivos presentes en la cadena almacenada en @Data, asegurando que quede limpia y bien formateada.\r\n",
                "\r\n",
                "1. Capitalizamos los nombres de las ciudades usando la función InitCap.\r\n",
                "</span>"
            ],
            "metadata": {
                "azdata_cell_guid": "800e79a7-9ecb-48cd-84f8-01cbd45eff70"
            },
            "attachments": {}
        },
        {
            "cell_type": "code",
            "source": [
                "-- # 1.\r\n",
                "CREATE FUNCTION [dbo].[CleanToText](@Data VARCHAR(100))\r\n",
                "RETURNS VARCHAR(100)\r\n",
                "AS \r\n",
                "BEGIN\r\n",
                "    DECLARE @Letter INT;\r\n",
                "    SET @Letter = PATINDEX('%[^A-Za-z _]%', @Data);\r\n",
                "    WHILE @Letter > 0\r\n",
                "    BEGIN\r\n",
                "        SET @Data = STUFF(@Data, @Letter, 1, '');\r\n",
                "        SET @Letter = PATINDEX('%[^A-Za-z ]%', @Data);\r\n",
                "    END\r\n",
                "    SET @Data = REPLACE(@Data, '_', ' ');\r\n",
                "    WHILE CHARINDEX('  ', @Data) > 0\r\n",
                "    BEGIN\r\n",
                "        SET @Data = REPLACE(@Data, '  ', ' ');\r\n",
                "    END\r\n",
                "    \r\n",
                "    RETURN LTRIM(RTRIM(@Data));\r\n",
                "END\r\n",
                "GO"
            ],
            "metadata": {
                "azdata_cell_guid": "887a895c-34bf-4c00-b9f8-7b9d7139df4b",
                "language": "sql",
                "tags": []
            },
            "outputs": [
                {
                    "output_type": "display_data",
                    "data": {
                        "text/html": "Commands completed successfully."
                    },
                    "metadata": {}
                },
                {
                    "output_type": "display_data",
                    "data": {
                        "text/html": "Total execution time: 00:00:00.004"
                    },
                    "metadata": {}
                }
            ],
            "execution_count": 13
        },
        {
            "cell_type": "code",
            "source": [
                "-- # 1.\r\n",
                "UPDATE Store\r\n",
                "SET City = dbo.CleanToText(City);"
            ],
            "metadata": {
                "language": "sql",
                "azdata_cell_guid": "760bd626-d64b-4fba-8507-d6f3bc34a96d",
                "tags": []
            },
            "outputs": [
                {
                    "output_type": "display_data",
                    "data": {
                        "text/html": "(45 rows affected)"
                    },
                    "metadata": {}
                },
                {
                    "output_type": "display_data",
                    "data": {
                        "text/html": "Total execution time: 00:00:00.010"
                    },
                    "metadata": {}
                }
            ],
            "execution_count": 14
        },
        {
            "cell_type": "code",
            "source": [
                " CREATE FUNCTION [dbo].[InitCap] (@inStr VARCHAR(100))\r\n",
                "  RETURNS VARCHAR(100)\r\n",
                "  AS\r\n",
                "  BEGIN\r\n",
                "    DECLARE @outStr VARCHAR(100) = LOWER(@inStr),\r\n",
                "         @char CHAR(1), \r\n",
                "         @alphanum BIT = 0,\r\n",
                "         @len INT = LEN(@inStr),\r\n",
                "                 @pos INT = 1;        \r\n",
                "\r\n",
                "    -- Iterar entre todos los caracteres en la cadena de entrada\r\n",
                "    WHILE @pos <= @len BEGIN\r\n",
                "\r\n",
                "      -- Obtener el siguiente caracter\r\n",
                "      SET @char = SUBSTRING(@inStr, @pos, 1);\r\n",
                "\r\n",
                "      -- Si la posición del caracter es la 1ª, o el caracter previo no es alfanumérico\r\n",
                "      -- convierte el caracter actual a mayúscula\r\n",
                "      IF @pos = 1 OR @alphanum = 0\r\n",
                "        SET @outStr = STUFF(@outStr, @pos, 1, UPPER(@char));\r\n",
                "\r\n",
                "      SET @pos = @pos + 1;\r\n",
                "\r\n",
                "      -- Define si el caracter actual es  non-alfanumérico\r\n",
                "      IF ASCII(@char) <= 47 OR (ASCII(@char) BETWEEN 58 AND 64) OR\r\n",
                "      (ASCII(@char) BETWEEN 91 AND 96) OR (ASCII(@char) BETWEEN 123 AND 126)\r\n",
                "      SET @alphanum = 0;\r\n",
                "      ELSE\r\n",
                "      SET @alphanum = 1;\r\n",
                "\r\n",
                "    END\r\n",
                "\r\n",
                "   RETURN @outStr;         \r\n",
                "  END\r\n",
                "  GO"
            ],
            "metadata": {
                "language": "sql",
                "azdata_cell_guid": "2eb3b859-6d0f-444f-a30b-9d1abc9bf56c"
            },
            "outputs": [
                {
                    "output_type": "display_data",
                    "data": {
                        "text/html": "Commands completed successfully."
                    },
                    "metadata": {}
                },
                {
                    "output_type": "display_data",
                    "data": {
                        "text/html": "Total execution time: 00:00:00.002"
                    },
                    "metadata": {}
                }
            ],
            "execution_count": 15
        },
        {
            "cell_type": "code",
            "source": [
                "UPDATE Store\r\n",
                "SET City = dbo.InitCap(City);"
            ],
            "metadata": {
                "language": "sql",
                "azdata_cell_guid": "d55d7bd5-9a2a-4a96-bcf1-5ec34cd2cfe6"
            },
            "outputs": [
                {
                    "output_type": "display_data",
                    "data": {
                        "text/html": "(45 rows affected)"
                    },
                    "metadata": {}
                },
                {
                    "output_type": "display_data",
                    "data": {
                        "text/html": "Total execution time: 00:00:00.007"
                    },
                    "metadata": {}
                }
            ],
            "execution_count": 16
        },
        {
            "cell_type": "markdown",
            "source": [
                "## **Columna Open_Date**\r\n",
                "<span style=\"font-size: 18px;\">\r\n",
                "En esta columna, las fechas con formato inválido se presentan en el formato YYYYMMDDHHmmss. Para corregir estas fechas, se utilizó la función ISDATE, que devuelve un valor de 0 cuando la fecha no está en un formato válido. Aclarado esto, se realizaron los siguientes pasos:\r\n",
                "\r\n",
                "- Si ISDATE(Open_Date) = 0, entonces, utilizando la función CONCAT, transformamos el formato de la fecha de la siguiente manera:\r\n",
                "    -   Extraemos el año, correspondiente a los primeros 4 caracteres, y añadimos un guion (-).\r\n",
                "    -   Extraemos el mes, correspondiente al quinto y sexto carácter, y añadimos otro guion (-).\r\n",
                "    -   Extraemos el día, correspondiente al séptimo y octavo carácter, y añadimos un espacio ( ).\r\n",
                "    -   Extraemos la hora, correspondiente al noveno y décimo carácter, y añadimos dos puntos (:).\r\n",
                "    -   Extraemos los minutos, correspondientes al undécimo y duodécimo carácter, y añadimos otros dos puntos (:).\r\n",
                "    - Finalmente, agregamos los segundos, correspondientes a los últimos 2 caracteres.\r\n",
                "\r\n",
                "Con estos pasos, las fechas en formato incorrecto se convierten al formato estándar YYYY-MM-DD HH:mm:ss.\r\n",
                "</span>"
            ],
            "metadata": {
                "language": "sql",
                "azdata_cell_guid": "bff7853d-ab75-4fb9-b97c-da763e576240"
            },
            "attachments": {}
        },
        {
            "cell_type": "code",
            "source": [
                "-- # 3.\r\n",
                "UPDATE Store\r\n",
                "SET Open_Date = CONCAT(\r\n",
                "        LEFT(Open_Date, 4), '-',            -- Año\r\n",
                "        SUBSTRING(Open_Date, 5, 2), '-',    -- Mes\r\n",
                "        SUBSTRING(Open_Date, 7, 2), ' ',    -- Día\r\n",
                "        SUBSTRING(Open_Date, 9, 2), ':',    -- Hora\r\n",
                "        SUBSTRING(Open_Date, 11, 2), ':',   -- Minuto\r\n",
                "        RIGHT(Open_Date, 2)                 -- Segundo\r\n",
                "    )\r\n",
                "WHERE ISDATE(Open_Date) = 0;"
            ],
            "metadata": {
                "language": "sql",
                "azdata_cell_guid": "65a3cb5f-c732-4275-9041-85e76e38cf30",
                "tags": []
            },
            "outputs": [
                {
                    "output_type": "display_data",
                    "data": {
                        "text/html": "(3 rows affected)"
                    },
                    "metadata": {}
                },
                {
                    "output_type": "display_data",
                    "data": {
                        "text/html": "Total execution time: 00:00:00.003"
                    },
                    "metadata": {}
                }
            ],
            "execution_count": 17
        },
        {
            "cell_type": "markdown",
            "source": [
                "## **Columna Zip_Code**\n",
                "\n",
                "<span style=\"font-size: 18px;\">\n",
                "En esta columna nos enfocamos en eliminar los caracteres no numéricos. Para ello, creamos la función CleanToNum, que utiliza PATINDEX para identificar los caracteres no numéricos y los elimina mediante un ciclo WHILE, empleando la función STUFF. Una vez que no quedan caracteres no numéricos en la cadena, se eliminan los espacios al inicio y al final para garantizar un resultado limpio.\n",
                "</span>"
            ],
            "metadata": {
                "azdata_cell_guid": "c61dc20c-d6ef-4b33-9526-b2675a57100b"
            },
            "attachments": {}
        },
        {
            "cell_type": "code",
            "source": [
                "-- # 4.\r\n",
                "CREATE FUNCTION [dbo].[CleanToNum](@Data VARCHAR(100))\r\n",
                "RETURNS VARCHAR(100)\r\n",
                "AS \r\n",
                "BEGIN\r\n",
                "    DECLARE @posicion INT;\r\n",
                "    SET @posicion = PATINDEX('%[^0-9]%', @Data);\r\n",
                "    WHILE @posicion > 0\r\n",
                "    BEGIN\r\n",
                "        SET @Data = STUFF(@Data, @posicion,1,'');\r\n",
                "        SET @posicion = PATINDEX('%[^0-9]%', @Data);\r\n",
                "    END\r\n",
                "    RETURN LTRIM(RTRIM(@Data));\r\n",
                "END\r\n",
                "GO"
            ],
            "metadata": {
                "azdata_cell_guid": "fa2bd009-b402-446e-aa77-b3b3ea07b936",
                "language": "sql"
            },
            "outputs": [
                {
                    "output_type": "display_data",
                    "data": {
                        "text/html": "Commands completed successfully."
                    },
                    "metadata": {}
                },
                {
                    "output_type": "display_data",
                    "data": {
                        "text/html": "Total execution time: 00:00:00.002"
                    },
                    "metadata": {}
                }
            ],
            "execution_count": 18
        },
        {
            "cell_type": "code",
            "source": [
                "-- # 4.\r\n",
                "UPDATE Store\r\n",
                "SET Zip_Code = dbo.CleanToNum(Zip_Code);"
            ],
            "metadata": {
                "language": "sql",
                "azdata_cell_guid": "4d121ec4-4938-40e6-a3a1-1ac209ac39ac"
            },
            "outputs": [
                {
                    "output_type": "display_data",
                    "data": {
                        "text/html": "(45 rows affected)"
                    },
                    "metadata": {}
                },
                {
                    "output_type": "display_data",
                    "data": {
                        "text/html": "Total execution time: 00:00:00.004"
                    },
                    "metadata": {}
                }
            ],
            "execution_count": 19
        },
        {
            "cell_type": "markdown",
            "source": [
                "## **Columna Phone**\r\n",
                "\r\n",
                "<span style=\"font-size: 18px;\">\r\n",
                "Para la limpieza de los datos de esta columna reutilizamos la función CleanToNum.\r\n",
                "</span>"
            ],
            "metadata": {
                "language": "sql",
                "azdata_cell_guid": "988faeaf-aed6-48bf-a73a-83fa7d5351fa"
            },
            "attachments": {}
        },
        {
            "cell_type": "code",
            "source": [
                "-- # 5.\r\n",
                "UPDATE Store\r\n",
                "SET Phone = dbo.CleanToNum(Phone);"
            ],
            "metadata": {
                "language": "sql",
                "azdata_cell_guid": "2c7bfdaf-8e4f-45d8-b252-02a8f5a04287"
            },
            "outputs": [
                {
                    "output_type": "display_data",
                    "data": {
                        "text/html": "(45 rows affected)"
                    },
                    "metadata": {}
                },
                {
                    "output_type": "display_data",
                    "data": {
                        "text/html": "Total execution time: 00:00:00.005"
                    },
                    "metadata": {}
                }
            ],
            "execution_count": 20
        },
        {
            "cell_type": "markdown",
            "source": [
                "## **Columna Email**\r\n",
                "\r\n",
                "<span style=\"font-size: 18px;\">\r\n",
                "\r\n",
                "Para la limpieza de los correos electrónicos, asumimos que un correo válido sigue el formato estándar: user@dominio.com. Durante el proceso, identificamos que algunos correos utilizaban 'at' o '#' en lugar del carácter @, y en otros casos, una coma (,) reemplazaba al punto (.). Estos caracteres fueron corregidos, sustituyéndolos por los signos correspondientes.\r\n",
                "\r\n",
                "</span>"
            ],
            "metadata": {
                "azdata_cell_guid": "fffeb6df-dbcd-46e0-bcd0-ea2728a41650"
            },
            "attachments": {}
        },
        {
            "cell_type": "code",
            "source": [
                "-- # 6.\r\n",
                "UPDATE Store \r\n",
                "Set Email = LTRIM(RTRIM(REPLACE(REPLACE(REPLACE(Email, ' at ', '@'), '#', '@'), ',', '.')));"
            ],
            "metadata": {
                "azdata_cell_guid": "5b315347-962e-41b6-add0-68b778dcead6",
                "language": "sql",
                "tags": []
            },
            "outputs": [
                {
                    "output_type": "display_data",
                    "data": {
                        "text/html": "(45 rows affected)"
                    },
                    "metadata": {}
                },
                {
                    "output_type": "display_data",
                    "data": {
                        "text/html": "Total execution time: 00:00:00.002"
                    },
                    "metadata": {}
                }
            ],
            "execution_count": 21
        },
        {
            "cell_type": "markdown",
            "source": [
                "<span style=\"font-size: 18px;\">\r\n",
                "\r\n",
                "Ahora veamos el resultado final de la tabla Store.\r\n",
                "</span>"
            ],
            "metadata": {
                "language": "sql",
                "azdata_cell_guid": "db272ecb-d748-498e-955c-c2560137f20f"
            },
            "attachments": {}
        },
        {
            "cell_type": "code",
            "source": [
                "select *from Store;"
            ],
            "metadata": {
                "language": "sql",
                "azdata_cell_guid": "2754fcba-f816-4766-a0e9-f91910327f62"
            },
            "outputs": [
                {
                    "output_type": "display_data",
                    "data": {
                        "text/html": "(45 rows affected)"
                    },
                    "metadata": {}
                },
                {
                    "output_type": "display_data",
                    "data": {
                        "text/html": "Total execution time: 00:00:00.005"
                    },
                    "metadata": {}
                },
                {
                    "output_type": "execute_result",
                    "execution_count": 22,
                    "data": {
                        "application/vnd.dataresource+json": {
                            "schema": {
                                "fields": [
                                    {
                                        "name": "Store_ID"
                                    },
                                    {
                                        "name": "City"
                                    },
                                    {
                                        "name": "Open_Date"
                                    },
                                    {
                                        "name": "Zip_Code"
                                    },
                                    {
                                        "name": "Phone"
                                    },
                                    {
                                        "name": "Email"
                                    }
                                ]
                            },
                            "data": [
                                {
                                    "Store_ID": "1",
                                    "City": "San Antonio",
                                    "Open_Date": "2003-07-24 21:45:30",
                                    "Zip_Code": "78015",
                                    "Phone": "2136875667",
                                    "Email": "store1@retail.com"
                                },
                                {
                                    "Store_ID": "2",
                                    "City": "San Antonio",
                                    "Open_Date": "2005-10-27 07:01:09",
                                    "Zip_Code": "78201",
                                    "Phone": "2135167236",
                                    "Email": "store2@retail.com"
                                },
                                {
                                    "Store_ID": "3",
                                    "City": "San Antonio",
                                    "Open_Date": "2007-02-01 16:59:13",
                                    "Zip_Code": "78112",
                                    "Phone": "2123501192",
                                    "Email": "store3@walmart.com"
                                },
                                {
                                    "Store_ID": "4",
                                    "City": "Houston",
                                    "Open_Date": "2004-07-17 00:28:08",
                                    "Zip_Code": "77001",
                                    "Phone": "3129778178",
                                    "Email": "store4@walmart.com"
                                },
                                {
                                    "Store_ID": "5",
                                    "City": "Houston",
                                    "Open_Date": "2009-04-23 01:08:37",
                                    "Zip_Code": "77002",
                                    "Phone": "7136191883",
                                    "Email": "store5@store.com"
                                },
                                {
                                    "Store_ID": "6",
                                    "City": "Los Angeles",
                                    "Open_Date": "2006-08-10 19:42:16",
                                    "Zip_Code": "90001",
                                    "Phone": "2127216342",
                                    "Email": "store6@store.com"
                                },
                                {
                                    "Store_ID": "7",
                                    "City": "Phoenix",
                                    "Open_Date": "2007-10-16 08:02:37",
                                    "Zip_Code": "60601",
                                    "Phone": "7138018755",
                                    "Email": "store7@store.com"
                                },
                                {
                                    "Store_ID": "8",
                                    "City": "San Diego",
                                    "Open_Date": "2002-03-10 05:40:48",
                                    "Zip_Code": "94023",
                                    "Phone": "2125445446",
                                    "Email": "store8@retail.com"
                                },
                                {
                                    "Store_ID": "9",
                                    "City": "New York",
                                    "Open_Date": "2007-07-24 04:31:20",
                                    "Zip_Code": "10001",
                                    "Phone": "3122242101",
                                    "Email": "store9@store.com"
                                },
                                {
                                    "Store_ID": "10",
                                    "City": "Philadelphia",
                                    "Open_Date": "2007-05-21 13:40:13",
                                    "Zip_Code": "19019",
                                    "Phone": "2135196422",
                                    "Email": "store10@walmart.com"
                                },
                                {
                                    "Store_ID": "11",
                                    "City": "Los Angeles",
                                    "Open_Date": "2001-04-24 19:12:27",
                                    "Zip_Code": "90005",
                                    "Phone": "2108217144",
                                    "Email": "store11@walmart.com"
                                },
                                {
                                    "Store_ID": "12",
                                    "City": "Philadelphia",
                                    "Open_Date": "2001-03-21 09:54:21",
                                    "Zip_Code": "19050",
                                    "Phone": "6024369028",
                                    "Email": "store12@example.com"
                                },
                                {
                                    "Store_ID": "13",
                                    "City": "San Antonio",
                                    "Open_Date": "2000-05-12 21:22:25",
                                    "Zip_Code": "78109",
                                    "Phone": "2159621700",
                                    "Email": "store13@retail.com"
                                },
                                {
                                    "Store_ID": "14",
                                    "City": "Los Angeles",
                                    "Open_Date": "2002-01-18 09:30:07",
                                    "Zip_Code": "90009",
                                    "Phone": "6194279882",
                                    "Email": "store14@walmart.com"
                                },
                                {
                                    "Store_ID": "15",
                                    "City": "San Diego",
                                    "Open_Date": "2000-02-02 18:13:56",
                                    "Zip_Code": "92201",
                                    "Phone": "2105411222",
                                    "Email": "store15@retail.com"
                                },
                                {
                                    "Store_ID": "16",
                                    "City": "San Antonio",
                                    "Open_Date": "2004-06-17 11:22:53",
                                    "Zip_Code": "78154",
                                    "Phone": "2125939415",
                                    "Email": "store16@store.com"
                                },
                                {
                                    "Store_ID": "17",
                                    "City": "San Diego",
                                    "Open_Date": "2008-09-16 10:52:05",
                                    "Zip_Code": "92202",
                                    "Phone": "2129335488",
                                    "Email": "store17@example.com"
                                },
                                {
                                    "Store_ID": "18",
                                    "City": "San Antonio",
                                    "Open_Date": "2001-04-17 19:28:03",
                                    "Zip_Code": "78201",
                                    "Phone": "2124059345",
                                    "Email": "store18@walmart.com"
                                },
                                {
                                    "Store_ID": "19",
                                    "City": "New York",
                                    "Open_Date": "2006-11-27 23:48:03",
                                    "Zip_Code": "10002",
                                    "Phone": "13121169300",
                                    "Email": "store19@store.com"
                                },
                                {
                                    "Store_ID": "20",
                                    "City": "San Antonio",
                                    "Open_Date": "2006-09-02 13:04:17",
                                    "Zip_Code": "78205",
                                    "Phone": "2131529783",
                                    "Email": "store20@walmart.com"
                                },
                                {
                                    "Store_ID": "21",
                                    "City": "Houston",
                                    "Open_Date": "2001-11-05 06:29:10",
                                    "Zip_Code": "77003",
                                    "Phone": "6192385211",
                                    "Email": "store21@retail.com"
                                },
                                {
                                    "Store_ID": "22",
                                    "City": "Chicago",
                                    "Open_Date": "2002-03-07 15:36:15",
                                    "Zip_Code": "60007",
                                    "Phone": "2108541838",
                                    "Email": "store22@store.com"
                                },
                                {
                                    "Store_ID": "23",
                                    "City": "Phoenix",
                                    "Open_Date": "2000-03-30 19:09:12",
                                    "Zip_Code": "92101",
                                    "Phone": "6027021125",
                                    "Email": "store23@example.com"
                                },
                                {
                                    "Store_ID": "24",
                                    "City": "Los Angeles",
                                    "Open_Date": "2000-11-02 08:37:53",
                                    "Zip_Code": "90006",
                                    "Phone": "3126556448",
                                    "Email": "store24@example.com"
                                },
                                {
                                    "Store_ID": "25",
                                    "City": "Houston",
                                    "Open_Date": "2006-08-05 00:08:51",
                                    "Zip_Code": "77004",
                                    "Phone": "2127513931",
                                    "Email": "store25@walmart.com"
                                },
                                {
                                    "Store_ID": "26",
                                    "City": "San Diego",
                                    "Open_Date": "2000-11-19 00:12:15",
                                    "Zip_Code": "92204",
                                    "Phone": "2136628808",
                                    "Email": "store26@retail.com"
                                },
                                {
                                    "Store_ID": "27",
                                    "City": "San Antonio",
                                    "Open_Date": "2006-09-19 15:12:42",
                                    "Zip_Code": "78203",
                                    "Phone": "6196788101",
                                    "Email": "store27@retail.com"
                                },
                                {
                                    "Store_ID": "28",
                                    "City": "Phoenix",
                                    "Open_Date": "2005-05-23 09:46:24",
                                    "Zip_Code": "10002",
                                    "Phone": "7133802726",
                                    "Email": "store28@store.com"
                                },
                                {
                                    "Store_ID": "29",
                                    "City": "San Antonio",
                                    "Open_Date": "2003-04-10 03:59:36",
                                    "Zip_Code": "78207",
                                    "Phone": "2135157007",
                                    "Email": "store29@walmart.com"
                                },
                                {
                                    "Store_ID": "30",
                                    "City": "Los Angeles",
                                    "Open_Date": "2007-05-17 10:01:03",
                                    "Zip_Code": "90002",
                                    "Phone": "3129145145",
                                    "Email": "store30@example.com"
                                },
                                {
                                    "Store_ID": "31",
                                    "City": "Chicago",
                                    "Open_Date": "2002-11-08 08:44:18",
                                    "Zip_Code": "60106",
                                    "Phone": "7139317408",
                                    "Email": "store31@store.com"
                                },
                                {
                                    "Store_ID": "32",
                                    "City": "New York",
                                    "Open_Date": "2008-09-04 23:03:55",
                                    "Zip_Code": "10003",
                                    "Phone": "2133175083",
                                    "Email": "store32@retail.com"
                                },
                                {
                                    "Store_ID": "33",
                                    "City": "Houston",
                                    "Open_Date": "2000-10-20 16:22:03",
                                    "Zip_Code": "77027",
                                    "Phone": "3121702398",
                                    "Email": "store33@example.com"
                                },
                                {
                                    "Store_ID": "34",
                                    "City": "Los Angeles",
                                    "Open_Date": "2006-11-05 23:15:37",
                                    "Zip_Code": "90004",
                                    "Phone": "2122995738",
                                    "Email": "store34@retail.com"
                                },
                                {
                                    "Store_ID": "35",
                                    "City": "Houston",
                                    "Open_Date": "2000-06-04 23:43:00",
                                    "Zip_Code": "77020",
                                    "Phone": "16026639585",
                                    "Email": "store35@retail.com"
                                },
                                {
                                    "Store_ID": "36",
                                    "City": "Chicago",
                                    "Open_Date": "2009-05-15 14:00:19",
                                    "Zip_Code": "60127",
                                    "Phone": "7138237288",
                                    "Email": "store36@retail.com"
                                },
                                {
                                    "Store_ID": "37",
                                    "City": "New York",
                                    "Open_Date": "2002-09-19 01:06:08",
                                    "Zip_Code": "10004",
                                    "Phone": "2133808291",
                                    "Email": "store37@walmart.com"
                                },
                                {
                                    "Store_ID": "38",
                                    "City": "Chicago",
                                    "Open_Date": "2004-03-27 12:41:23",
                                    "Zip_Code": "60018",
                                    "Phone": "2132341880",
                                    "Email": "store38@store.com"
                                },
                                {
                                    "Store_ID": "39",
                                    "City": "Phoenix",
                                    "Open_Date": "2006-09-07 19:46:02",
                                    "Zip_Code": "90001",
                                    "Phone": "2105957485",
                                    "Email": "store39@walmart.com"
                                },
                                {
                                    "Store_ID": "40",
                                    "City": "Los Angeles",
                                    "Open_Date": "2007-08-02 12:42:21",
                                    "Zip_Code": "90003",
                                    "Phone": "2109618679",
                                    "Email": "store40@retail.com"
                                },
                                {
                                    "Store_ID": "41",
                                    "City": "Los Angeles",
                                    "Open_Date": "2004-07-22 14:18:40",
                                    "Zip_Code": "90007",
                                    "Phone": "6195928653",
                                    "Email": "store41@example.com"
                                },
                                {
                                    "Store_ID": "42",
                                    "City": "New York",
                                    "Open_Date": "2002-04-27 07:05:33",
                                    "Zip_Code": "10008",
                                    "Phone": "7133711353",
                                    "Email": "store42@example.com"
                                },
                                {
                                    "Store_ID": "43",
                                    "City": "San Antonio",
                                    "Open_Date": "2008-09-15 12:28:16",
                                    "Zip_Code": "78209",
                                    "Phone": "2132681316",
                                    "Email": "store43@retail.com"
                                },
                                {
                                    "Store_ID": "44",
                                    "City": "San Diego",
                                    "Open_Date": "2001-08-09 12:59:35",
                                    "Zip_Code": "92208",
                                    "Phone": "12129798702",
                                    "Email": "store44@example.com"
                                },
                                {
                                    "Store_ID": "45",
                                    "City": "Los Angeles",
                                    "Open_Date": "2005-09-28 10:39:45",
                                    "Zip_Code": "90008",
                                    "Phone": "2133654037",
                                    "Email": "store45@walmart.com"
                                }
                            ]
                        },
                        "text/html": "<table><tr><th>Store_ID</th><th>City</th><th>Open_Date</th><th>Zip_Code</th><th>Phone</th><th>Email</th></tr><tr><td>1</td><td>San Antonio</td><td>2003-07-24 21:45:30</td><td>78015</td><td>2136875667</td><td>store1@retail.com</td></tr><tr><td>2</td><td>San Antonio</td><td>2005-10-27 07:01:09</td><td>78201</td><td>2135167236</td><td>store2@retail.com</td></tr><tr><td>3</td><td>San Antonio</td><td>2007-02-01 16:59:13</td><td>78112</td><td>2123501192</td><td>store3@walmart.com</td></tr><tr><td>4</td><td>Houston</td><td>2004-07-17 00:28:08</td><td>77001</td><td>3129778178</td><td>store4@walmart.com</td></tr><tr><td>5</td><td>Houston</td><td>2009-04-23 01:08:37</td><td>77002</td><td>7136191883</td><td>store5@store.com</td></tr><tr><td>6</td><td>Los Angeles</td><td>2006-08-10 19:42:16</td><td>90001</td><td>2127216342</td><td>store6@store.com</td></tr><tr><td>7</td><td>Phoenix</td><td>2007-10-16 08:02:37</td><td>60601</td><td>7138018755</td><td>store7@store.com</td></tr><tr><td>8</td><td>San Diego</td><td>2002-03-10 05:40:48</td><td>94023</td><td>2125445446</td><td>store8@retail.com</td></tr><tr><td>9</td><td>New York</td><td>2007-07-24 04:31:20</td><td>10001</td><td>3122242101</td><td>store9@store.com</td></tr><tr><td>10</td><td>Philadelphia</td><td>2007-05-21 13:40:13</td><td>19019</td><td>2135196422</td><td>store10@walmart.com</td></tr><tr><td>11</td><td>Los Angeles</td><td>2001-04-24 19:12:27</td><td>90005</td><td>2108217144</td><td>store11@walmart.com</td></tr><tr><td>12</td><td>Philadelphia</td><td>2001-03-21 09:54:21</td><td>19050</td><td>6024369028</td><td>store12@example.com</td></tr><tr><td>13</td><td>San Antonio</td><td>2000-05-12 21:22:25</td><td>78109</td><td>2159621700</td><td>store13@retail.com</td></tr><tr><td>14</td><td>Los Angeles</td><td>2002-01-18 09:30:07</td><td>90009</td><td>6194279882</td><td>store14@walmart.com</td></tr><tr><td>15</td><td>San Diego</td><td>2000-02-02 18:13:56</td><td>92201</td><td>2105411222</td><td>store15@retail.com</td></tr><tr><td>16</td><td>San Antonio</td><td>2004-06-17 11:22:53</td><td>78154</td><td>2125939415</td><td>store16@store.com</td></tr><tr><td>17</td><td>San Diego</td><td>2008-09-16 10:52:05</td><td>92202</td><td>2129335488</td><td>store17@example.com</td></tr><tr><td>18</td><td>San Antonio</td><td>2001-04-17 19:28:03</td><td>78201</td><td>2124059345</td><td>store18@walmart.com</td></tr><tr><td>19</td><td>New York</td><td>2006-11-27 23:48:03</td><td>10002</td><td>13121169300</td><td>store19@store.com</td></tr><tr><td>20</td><td>San Antonio</td><td>2006-09-02 13:04:17</td><td>78205</td><td>2131529783</td><td>store20@walmart.com</td></tr><tr><td>21</td><td>Houston</td><td>2001-11-05 06:29:10</td><td>77003</td><td>6192385211</td><td>store21@retail.com</td></tr><tr><td>22</td><td>Chicago</td><td>2002-03-07 15:36:15</td><td>60007</td><td>2108541838</td><td>store22@store.com</td></tr><tr><td>23</td><td>Phoenix</td><td>2000-03-30 19:09:12</td><td>92101</td><td>6027021125</td><td>store23@example.com</td></tr><tr><td>24</td><td>Los Angeles</td><td>2000-11-02 08:37:53</td><td>90006</td><td>3126556448</td><td>store24@example.com</td></tr><tr><td>25</td><td>Houston</td><td>2006-08-05 00:08:51</td><td>77004</td><td>2127513931</td><td>store25@walmart.com</td></tr><tr><td>26</td><td>San Diego</td><td>2000-11-19 00:12:15</td><td>92204</td><td>2136628808</td><td>store26@retail.com</td></tr><tr><td>27</td><td>San Antonio</td><td>2006-09-19 15:12:42</td><td>78203</td><td>6196788101</td><td>store27@retail.com</td></tr><tr><td>28</td><td>Phoenix</td><td>2005-05-23 09:46:24</td><td>10002</td><td>7133802726</td><td>store28@store.com</td></tr><tr><td>29</td><td>San Antonio</td><td>2003-04-10 03:59:36</td><td>78207</td><td>2135157007</td><td>store29@walmart.com</td></tr><tr><td>30</td><td>Los Angeles</td><td>2007-05-17 10:01:03</td><td>90002</td><td>3129145145</td><td>store30@example.com</td></tr><tr><td>31</td><td>Chicago</td><td>2002-11-08 08:44:18</td><td>60106</td><td>7139317408</td><td>store31@store.com</td></tr><tr><td>32</td><td>New York</td><td>2008-09-04 23:03:55</td><td>10003</td><td>2133175083</td><td>store32@retail.com</td></tr><tr><td>33</td><td>Houston</td><td>2000-10-20 16:22:03</td><td>77027</td><td>3121702398</td><td>store33@example.com</td></tr><tr><td>34</td><td>Los Angeles</td><td>2006-11-05 23:15:37</td><td>90004</td><td>2122995738</td><td>store34@retail.com</td></tr><tr><td>35</td><td>Houston</td><td>2000-06-04 23:43:00</td><td>77020</td><td>16026639585</td><td>store35@retail.com</td></tr><tr><td>36</td><td>Chicago</td><td>2009-05-15 14:00:19</td><td>60127</td><td>7138237288</td><td>store36@retail.com</td></tr><tr><td>37</td><td>New York</td><td>2002-09-19 01:06:08</td><td>10004</td><td>2133808291</td><td>store37@walmart.com</td></tr><tr><td>38</td><td>Chicago</td><td>2004-03-27 12:41:23</td><td>60018</td><td>2132341880</td><td>store38@store.com</td></tr><tr><td>39</td><td>Phoenix</td><td>2006-09-07 19:46:02</td><td>90001</td><td>2105957485</td><td>store39@walmart.com</td></tr><tr><td>40</td><td>Los Angeles</td><td>2007-08-02 12:42:21</td><td>90003</td><td>2109618679</td><td>store40@retail.com</td></tr><tr><td>41</td><td>Los Angeles</td><td>2004-07-22 14:18:40</td><td>90007</td><td>6195928653</td><td>store41@example.com</td></tr><tr><td>42</td><td>New York</td><td>2002-04-27 07:05:33</td><td>10008</td><td>7133711353</td><td>store42@example.com</td></tr><tr><td>43</td><td>San Antonio</td><td>2008-09-15 12:28:16</td><td>78209</td><td>2132681316</td><td>store43@retail.com</td></tr><tr><td>44</td><td>San Diego</td><td>2001-08-09 12:59:35</td><td>92208</td><td>12129798702</td><td>store44@example.com</td></tr><tr><td>45</td><td>Los Angeles</td><td>2005-09-28 10:39:45</td><td>90008</td><td>2133654037</td><td>store45@walmart.com</td></tr></table>"
                    },
                    "metadata": {}
                }
            ],
            "execution_count": 22
        },
        {
            "cell_type": "markdown",
            "source": [
                "## **Resultados y conclusiones**\r\n",
                "\r\n",
                "<span style=\"font-size: 18px;\">\r\n",
                "\r\n",
                "La tabla \"Store\" ha sido depurada de caracteres innecesarios y los datos se encuentran ahora en los formatos adecuados.\r\n",
                "\r\n",
                "En conclusión, los datos están listos para ser utilizados.\r\n",
                "\r\n",
                "</span>"
            ],
            "metadata": {
                "azdata_cell_guid": "e86edcbe-3b95-4b03-9210-e0b6f150a118"
            },
            "attachments": {}
        }
    ]
}