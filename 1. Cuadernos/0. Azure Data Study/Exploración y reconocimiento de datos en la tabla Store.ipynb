{
    "metadata": {
        "kernelspec": {
            "name": "SQL",
            "display_name": "SQL",
            "language": "sql"
        },
        "language_info": {
            "name": "sql",
            "version": ""
        }
    },
    "nbformat_minor": 2,
    "nbformat": 4,
    "cells": [
        {
            "cell_type": "markdown",
            "source": [
                "# **Exploración y reconocimiento de los datos de la tabla Store**"
            ],
            "metadata": {
                "azdata_cell_guid": "2b6b94ad-8c27-4156-b497-982e48eef307"
            },
            "attachments": {}
        },
        {
            "cell_type": "markdown",
            "source": [
                "# Tabla de Contenido\n",
                "- [TABLA STORE](#tabla-store)\n",
                "  - [Columna City](#columna-city)\n",
                "  - [Columna Open_Date](#Columna-open_date)\n",
                "  - [Columna Zip_Code](#Columna-zip_code)\n",
                "  - [Columna Phone](#Columna-phone)\n",
                "  - [Columna Email](#Columna-email)\n",
                "  - [Resultados y conclusiones](#Resultados-y-conclusiones)"
            ],
            "metadata": {
                "azdata_cell_guid": "5eeef647-be85-4c9d-8b65-2919b8252505"
            },
            "attachments": {}
        },
        {
            "cell_type": "markdown",
            "source": [
                "### **TABLA STORE**\n",
                "<span style=\"font-size: 18px;\">\n",
                "La exploración de los datos de la tabla  \"STORE\" consta de los siguientes pasos:\n",
                "\n",
                "1. Consulta de la cantidad de registros en la tabla.\n",
                "1. Visualización de la tabla.\n",
                "1. Visualización de nombres de ciudades con caracteres especiales.\n",
                "1. Visualización de fechas que no cumplen el formato YYYY-MM-DD HH:mm:ss.\n",
                "1. Visualización de códigos ZIP con caracteres no numéricos.\n",
                "1. Visualización de números de teléfonos con caracteres no numéricos.\n",
                "1. Visualización de correos electrónicos con formato inválido. \n",
                "</span>\n",
                "\n",
                "\n",
                ""
            ],
            "metadata": {
                "azdata_cell_guid": "61ef66b1-3d1d-45a4-9bf3-46a4760a8397",
                "language": ""
            },
            "attachments": {}
        },
        {
            "cell_type": "code",
            "source": [
                "USE TFM;\r\n",
                "-- # 1. \r\n",
                "select COUNT(*) from store;"
            ],
            "metadata": {
                "azdata_cell_guid": "0c4b9f51-4734-45b0-85f6-f1fd9a755174",
                "language": "sql"
            },
            "outputs": [
                {
                    "output_type": "display_data",
                    "data": {
                        "text/html": "(1 row affected)"
                    },
                    "metadata": {}
                },
                {
                    "output_type": "display_data",
                    "data": {
                        "text/html": "Total execution time: 00:00:00.071"
                    },
                    "metadata": {}
                },
                {
                    "output_type": "execute_result",
                    "execution_count": 1,
                    "data": {
                        "application/vnd.dataresource+json": {
                            "schema": {
                                "fields": [
                                    {
                                        "name": "(No column name)"
                                    }
                                ]
                            },
                            "data": [
                                {
                                    "(No column name)": "45"
                                }
                            ]
                        },
                        "text/html": "<table><tr><th>(No column name)</th></tr><tr><td>45</td></tr></table>"
                    },
                    "metadata": {}
                }
            ],
            "execution_count": 1
        },
        {
            "cell_type": "markdown",
            "source": [
                "<span style=\"font-size: 18px;\">\r\n",
                "Se puede observar que esta tabla tiene un total de 45 registros. Ahora veamos la tabla.\r\n",
                "</span>"
            ],
            "metadata": {
                "azdata_cell_guid": "a947fa4d-4ca6-4f5a-bf74-a7fca3fa18e1"
            },
            "attachments": {}
        },
        {
            "cell_type": "code",
            "source": [
                "-- # 2.\r\n",
                "select *from Store; "
            ],
            "metadata": {
                "azdata_cell_guid": "435ab365-3b11-4224-be82-013672b9d984",
                "language": "sql",
                "tags": []
            },
            "outputs": [
                {
                    "output_type": "display_data",
                    "data": {
                        "text/html": "(45 rows affected)"
                    },
                    "metadata": {}
                },
                {
                    "output_type": "display_data",
                    "data": {
                        "text/html": "Total execution time: 00:00:00.008"
                    },
                    "metadata": {}
                },
                {
                    "output_type": "execute_result",
                    "execution_count": 2,
                    "data": {
                        "application/vnd.dataresource+json": {
                            "schema": {
                                "fields": [
                                    {
                                        "name": "Store_ID"
                                    },
                                    {
                                        "name": "City"
                                    },
                                    {
                                        "name": "Open_Date"
                                    },
                                    {
                                        "name": "Zip_Code"
                                    },
                                    {
                                        "name": "Phone"
                                    },
                                    {
                                        "name": "Email"
                                    }
                                ]
                            },
                            "data": [
                                {
                                    "Store_ID": "1",
                                    "City": "San Antonio",
                                    "Open_Date": "2003-07-24 21:45:30",
                                    "Zip_Code": "78015",
                                    "Phone": "2136875667",
                                    "Email": "store1 at retail.com"
                                },
                                {
                                    "Store_ID": "2",
                                    "City": "San Antonio",
                                    "Open_Date": "2005-10-27 07:01:09",
                                    "Zip_Code": "78-201",
                                    "Phone": "213-516-7236",
                                    "Email": "store2@retail.com"
                                },
                                {
                                    "Store_ID": "3",
                                    "City": "San Antonio",
                                    "Open_Date": "2007-02-01 16:59:13",
                                    "Zip_Code": "78-112",
                                    "Phone": "212-350-1192",
                                    "Email": "store3@walmart.com"
                                },
                                {
                                    "Store_ID": "4",
                                    "City": "Houston",
                                    "Open_Date": "2004-07-17 00:28:08",
                                    "Zip_Code": "77001",
                                    "Phone": "312-977-8178",
                                    "Email": "store4@walmart.com"
                                },
                                {
                                    "Store_ID": "5",
                                    "City": "Houston",
                                    "Open_Date": "2009-04-23 01:08:37",
                                    "Zip_Code": "77002",
                                    "Phone": "713-619-1883",
                                    "Email": "store5@store.com"
                                },
                                {
                                    "Store_ID": "6",
                                    "City": "los angeles",
                                    "Open_Date": "2006-08-10 19:42:16",
                                    "Zip_Code": "90001",
                                    "Phone": "212-721-6342",
                                    "Email": "store6@store.com"
                                },
                                {
                                    "Store_ID": "7",
                                    "City": "Phoenix",
                                    "Open_Date": "2007-10-16 08:02:37",
                                    "Zip_Code": "60601",
                                    "Phone": "713-801-8755",
                                    "Email": "store7@store.com"
                                },
                                {
                                    "Store_ID": "8",
                                    "City": "san diego",
                                    "Open_Date": "2002-03-10 05:40:48",
                                    "Zip_Code": "94-023",
                                    "Phone": "212-544-5446",
                                    "Email": "store8@retail.com"
                                },
                                {
                                    "Store_ID": "9",
                                    "City": "New York",
                                    "Open_Date": "2007-07-24 04:31:20",
                                    "Zip_Code": "10001",
                                    "Phone": "312-224-2101",
                                    "Email": "store9 at store.com"
                                },
                                {
                                    "Store_ID": "10",
                                    "City": "Philadelphia",
                                    "Open_Date": "2007-05-21 13:40:13",
                                    "Zip_Code": "19019",
                                    "Phone": "213-519-6422",
                                    "Email": "store10 at walmart.com"
                                },
                                {
                                    "Store_ID": "11",
                                    "City": "Los Angeles",
                                    "Open_Date": "2001-04-24 19:12:27",
                                    "Zip_Code": "90005",
                                    "Phone": "210-821-7144",
                                    "Email": "store11@walmart.com"
                                },
                                {
                                    "Store_ID": "12",
                                    "City": "Philadelphia.",
                                    "Open_Date": "2001-03-21 09:54:21",
                                    "Zip_Code": "19050",
                                    "Phone": "6024369028",
                                    "Email": "store12 at example.com"
                                },
                                {
                                    "Store_ID": "13",
                                    "City": "San  Antonio",
                                    "Open_Date": "2000-05-12 21:22:25",
                                    "Zip_Code": "78,109",
                                    "Phone": "215-962-1700",
                                    "Email": "store13@retail.com"
                                },
                                {
                                    "Store_ID": "14",
                                    "City": "Los Angeles",
                                    "Open_Date": "2002-01-18 09:30:07",
                                    "Zip_Code": "90009",
                                    "Phone": "619-427-9882",
                                    "Email": "store14 at walmart.com"
                                },
                                {
                                    "Store_ID": "15",
                                    "City": "San Diego",
                                    "Open_Date": "2000-02-02 18:13:56",
                                    "Zip_Code": "92,201",
                                    "Phone": "210-541-1222",
                                    "Email": "store15@retail.com"
                                },
                                {
                                    "Store_ID": "16",
                                    "City": "San Antonio",
                                    "Open_Date": "2004-06-17 11:22:53",
                                    "Zip_Code": "78,154",
                                    "Phone": "2125939415",
                                    "Email": "store16 at store.com"
                                },
                                {
                                    "Store_ID": "17",
                                    "City": "San Diego ",
                                    "Open_Date": "2008-09-16 10:52:05",
                                    "Zip_Code": "92.202",
                                    "Phone": "2129335488",
                                    "Email": "store17@example.com"
                                },
                                {
                                    "Store_ID": "18",
                                    "City": "San Antonio",
                                    "Open_Date": "2001-04-17 19:28:03",
                                    "Zip_Code": "78201",
                                    "Phone": "212-405-9345",
                                    "Email": "store18@walmart.com"
                                },
                                {
                                    "Store_ID": "19",
                                    "City": "New_York",
                                    "Open_Date": "2006-11-27 23:48:03",
                                    "Zip_Code": "10002",
                                    "Phone": "(+1) 312-116-9300",
                                    "Email": "store19@store.com"
                                },
                                {
                                    "Store_ID": "20",
                                    "City": "San Antonio",
                                    "Open_Date": "2006-09-02 13:04:17",
                                    "Zip_Code": "78205",
                                    "Phone": "213-152-9783",
                                    "Email": "store20@walmart.com"
                                },
                                {
                                    "Store_ID": "21",
                                    "City": "Houston",
                                    "Open_Date": "2001-11-05 06:29:10",
                                    "Zip_Code": "77003",
                                    "Phone": "619-238-5211",
                                    "Email": "store21@retail.com"
                                },
                                {
                                    "Store_ID": "22",
                                    "City": "Chicago",
                                    "Open_Date": "2002-03-07 15:36:15",
                                    "Zip_Code": "60007",
                                    "Phone": "210-854-1838",
                                    "Email": "store22@store,com"
                                },
                                {
                                    "Store_ID": "23",
                                    "City": "Phoenix",
                                    "Open_Date": "2000-03-30 19:09:12",
                                    "Zip_Code": "92101",
                                    "Phone": "602-702-1125",
                                    "Email": "store23 at example.com"
                                },
                                {
                                    "Store_ID": "24",
                                    "City": "los angeles   ",
                                    "Open_Date": "2000-11-02 08:37:53",
                                    "Zip_Code": "90006",
                                    "Phone": "3126556448",
                                    "Email": "store24@example.com"
                                },
                                {
                                    "Store_ID": "25",
                                    "City": "Houston",
                                    "Open_Date": "2006-08-05 00:08:51",
                                    "Zip_Code": "77004",
                                    "Phone": "212-751-3931",
                                    "Email": "store25@walmart.com"
                                },
                                {
                                    "Store_ID": "26",
                                    "City": "San Diego",
                                    "Open_Date": "2000-11-19 00:12:15",
                                    "Zip_Code": "92204",
                                    "Phone": "2136628808",
                                    "Email": "store26@retail.com"
                                },
                                {
                                    "Store_ID": "27",
                                    "City": "San Antonio",
                                    "Open_Date": "2006-09-19 15:12:42",
                                    "Zip_Code": "78203",
                                    "Phone": "6196788101",
                                    "Email": "store27@retail.com"
                                },
                                {
                                    "Store_ID": "28",
                                    "City": "phoenix",
                                    "Open_Date": "2005-05-23 09:46:24",
                                    "Zip_Code": "10002u",
                                    "Phone": "713-380-2726",
                                    "Email": "store28@store.com"
                                },
                                {
                                    "Store_ID": "29",
                                    "City": "San Antonio",
                                    "Open_Date": "2003-04-10 03:59:36",
                                    "Zip_Code": "78207",
                                    "Phone": "213-515-7007",
                                    "Email": "store29#walmart.com"
                                },
                                {
                                    "Store_ID": "30",
                                    "City": "Los Angeles",
                                    "Open_Date": "20070517100103",
                                    "Zip_Code": "90002",
                                    "Phone": "312-914-5145",
                                    "Email": "store30 at example.com"
                                },
                                {
                                    "Store_ID": "31",
                                    "City": "Chicago  ",
                                    "Open_Date": "2002-11-08 08:44:18",
                                    "Zip_Code": "60106",
                                    "Phone": "713-931-7408",
                                    "Email": "store31@store.com"
                                },
                                {
                                    "Store_ID": "32",
                                    "City": "New  York",
                                    "Open_Date": "2008-09-04 23:03:55",
                                    "Zip_Code": "10003",
                                    "Phone": "213-317-5083",
                                    "Email": "store32@retail.com"
                                },
                                {
                                    "Store_ID": "33",
                                    "City": "Houston",
                                    "Open_Date": "2000-10-20 16:22:03",
                                    "Zip_Code": "77027",
                                    "Phone": "312-170-2398",
                                    "Email": "store33@example.com"
                                },
                                {
                                    "Store_ID": "34",
                                    "City": "Los Angeles",
                                    "Open_Date": "2006-11-05 23:15:37",
                                    "Zip_Code": "90004",
                                    "Phone": "212 299 5738",
                                    "Email": "store34 at retail.com"
                                },
                                {
                                    "Store_ID": "35",
                                    "City": "Houston",
                                    "Open_Date": "2000-06-04 23:43:00",
                                    "Zip_Code": "77020",
                                    "Phone": "(+1) 602-663-9585",
                                    "Email": "store35@retail.com"
                                },
                                {
                                    "Store_ID": "36",
                                    "City": "Chicago",
                                    "Open_Date": "2009-05-15 14:00:19",
                                    "Zip_Code": "60127",
                                    "Phone": "713-823-7288",
                                    "Email": "store36@retail.com"
                                },
                                {
                                    "Store_ID": "37",
                                    "City": "New York :)",
                                    "Open_Date": "2002-09-19 01:06:08",
                                    "Zip_Code": "10004",
                                    "Phone": "213-380-8291",
                                    "Email": "store37@walmart.com"
                                },
                                {
                                    "Store_ID": "38",
                                    "City": "Chicago!",
                                    "Open_Date": "20040327124123",
                                    "Zip_Code": "60018",
                                    "Phone": "2132341880",
                                    "Email": "store38@store.com"
                                },
                                {
                                    "Store_ID": "39",
                                    "City": "Phoenix",
                                    "Open_Date": "2006-09-07 19:46:02",
                                    "Zip_Code": "90001h",
                                    "Phone": "2105957485",
                                    "Email": "store39 at walmart.com"
                                },
                                {
                                    "Store_ID": "40",
                                    "City": "Los Angeles",
                                    "Open_Date": "2007-08-02 12:42:21",
                                    "Zip_Code": "90003",
                                    "Phone": "210-961-8679",
                                    "Email": "store40@retail.com"
                                },
                                {
                                    "Store_ID": "41",
                                    "City": "los angeles",
                                    "Open_Date": "2004-07-22 14:18:40",
                                    "Zip_Code": "90007",
                                    "Phone": "6195928653",
                                    "Email": "store41@example.com"
                                },
                                {
                                    "Store_ID": "42",
                                    "City": "new york",
                                    "Open_Date": "2002-04-27 07:05:33",
                                    "Zip_Code": "10008",
                                    "Phone": "713-371-1353",
                                    "Email": "store42@example.com"
                                },
                                {
                                    "Store_ID": "43",
                                    "City": "San Antonio",
                                    "Open_Date": "2008-09-15 12:28:16",
                                    "Zip_Code": "78209",
                                    "Phone": "213-268-1316",
                                    "Email": "store43@retail.com"
                                },
                                {
                                    "Store_ID": "44",
                                    "City": "San Diego",
                                    "Open_Date": "2001-08-09 12:59:35",
                                    "Zip_Code": "92208",
                                    "Phone": "1-212-979-8702",
                                    "Email": "store44@example.com"
                                },
                                {
                                    "Store_ID": "45",
                                    "City": "Los Angeles",
                                    "Open_Date": "20050928103945",
                                    "Zip_Code": "90008",
                                    "Phone": "213 365-4037",
                                    "Email": "store45 at walmart.com"
                                }
                            ]
                        },
                        "text/html": "<table><tr><th>Store_ID</th><th>City</th><th>Open_Date</th><th>Zip_Code</th><th>Phone</th><th>Email</th></tr><tr><td>1</td><td>San Antonio</td><td>2003-07-24 21:45:30</td><td>78015</td><td>2136875667</td><td>store1 at retail.com</td></tr><tr><td>2</td><td>San Antonio</td><td>2005-10-27 07:01:09</td><td>78-201</td><td>213-516-7236</td><td>store2@retail.com</td></tr><tr><td>3</td><td>San Antonio</td><td>2007-02-01 16:59:13</td><td>78-112</td><td>212-350-1192</td><td>store3@walmart.com</td></tr><tr><td>4</td><td>Houston</td><td>2004-07-17 00:28:08</td><td>77001</td><td>312-977-8178</td><td>store4@walmart.com</td></tr><tr><td>5</td><td>Houston</td><td>2009-04-23 01:08:37</td><td>77002</td><td>713-619-1883</td><td>store5@store.com</td></tr><tr><td>6</td><td>los angeles</td><td>2006-08-10 19:42:16</td><td>90001</td><td>212-721-6342</td><td>store6@store.com</td></tr><tr><td>7</td><td>Phoenix</td><td>2007-10-16 08:02:37</td><td>60601</td><td>713-801-8755</td><td>store7@store.com</td></tr><tr><td>8</td><td>san diego</td><td>2002-03-10 05:40:48</td><td>94-023</td><td>212-544-5446</td><td>store8@retail.com</td></tr><tr><td>9</td><td>New York</td><td>2007-07-24 04:31:20</td><td>10001</td><td>312-224-2101</td><td>store9 at store.com</td></tr><tr><td>10</td><td>Philadelphia</td><td>2007-05-21 13:40:13</td><td>19019</td><td>213-519-6422</td><td>store10 at walmart.com</td></tr><tr><td>11</td><td>Los Angeles</td><td>2001-04-24 19:12:27</td><td>90005</td><td>210-821-7144</td><td>store11@walmart.com</td></tr><tr><td>12</td><td>Philadelphia.</td><td>2001-03-21 09:54:21</td><td>19050</td><td>6024369028</td><td>store12 at example.com</td></tr><tr><td>13</td><td>San  Antonio</td><td>2000-05-12 21:22:25</td><td>78,109</td><td>215-962-1700</td><td>store13@retail.com</td></tr><tr><td>14</td><td>Los Angeles</td><td>2002-01-18 09:30:07</td><td>90009</td><td>619-427-9882</td><td>store14 at walmart.com</td></tr><tr><td>15</td><td>San Diego</td><td>2000-02-02 18:13:56</td><td>92,201</td><td>210-541-1222</td><td>store15@retail.com</td></tr><tr><td>16</td><td>San Antonio</td><td>2004-06-17 11:22:53</td><td>78,154</td><td>2125939415</td><td>store16 at store.com</td></tr><tr><td>17</td><td>San Diego </td><td>2008-09-16 10:52:05</td><td>92.202</td><td>2129335488</td><td>store17@example.com</td></tr><tr><td>18</td><td>San Antonio</td><td>2001-04-17 19:28:03</td><td>78201</td><td>212-405-9345</td><td>store18@walmart.com</td></tr><tr><td>19</td><td>New_York</td><td>2006-11-27 23:48:03</td><td>10002</td><td>(+1) 312-116-9300</td><td>store19@store.com</td></tr><tr><td>20</td><td>San Antonio</td><td>2006-09-02 13:04:17</td><td>78205</td><td>213-152-9783</td><td>store20@walmart.com</td></tr><tr><td>21</td><td>Houston</td><td>2001-11-05 06:29:10</td><td>77003</td><td>619-238-5211</td><td>store21@retail.com</td></tr><tr><td>22</td><td>Chicago</td><td>2002-03-07 15:36:15</td><td>60007</td><td>210-854-1838</td><td>store22@store,com</td></tr><tr><td>23</td><td>Phoenix</td><td>2000-03-30 19:09:12</td><td>92101</td><td>602-702-1125</td><td>store23 at example.com</td></tr><tr><td>24</td><td>los angeles   </td><td>2000-11-02 08:37:53</td><td>90006</td><td>3126556448</td><td>store24@example.com</td></tr><tr><td>25</td><td>Houston</td><td>2006-08-05 00:08:51</td><td>77004</td><td>212-751-3931</td><td>store25@walmart.com</td></tr><tr><td>26</td><td>San Diego</td><td>2000-11-19 00:12:15</td><td>92204</td><td>2136628808</td><td>store26@retail.com</td></tr><tr><td>27</td><td>San Antonio</td><td>2006-09-19 15:12:42</td><td>78203</td><td>6196788101</td><td>store27@retail.com</td></tr><tr><td>28</td><td>phoenix</td><td>2005-05-23 09:46:24</td><td>10002u</td><td>713-380-2726</td><td>store28@store.com</td></tr><tr><td>29</td><td>San Antonio</td><td>2003-04-10 03:59:36</td><td>78207</td><td>213-515-7007</td><td>store29#walmart.com</td></tr><tr><td>30</td><td>Los Angeles</td><td>20070517100103</td><td>90002</td><td>312-914-5145</td><td>store30 at example.com</td></tr><tr><td>31</td><td>Chicago  </td><td>2002-11-08 08:44:18</td><td>60106</td><td>713-931-7408</td><td>store31@store.com</td></tr><tr><td>32</td><td>New  York</td><td>2008-09-04 23:03:55</td><td>10003</td><td>213-317-5083</td><td>store32@retail.com</td></tr><tr><td>33</td><td>Houston</td><td>2000-10-20 16:22:03</td><td>77027</td><td>312-170-2398</td><td>store33@example.com</td></tr><tr><td>34</td><td>Los Angeles</td><td>2006-11-05 23:15:37</td><td>90004</td><td>212 299 5738</td><td>store34 at retail.com</td></tr><tr><td>35</td><td>Houston</td><td>2000-06-04 23:43:00</td><td>77020</td><td>(+1) 602-663-9585</td><td>store35@retail.com</td></tr><tr><td>36</td><td>Chicago</td><td>2009-05-15 14:00:19</td><td>60127</td><td>713-823-7288</td><td>store36@retail.com</td></tr><tr><td>37</td><td>New York :)</td><td>2002-09-19 01:06:08</td><td>10004</td><td>213-380-8291</td><td>store37@walmart.com</td></tr><tr><td>38</td><td>Chicago!</td><td>20040327124123</td><td>60018</td><td>2132341880</td><td>store38@store.com</td></tr><tr><td>39</td><td>Phoenix</td><td>2006-09-07 19:46:02</td><td>90001h</td><td>2105957485</td><td>store39 at walmart.com</td></tr><tr><td>40</td><td>Los Angeles</td><td>2007-08-02 12:42:21</td><td>90003</td><td>210-961-8679</td><td>store40@retail.com</td></tr><tr><td>41</td><td>los angeles</td><td>2004-07-22 14:18:40</td><td>90007</td><td>6195928653</td><td>store41@example.com</td></tr><tr><td>42</td><td>new york</td><td>2002-04-27 07:05:33</td><td>10008</td><td>713-371-1353</td><td>store42@example.com</td></tr><tr><td>43</td><td>San Antonio</td><td>2008-09-15 12:28:16</td><td>78209</td><td>213-268-1316</td><td>store43@retail.com</td></tr><tr><td>44</td><td>San Diego</td><td>2001-08-09 12:59:35</td><td>92208</td><td>1-212-979-8702</td><td>store44@example.com</td></tr><tr><td>45</td><td>Los Angeles</td><td>20050928103945</td><td>90008</td><td>213 365-4037</td><td>store45 at walmart.com</td></tr></table>"
                    },
                    "metadata": {}
                }
            ],
            "execution_count": 2
        },
        {
            "cell_type": "markdown",
            "source": [
                "<span style=\"font-size: 18px;\">\n",
                "En esta tabla se pueden identificar las siguientes observaciones:\n",
                "\n",
                "1. Algunos nombres de ciudades contienen caracteres especiales.\n",
                "1. En la columna \"Open_Data\", algunos datos no siguen el formato YYYY-MM-DD H:mm:s.\n",
                "1. En la columna \"Zip_Code\", se encuentran comas y puntos en ciertos datos.\n",
                "1. En la columna \"Phone\", hay registros con caracteres especiales.\n",
                "1. En la columna \"Email\", algunos valores no cumplen con el formato válido de correo electrónico.\n",
                "\n",
                "A continuación, analizaremos estos puntos con mayor detalle.\n",
                "</span>\n",
                "\n",
                ""
            ],
            "metadata": {
                "language": "sql",
                "azdata_cell_guid": "b8ca8178-8ba5-44a7-9662-218c456681a1"
            },
            "attachments": {}
        },
        {
            "cell_type": "markdown",
            "source": [
                "## **Columna City**\r\n",
                "<span style=\"font-size: 18px;\">\r\n",
                "Para identificar las ciudades cuyos nombres contienen caracteres especiales, se llevaron a cabo las siguientes instrucciones: \r\n",
                "\r\n",
                "- <b>Búsqueda de símbolos, números y caracteres que no sean letras del alfabeto español:</b> Se utilizó la instrucción <i style=\"color: red;\">'%[^a-zA-ZÁÉÍÓÚáéíóúÑñ]%'</i>.\r\n",
                "- <b>Búsqueda de nombres con dos o más espacios consecutivos:</b> Se empleó la instrucción <i style=\"color: red;\">'%  +%'</i>.\r\n",
                "- <b>Búsqueda de nombres que comienzan con uno o más espacios consecutivos:</b> Se aplicó la instrucción <i style=\"color: red;\">' %'</i>.\r\n",
                "- <b>Búsqueda de nombres que terminan con uno o más espacios consecutivos:</b> Se usó la instrucción <i style=\"color: red;\">'% '</i>.\r\n",
                "</span>"
            ],
            "metadata": {
                "language": "sql",
                "azdata_cell_guid": "3d99b970-0dbf-4806-9beb-1c9ce424ae5d"
            },
            "attachments": {}
        },
        {
            "cell_type": "code",
            "source": [
                "-- # 3.\r\n",
                "SELECT *\r\n",
                "FROM Store\r\n",
                "WHERE City LIKE '%[^a-zA-ZÁÉÍÓÚáéíóúÑñ]%' \r\n",
                "   OR City LIKE '%  +%'  \r\n",
                "   OR City LIKE ' %' \r\n",
                "   OR City LIKE '% ';"
            ],
            "metadata": {
                "language": "sql",
                "azdata_cell_guid": "a30289e8-5f46-449c-b499-0a7b3a929f23",
                "tags": []
            },
            "outputs": [
                {
                    "output_type": "display_data",
                    "data": {
                        "text/html": "(32 rows affected)"
                    },
                    "metadata": {}
                },
                {
                    "output_type": "display_data",
                    "data": {
                        "text/html": "Total execution time: 00:00:00.009"
                    },
                    "metadata": {}
                },
                {
                    "output_type": "execute_result",
                    "execution_count": 3,
                    "data": {
                        "application/vnd.dataresource+json": {
                            "schema": {
                                "fields": [
                                    {
                                        "name": "Store_ID"
                                    },
                                    {
                                        "name": "City"
                                    },
                                    {
                                        "name": "Open_Date"
                                    },
                                    {
                                        "name": "Zip_Code"
                                    },
                                    {
                                        "name": "Phone"
                                    },
                                    {
                                        "name": "Email"
                                    }
                                ]
                            },
                            "data": [
                                {
                                    "Store_ID": "1",
                                    "City": "San Antonio",
                                    "Open_Date": "2003-07-24 21:45:30",
                                    "Zip_Code": "78015",
                                    "Phone": "2136875667",
                                    "Email": "store1 at retail.com"
                                },
                                {
                                    "Store_ID": "2",
                                    "City": "San Antonio",
                                    "Open_Date": "2005-10-27 07:01:09",
                                    "Zip_Code": "78-201",
                                    "Phone": "213-516-7236",
                                    "Email": "store2@retail.com"
                                },
                                {
                                    "Store_ID": "3",
                                    "City": "San Antonio",
                                    "Open_Date": "2007-02-01 16:59:13",
                                    "Zip_Code": "78-112",
                                    "Phone": "212-350-1192",
                                    "Email": "store3@walmart.com"
                                },
                                {
                                    "Store_ID": "6",
                                    "City": "los angeles",
                                    "Open_Date": "2006-08-10 19:42:16",
                                    "Zip_Code": "90001",
                                    "Phone": "212-721-6342",
                                    "Email": "store6@store.com"
                                },
                                {
                                    "Store_ID": "8",
                                    "City": "san diego",
                                    "Open_Date": "2002-03-10 05:40:48",
                                    "Zip_Code": "94-023",
                                    "Phone": "212-544-5446",
                                    "Email": "store8@retail.com"
                                },
                                {
                                    "Store_ID": "9",
                                    "City": "New York",
                                    "Open_Date": "2007-07-24 04:31:20",
                                    "Zip_Code": "10001",
                                    "Phone": "312-224-2101",
                                    "Email": "store9 at store.com"
                                },
                                {
                                    "Store_ID": "11",
                                    "City": "Los Angeles",
                                    "Open_Date": "2001-04-24 19:12:27",
                                    "Zip_Code": "90005",
                                    "Phone": "210-821-7144",
                                    "Email": "store11@walmart.com"
                                },
                                {
                                    "Store_ID": "12",
                                    "City": "Philadelphia.",
                                    "Open_Date": "2001-03-21 09:54:21",
                                    "Zip_Code": "19050",
                                    "Phone": "6024369028",
                                    "Email": "store12 at example.com"
                                },
                                {
                                    "Store_ID": "13",
                                    "City": "San  Antonio",
                                    "Open_Date": "2000-05-12 21:22:25",
                                    "Zip_Code": "78,109",
                                    "Phone": "215-962-1700",
                                    "Email": "store13@retail.com"
                                },
                                {
                                    "Store_ID": "14",
                                    "City": "Los Angeles",
                                    "Open_Date": "2002-01-18 09:30:07",
                                    "Zip_Code": "90009",
                                    "Phone": "619-427-9882",
                                    "Email": "store14 at walmart.com"
                                },
                                {
                                    "Store_ID": "15",
                                    "City": "San Diego",
                                    "Open_Date": "2000-02-02 18:13:56",
                                    "Zip_Code": "92,201",
                                    "Phone": "210-541-1222",
                                    "Email": "store15@retail.com"
                                },
                                {
                                    "Store_ID": "16",
                                    "City": "San Antonio",
                                    "Open_Date": "2004-06-17 11:22:53",
                                    "Zip_Code": "78,154",
                                    "Phone": "2125939415",
                                    "Email": "store16 at store.com"
                                },
                                {
                                    "Store_ID": "17",
                                    "City": "San Diego ",
                                    "Open_Date": "2008-09-16 10:52:05",
                                    "Zip_Code": "92.202",
                                    "Phone": "2129335488",
                                    "Email": "store17@example.com"
                                },
                                {
                                    "Store_ID": "18",
                                    "City": "San Antonio",
                                    "Open_Date": "2001-04-17 19:28:03",
                                    "Zip_Code": "78201",
                                    "Phone": "212-405-9345",
                                    "Email": "store18@walmart.com"
                                },
                                {
                                    "Store_ID": "19",
                                    "City": "New_York",
                                    "Open_Date": "2006-11-27 23:48:03",
                                    "Zip_Code": "10002",
                                    "Phone": "(+1) 312-116-9300",
                                    "Email": "store19@store.com"
                                },
                                {
                                    "Store_ID": "20",
                                    "City": "San Antonio",
                                    "Open_Date": "2006-09-02 13:04:17",
                                    "Zip_Code": "78205",
                                    "Phone": "213-152-9783",
                                    "Email": "store20@walmart.com"
                                },
                                {
                                    "Store_ID": "24",
                                    "City": "los angeles   ",
                                    "Open_Date": "2000-11-02 08:37:53",
                                    "Zip_Code": "90006",
                                    "Phone": "3126556448",
                                    "Email": "store24@example.com"
                                },
                                {
                                    "Store_ID": "26",
                                    "City": "San Diego",
                                    "Open_Date": "2000-11-19 00:12:15",
                                    "Zip_Code": "92204",
                                    "Phone": "2136628808",
                                    "Email": "store26@retail.com"
                                },
                                {
                                    "Store_ID": "27",
                                    "City": "San Antonio",
                                    "Open_Date": "2006-09-19 15:12:42",
                                    "Zip_Code": "78203",
                                    "Phone": "6196788101",
                                    "Email": "store27@retail.com"
                                },
                                {
                                    "Store_ID": "29",
                                    "City": "San Antonio",
                                    "Open_Date": "2003-04-10 03:59:36",
                                    "Zip_Code": "78207",
                                    "Phone": "213-515-7007",
                                    "Email": "store29#walmart.com"
                                },
                                {
                                    "Store_ID": "30",
                                    "City": "Los Angeles",
                                    "Open_Date": "20070517100103",
                                    "Zip_Code": "90002",
                                    "Phone": "312-914-5145",
                                    "Email": "store30 at example.com"
                                },
                                {
                                    "Store_ID": "31",
                                    "City": "Chicago  ",
                                    "Open_Date": "2002-11-08 08:44:18",
                                    "Zip_Code": "60106",
                                    "Phone": "713-931-7408",
                                    "Email": "store31@store.com"
                                },
                                {
                                    "Store_ID": "32",
                                    "City": "New  York",
                                    "Open_Date": "2008-09-04 23:03:55",
                                    "Zip_Code": "10003",
                                    "Phone": "213-317-5083",
                                    "Email": "store32@retail.com"
                                },
                                {
                                    "Store_ID": "34",
                                    "City": "Los Angeles",
                                    "Open_Date": "2006-11-05 23:15:37",
                                    "Zip_Code": "90004",
                                    "Phone": "212 299 5738",
                                    "Email": "store34 at retail.com"
                                },
                                {
                                    "Store_ID": "37",
                                    "City": "New York :)",
                                    "Open_Date": "2002-09-19 01:06:08",
                                    "Zip_Code": "10004",
                                    "Phone": "213-380-8291",
                                    "Email": "store37@walmart.com"
                                },
                                {
                                    "Store_ID": "38",
                                    "City": "Chicago!",
                                    "Open_Date": "20040327124123",
                                    "Zip_Code": "60018",
                                    "Phone": "2132341880",
                                    "Email": "store38@store.com"
                                },
                                {
                                    "Store_ID": "40",
                                    "City": "Los Angeles",
                                    "Open_Date": "2007-08-02 12:42:21",
                                    "Zip_Code": "90003",
                                    "Phone": "210-961-8679",
                                    "Email": "store40@retail.com"
                                },
                                {
                                    "Store_ID": "41",
                                    "City": "los angeles",
                                    "Open_Date": "2004-07-22 14:18:40",
                                    "Zip_Code": "90007",
                                    "Phone": "6195928653",
                                    "Email": "store41@example.com"
                                },
                                {
                                    "Store_ID": "42",
                                    "City": "new york",
                                    "Open_Date": "2002-04-27 07:05:33",
                                    "Zip_Code": "10008",
                                    "Phone": "713-371-1353",
                                    "Email": "store42@example.com"
                                },
                                {
                                    "Store_ID": "43",
                                    "City": "San Antonio",
                                    "Open_Date": "2008-09-15 12:28:16",
                                    "Zip_Code": "78209",
                                    "Phone": "213-268-1316",
                                    "Email": "store43@retail.com"
                                },
                                {
                                    "Store_ID": "44",
                                    "City": "San Diego",
                                    "Open_Date": "2001-08-09 12:59:35",
                                    "Zip_Code": "92208",
                                    "Phone": "1-212-979-8702",
                                    "Email": "store44@example.com"
                                },
                                {
                                    "Store_ID": "45",
                                    "City": "Los Angeles",
                                    "Open_Date": "20050928103945",
                                    "Zip_Code": "90008",
                                    "Phone": "213 365-4037",
                                    "Email": "store45 at walmart.com"
                                }
                            ]
                        },
                        "text/html": "<table><tr><th>Store_ID</th><th>City</th><th>Open_Date</th><th>Zip_Code</th><th>Phone</th><th>Email</th></tr><tr><td>1</td><td>San Antonio</td><td>2003-07-24 21:45:30</td><td>78015</td><td>2136875667</td><td>store1 at retail.com</td></tr><tr><td>2</td><td>San Antonio</td><td>2005-10-27 07:01:09</td><td>78-201</td><td>213-516-7236</td><td>store2@retail.com</td></tr><tr><td>3</td><td>San Antonio</td><td>2007-02-01 16:59:13</td><td>78-112</td><td>212-350-1192</td><td>store3@walmart.com</td></tr><tr><td>6</td><td>los angeles</td><td>2006-08-10 19:42:16</td><td>90001</td><td>212-721-6342</td><td>store6@store.com</td></tr><tr><td>8</td><td>san diego</td><td>2002-03-10 05:40:48</td><td>94-023</td><td>212-544-5446</td><td>store8@retail.com</td></tr><tr><td>9</td><td>New York</td><td>2007-07-24 04:31:20</td><td>10001</td><td>312-224-2101</td><td>store9 at store.com</td></tr><tr><td>11</td><td>Los Angeles</td><td>2001-04-24 19:12:27</td><td>90005</td><td>210-821-7144</td><td>store11@walmart.com</td></tr><tr><td>12</td><td>Philadelphia.</td><td>2001-03-21 09:54:21</td><td>19050</td><td>6024369028</td><td>store12 at example.com</td></tr><tr><td>13</td><td>San  Antonio</td><td>2000-05-12 21:22:25</td><td>78,109</td><td>215-962-1700</td><td>store13@retail.com</td></tr><tr><td>14</td><td>Los Angeles</td><td>2002-01-18 09:30:07</td><td>90009</td><td>619-427-9882</td><td>store14 at walmart.com</td></tr><tr><td>15</td><td>San Diego</td><td>2000-02-02 18:13:56</td><td>92,201</td><td>210-541-1222</td><td>store15@retail.com</td></tr><tr><td>16</td><td>San Antonio</td><td>2004-06-17 11:22:53</td><td>78,154</td><td>2125939415</td><td>store16 at store.com</td></tr><tr><td>17</td><td>San Diego </td><td>2008-09-16 10:52:05</td><td>92.202</td><td>2129335488</td><td>store17@example.com</td></tr><tr><td>18</td><td>San Antonio</td><td>2001-04-17 19:28:03</td><td>78201</td><td>212-405-9345</td><td>store18@walmart.com</td></tr><tr><td>19</td><td>New_York</td><td>2006-11-27 23:48:03</td><td>10002</td><td>(+1) 312-116-9300</td><td>store19@store.com</td></tr><tr><td>20</td><td>San Antonio</td><td>2006-09-02 13:04:17</td><td>78205</td><td>213-152-9783</td><td>store20@walmart.com</td></tr><tr><td>24</td><td>los angeles   </td><td>2000-11-02 08:37:53</td><td>90006</td><td>3126556448</td><td>store24@example.com</td></tr><tr><td>26</td><td>San Diego</td><td>2000-11-19 00:12:15</td><td>92204</td><td>2136628808</td><td>store26@retail.com</td></tr><tr><td>27</td><td>San Antonio</td><td>2006-09-19 15:12:42</td><td>78203</td><td>6196788101</td><td>store27@retail.com</td></tr><tr><td>29</td><td>San Antonio</td><td>2003-04-10 03:59:36</td><td>78207</td><td>213-515-7007</td><td>store29#walmart.com</td></tr><tr><td>30</td><td>Los Angeles</td><td>20070517100103</td><td>90002</td><td>312-914-5145</td><td>store30 at example.com</td></tr><tr><td>31</td><td>Chicago  </td><td>2002-11-08 08:44:18</td><td>60106</td><td>713-931-7408</td><td>store31@store.com</td></tr><tr><td>32</td><td>New  York</td><td>2008-09-04 23:03:55</td><td>10003</td><td>213-317-5083</td><td>store32@retail.com</td></tr><tr><td>34</td><td>Los Angeles</td><td>2006-11-05 23:15:37</td><td>90004</td><td>212 299 5738</td><td>store34 at retail.com</td></tr><tr><td>37</td><td>New York :)</td><td>2002-09-19 01:06:08</td><td>10004</td><td>213-380-8291</td><td>store37@walmart.com</td></tr><tr><td>38</td><td>Chicago!</td><td>20040327124123</td><td>60018</td><td>2132341880</td><td>store38@store.com</td></tr><tr><td>40</td><td>Los Angeles</td><td>2007-08-02 12:42:21</td><td>90003</td><td>210-961-8679</td><td>store40@retail.com</td></tr><tr><td>41</td><td>los angeles</td><td>2004-07-22 14:18:40</td><td>90007</td><td>6195928653</td><td>store41@example.com</td></tr><tr><td>42</td><td>new york</td><td>2002-04-27 07:05:33</td><td>10008</td><td>713-371-1353</td><td>store42@example.com</td></tr><tr><td>43</td><td>San Antonio</td><td>2008-09-15 12:28:16</td><td>78209</td><td>213-268-1316</td><td>store43@retail.com</td></tr><tr><td>44</td><td>San Diego</td><td>2001-08-09 12:59:35</td><td>92208</td><td>1-212-979-8702</td><td>store44@example.com</td></tr><tr><td>45</td><td>Los Angeles</td><td>20050928103945</td><td>90008</td><td>213 365-4037</td><td>store45 at walmart.com</td></tr></table>"
                    },
                    "metadata": {}
                }
            ],
            "execution_count": 3
        },
        {
            "cell_type": "markdown",
            "source": [
                "<span style=\"font-size: 18px;\">\r\n",
                "Se puede observar que en la columna <b>City</b> hay 32 registros que deben ser convertidos a un formato estándar, como por ejemplo:\r\n",
                "\r\n",
                "- New York.\r\n",
                "- Madrid.\r\n",
                "- Los Angeles.\r\n",
                "</span>"
            ],
            "metadata": {
                "azdata_cell_guid": "d70ff6c6-c893-4c09-ac88-e0cba3b86763"
            },
            "attachments": {}
        },
        {
            "cell_type": "markdown",
            "source": [
                "## **Columna Open_Date**\r\n",
                "\r\n",
                "<span style=\"font-size: 18px;\">\r\n",
                "En esta columna, nuestra principal prioridad es identificar los registros que no cumplen con el formato de fecha. En este caso, la tabla está utilizando el formato YYYY-MM-DD HH:mm:ss. Sin embargo, por el momento, solo verificaremos cuáles registros no se ajustan a este formato. Para ello, hemos utilizado la siguiente instrucción:\r\n",
                "\r\n",
                "- <b>Identificación de  registros de fechas no válidas:</b> Se implementó la instrucción <i style=\"color: red;\"> ISDATE (Open_date) = 0</i>.\r\n",
                "</span>"
            ],
            "metadata": {
                "azdata_cell_guid": "4a538f16-d387-4bb2-b405-f5fc93767948"
            },
            "attachments": {}
        },
        {
            "cell_type": "code",
            "source": [
                "-- # 4.\r\n",
                "SELECT *\r\n",
                "FROM Store\r\n",
                "WHERE ISDATE(Open_Date) = 0;"
            ],
            "metadata": {
                "azdata_cell_guid": "130120da-c693-4d58-97a9-c3e107b61db4",
                "language": "sql",
                "tags": []
            },
            "outputs": [
                {
                    "output_type": "display_data",
                    "data": {
                        "text/html": "(3 rows affected)"
                    },
                    "metadata": {}
                },
                {
                    "output_type": "display_data",
                    "data": {
                        "text/html": "Total execution time: 00:00:00.004"
                    },
                    "metadata": {}
                },
                {
                    "output_type": "execute_result",
                    "execution_count": 4,
                    "data": {
                        "application/vnd.dataresource+json": {
                            "schema": {
                                "fields": [
                                    {
                                        "name": "Store_ID"
                                    },
                                    {
                                        "name": "City"
                                    },
                                    {
                                        "name": "Open_Date"
                                    },
                                    {
                                        "name": "Zip_Code"
                                    },
                                    {
                                        "name": "Phone"
                                    },
                                    {
                                        "name": "Email"
                                    }
                                ]
                            },
                            "data": [
                                {
                                    "Store_ID": "30",
                                    "City": "Los Angeles",
                                    "Open_Date": "20070517100103",
                                    "Zip_Code": "90002",
                                    "Phone": "312-914-5145",
                                    "Email": "store30 at example.com"
                                },
                                {
                                    "Store_ID": "38",
                                    "City": "Chicago!",
                                    "Open_Date": "20040327124123",
                                    "Zip_Code": "60018",
                                    "Phone": "2132341880",
                                    "Email": "store38@store.com"
                                },
                                {
                                    "Store_ID": "45",
                                    "City": "Los Angeles",
                                    "Open_Date": "20050928103945",
                                    "Zip_Code": "90008",
                                    "Phone": "213 365-4037",
                                    "Email": "store45 at walmart.com"
                                }
                            ]
                        },
                        "text/html": "<table><tr><th>Store_ID</th><th>City</th><th>Open_Date</th><th>Zip_Code</th><th>Phone</th><th>Email</th></tr><tr><td>30</td><td>Los Angeles</td><td>20070517100103</td><td>90002</td><td>312-914-5145</td><td>store30 at example.com</td></tr><tr><td>38</td><td>Chicago!</td><td>20040327124123</td><td>60018</td><td>2132341880</td><td>store38@store.com</td></tr><tr><td>45</td><td>Los Angeles</td><td>20050928103945</td><td>90008</td><td>213 365-4037</td><td>store45 at walmart.com</td></tr></table>"
                    },
                    "metadata": {}
                }
            ],
            "execution_count": 4
        },
        {
            "cell_type": "markdown",
            "source": [
                "<span style=\"font-size: 18px;\">\r\n",
                "En esta columna solo hay tres registros que no tienen formato de fecha válido.\r\n",
                "</span>"
            ],
            "metadata": {
                "azdata_cell_guid": "62685c27-e881-44e8-a1a1-0233db4f4621"
            },
            "attachments": {}
        },
        {
            "cell_type": "markdown",
            "source": [
                "## **Columna Zip_Code**\r\n",
                "<span style=\"font-size: 18px;\">\r\n",
                "En esta columna nos centraremos en la búsqueda de datos no numéricos. Para ello, se utilizó la siguiente instrucción:\r\n",
                "\r\n",
                "- <b>Identificación de registros con caracteres no numéricos:</b> Se implementó la instrucción  <i style=\"color: red;\"> LIKE '%[^0-9]%'</i>.\r\n",
                "</span>"
            ],
            "metadata": {
                "azdata_cell_guid": "53af487a-6065-4583-bac9-135b4aa91ab6"
            },
            "attachments": {}
        },
        {
            "cell_type": "code",
            "source": [
                "-- # 5.\r\n",
                "SELECT *\r\n",
                "FROM Store\r\n",
                "WHERE Zip_Code LIKE '%[^0-9]%'"
            ],
            "metadata": {
                "azdata_cell_guid": "0ede02e2-2f9b-4097-a44f-d78d8db73dab",
                "language": "sql"
            },
            "outputs": [
                {
                    "output_type": "display_data",
                    "data": {
                        "text/html": "(9 rows affected)"
                    },
                    "metadata": {}
                },
                {
                    "output_type": "display_data",
                    "data": {
                        "text/html": "Total execution time: 00:00:00.006"
                    },
                    "metadata": {}
                },
                {
                    "output_type": "execute_result",
                    "execution_count": 5,
                    "data": {
                        "application/vnd.dataresource+json": {
                            "schema": {
                                "fields": [
                                    {
                                        "name": "Store_ID"
                                    },
                                    {
                                        "name": "City"
                                    },
                                    {
                                        "name": "Open_Date"
                                    },
                                    {
                                        "name": "Zip_Code"
                                    },
                                    {
                                        "name": "Phone"
                                    },
                                    {
                                        "name": "Email"
                                    }
                                ]
                            },
                            "data": [
                                {
                                    "Store_ID": "2",
                                    "City": "San Antonio",
                                    "Open_Date": "2005-10-27 07:01:09",
                                    "Zip_Code": "78-201",
                                    "Phone": "213-516-7236",
                                    "Email": "store2@retail.com"
                                },
                                {
                                    "Store_ID": "3",
                                    "City": "San Antonio",
                                    "Open_Date": "2007-02-01 16:59:13",
                                    "Zip_Code": "78-112",
                                    "Phone": "212-350-1192",
                                    "Email": "store3@walmart.com"
                                },
                                {
                                    "Store_ID": "8",
                                    "City": "san diego",
                                    "Open_Date": "2002-03-10 05:40:48",
                                    "Zip_Code": "94-023",
                                    "Phone": "212-544-5446",
                                    "Email": "store8@retail.com"
                                },
                                {
                                    "Store_ID": "13",
                                    "City": "San  Antonio",
                                    "Open_Date": "2000-05-12 21:22:25",
                                    "Zip_Code": "78,109",
                                    "Phone": "215-962-1700",
                                    "Email": "store13@retail.com"
                                },
                                {
                                    "Store_ID": "15",
                                    "City": "San Diego",
                                    "Open_Date": "2000-02-02 18:13:56",
                                    "Zip_Code": "92,201",
                                    "Phone": "210-541-1222",
                                    "Email": "store15@retail.com"
                                },
                                {
                                    "Store_ID": "16",
                                    "City": "San Antonio",
                                    "Open_Date": "2004-06-17 11:22:53",
                                    "Zip_Code": "78,154",
                                    "Phone": "2125939415",
                                    "Email": "store16 at store.com"
                                },
                                {
                                    "Store_ID": "17",
                                    "City": "San Diego ",
                                    "Open_Date": "2008-09-16 10:52:05",
                                    "Zip_Code": "92.202",
                                    "Phone": "2129335488",
                                    "Email": "store17@example.com"
                                },
                                {
                                    "Store_ID": "28",
                                    "City": "phoenix",
                                    "Open_Date": "2005-05-23 09:46:24",
                                    "Zip_Code": "10002u",
                                    "Phone": "713-380-2726",
                                    "Email": "store28@store.com"
                                },
                                {
                                    "Store_ID": "39",
                                    "City": "Phoenix",
                                    "Open_Date": "2006-09-07 19:46:02",
                                    "Zip_Code": "90001h",
                                    "Phone": "2105957485",
                                    "Email": "store39 at walmart.com"
                                }
                            ]
                        },
                        "text/html": "<table><tr><th>Store_ID</th><th>City</th><th>Open_Date</th><th>Zip_Code</th><th>Phone</th><th>Email</th></tr><tr><td>2</td><td>San Antonio</td><td>2005-10-27 07:01:09</td><td>78-201</td><td>213-516-7236</td><td>store2@retail.com</td></tr><tr><td>3</td><td>San Antonio</td><td>2007-02-01 16:59:13</td><td>78-112</td><td>212-350-1192</td><td>store3@walmart.com</td></tr><tr><td>8</td><td>san diego</td><td>2002-03-10 05:40:48</td><td>94-023</td><td>212-544-5446</td><td>store8@retail.com</td></tr><tr><td>13</td><td>San  Antonio</td><td>2000-05-12 21:22:25</td><td>78,109</td><td>215-962-1700</td><td>store13@retail.com</td></tr><tr><td>15</td><td>San Diego</td><td>2000-02-02 18:13:56</td><td>92,201</td><td>210-541-1222</td><td>store15@retail.com</td></tr><tr><td>16</td><td>San Antonio</td><td>2004-06-17 11:22:53</td><td>78,154</td><td>2125939415</td><td>store16 at store.com</td></tr><tr><td>17</td><td>San Diego </td><td>2008-09-16 10:52:05</td><td>92.202</td><td>2129335488</td><td>store17@example.com</td></tr><tr><td>28</td><td>phoenix</td><td>2005-05-23 09:46:24</td><td>10002u</td><td>713-380-2726</td><td>store28@store.com</td></tr><tr><td>39</td><td>Phoenix</td><td>2006-09-07 19:46:02</td><td>90001h</td><td>2105957485</td><td>store39 at walmart.com</td></tr></table>"
                    },
                    "metadata": {}
                }
            ],
            "execution_count": 5
        },
        {
            "cell_type": "markdown",
            "source": [
                "<span style=\"font-size: 18px;\">\r\n",
                "Se puede observar que en total existen 9 códigos zip que tienen caracteres no numéricos.\r\n",
                "</span>"
            ],
            "metadata": {
                "language": "sql",
                "azdata_cell_guid": "5d521c17-e020-451f-8f73-b908a4cfcf2e"
            },
            "attachments": {}
        },
        {
            "cell_type": "markdown",
            "source": [
                "## **Columna Phone**\r\n",
                "<span style=\"font-size: 18px;\">\r\n",
                "Aquí implementamos la misma instrucción que busca caracteres no numéricos.\r\n",
                "</span>"
            ],
            "metadata": {
                "azdata_cell_guid": "bd310fde-b550-4b83-8c2e-9fd4b127b333"
            },
            "attachments": {}
        },
        {
            "cell_type": "code",
            "source": [
                "-- # 6\r\n",
                "SELECT *\r\n",
                "FROM Store\r\n",
                "WHERE Phone LIKE '%[^0-9]%'"
            ],
            "metadata": {
                "azdata_cell_guid": "771bcc76-d5fb-4af0-959b-65807058a4c6",
                "language": "sql"
            },
            "outputs": [
                {
                    "output_type": "display_data",
                    "data": {
                        "text/html": "(35 rows affected)"
                    },
                    "metadata": {}
                },
                {
                    "output_type": "display_data",
                    "data": {
                        "text/html": "Total execution time: 00:00:00.014"
                    },
                    "metadata": {}
                },
                {
                    "output_type": "execute_result",
                    "execution_count": 6,
                    "data": {
                        "application/vnd.dataresource+json": {
                            "schema": {
                                "fields": [
                                    {
                                        "name": "Store_ID"
                                    },
                                    {
                                        "name": "City"
                                    },
                                    {
                                        "name": "Open_Date"
                                    },
                                    {
                                        "name": "Zip_Code"
                                    },
                                    {
                                        "name": "Phone"
                                    },
                                    {
                                        "name": "Email"
                                    }
                                ]
                            },
                            "data": [
                                {
                                    "Store_ID": "2",
                                    "City": "San Antonio",
                                    "Open_Date": "2005-10-27 07:01:09",
                                    "Zip_Code": "78-201",
                                    "Phone": "213-516-7236",
                                    "Email": "store2@retail.com"
                                },
                                {
                                    "Store_ID": "3",
                                    "City": "San Antonio",
                                    "Open_Date": "2007-02-01 16:59:13",
                                    "Zip_Code": "78-112",
                                    "Phone": "212-350-1192",
                                    "Email": "store3@walmart.com"
                                },
                                {
                                    "Store_ID": "4",
                                    "City": "Houston",
                                    "Open_Date": "2004-07-17 00:28:08",
                                    "Zip_Code": "77001",
                                    "Phone": "312-977-8178",
                                    "Email": "store4@walmart.com"
                                },
                                {
                                    "Store_ID": "5",
                                    "City": "Houston",
                                    "Open_Date": "2009-04-23 01:08:37",
                                    "Zip_Code": "77002",
                                    "Phone": "713-619-1883",
                                    "Email": "store5@store.com"
                                },
                                {
                                    "Store_ID": "6",
                                    "City": "los angeles",
                                    "Open_Date": "2006-08-10 19:42:16",
                                    "Zip_Code": "90001",
                                    "Phone": "212-721-6342",
                                    "Email": "store6@store.com"
                                },
                                {
                                    "Store_ID": "7",
                                    "City": "Phoenix",
                                    "Open_Date": "2007-10-16 08:02:37",
                                    "Zip_Code": "60601",
                                    "Phone": "713-801-8755",
                                    "Email": "store7@store.com"
                                },
                                {
                                    "Store_ID": "8",
                                    "City": "san diego",
                                    "Open_Date": "2002-03-10 05:40:48",
                                    "Zip_Code": "94-023",
                                    "Phone": "212-544-5446",
                                    "Email": "store8@retail.com"
                                },
                                {
                                    "Store_ID": "9",
                                    "City": "New York",
                                    "Open_Date": "2007-07-24 04:31:20",
                                    "Zip_Code": "10001",
                                    "Phone": "312-224-2101",
                                    "Email": "store9 at store.com"
                                },
                                {
                                    "Store_ID": "10",
                                    "City": "Philadelphia",
                                    "Open_Date": "2007-05-21 13:40:13",
                                    "Zip_Code": "19019",
                                    "Phone": "213-519-6422",
                                    "Email": "store10 at walmart.com"
                                },
                                {
                                    "Store_ID": "11",
                                    "City": "Los Angeles",
                                    "Open_Date": "2001-04-24 19:12:27",
                                    "Zip_Code": "90005",
                                    "Phone": "210-821-7144",
                                    "Email": "store11@walmart.com"
                                },
                                {
                                    "Store_ID": "13",
                                    "City": "San  Antonio",
                                    "Open_Date": "2000-05-12 21:22:25",
                                    "Zip_Code": "78,109",
                                    "Phone": "215-962-1700",
                                    "Email": "store13@retail.com"
                                },
                                {
                                    "Store_ID": "14",
                                    "City": "Los Angeles",
                                    "Open_Date": "2002-01-18 09:30:07",
                                    "Zip_Code": "90009",
                                    "Phone": "619-427-9882",
                                    "Email": "store14 at walmart.com"
                                },
                                {
                                    "Store_ID": "15",
                                    "City": "San Diego",
                                    "Open_Date": "2000-02-02 18:13:56",
                                    "Zip_Code": "92,201",
                                    "Phone": "210-541-1222",
                                    "Email": "store15@retail.com"
                                },
                                {
                                    "Store_ID": "18",
                                    "City": "San Antonio",
                                    "Open_Date": "2001-04-17 19:28:03",
                                    "Zip_Code": "78201",
                                    "Phone": "212-405-9345",
                                    "Email": "store18@walmart.com"
                                },
                                {
                                    "Store_ID": "19",
                                    "City": "New_York",
                                    "Open_Date": "2006-11-27 23:48:03",
                                    "Zip_Code": "10002",
                                    "Phone": "(+1) 312-116-9300",
                                    "Email": "store19@store.com"
                                },
                                {
                                    "Store_ID": "20",
                                    "City": "San Antonio",
                                    "Open_Date": "2006-09-02 13:04:17",
                                    "Zip_Code": "78205",
                                    "Phone": "213-152-9783",
                                    "Email": "store20@walmart.com"
                                },
                                {
                                    "Store_ID": "21",
                                    "City": "Houston",
                                    "Open_Date": "2001-11-05 06:29:10",
                                    "Zip_Code": "77003",
                                    "Phone": "619-238-5211",
                                    "Email": "store21@retail.com"
                                },
                                {
                                    "Store_ID": "22",
                                    "City": "Chicago",
                                    "Open_Date": "2002-03-07 15:36:15",
                                    "Zip_Code": "60007",
                                    "Phone": "210-854-1838",
                                    "Email": "store22@store,com"
                                },
                                {
                                    "Store_ID": "23",
                                    "City": "Phoenix",
                                    "Open_Date": "2000-03-30 19:09:12",
                                    "Zip_Code": "92101",
                                    "Phone": "602-702-1125",
                                    "Email": "store23 at example.com"
                                },
                                {
                                    "Store_ID": "25",
                                    "City": "Houston",
                                    "Open_Date": "2006-08-05 00:08:51",
                                    "Zip_Code": "77004",
                                    "Phone": "212-751-3931",
                                    "Email": "store25@walmart.com"
                                },
                                {
                                    "Store_ID": "28",
                                    "City": "phoenix",
                                    "Open_Date": "2005-05-23 09:46:24",
                                    "Zip_Code": "10002u",
                                    "Phone": "713-380-2726",
                                    "Email": "store28@store.com"
                                },
                                {
                                    "Store_ID": "29",
                                    "City": "San Antonio",
                                    "Open_Date": "2003-04-10 03:59:36",
                                    "Zip_Code": "78207",
                                    "Phone": "213-515-7007",
                                    "Email": "store29#walmart.com"
                                },
                                {
                                    "Store_ID": "30",
                                    "City": "Los Angeles",
                                    "Open_Date": "20070517100103",
                                    "Zip_Code": "90002",
                                    "Phone": "312-914-5145",
                                    "Email": "store30 at example.com"
                                },
                                {
                                    "Store_ID": "31",
                                    "City": "Chicago  ",
                                    "Open_Date": "2002-11-08 08:44:18",
                                    "Zip_Code": "60106",
                                    "Phone": "713-931-7408",
                                    "Email": "store31@store.com"
                                },
                                {
                                    "Store_ID": "32",
                                    "City": "New  York",
                                    "Open_Date": "2008-09-04 23:03:55",
                                    "Zip_Code": "10003",
                                    "Phone": "213-317-5083",
                                    "Email": "store32@retail.com"
                                },
                                {
                                    "Store_ID": "33",
                                    "City": "Houston",
                                    "Open_Date": "2000-10-20 16:22:03",
                                    "Zip_Code": "77027",
                                    "Phone": "312-170-2398",
                                    "Email": "store33@example.com"
                                },
                                {
                                    "Store_ID": "34",
                                    "City": "Los Angeles",
                                    "Open_Date": "2006-11-05 23:15:37",
                                    "Zip_Code": "90004",
                                    "Phone": "212 299 5738",
                                    "Email": "store34 at retail.com"
                                },
                                {
                                    "Store_ID": "35",
                                    "City": "Houston",
                                    "Open_Date": "2000-06-04 23:43:00",
                                    "Zip_Code": "77020",
                                    "Phone": "(+1) 602-663-9585",
                                    "Email": "store35@retail.com"
                                },
                                {
                                    "Store_ID": "36",
                                    "City": "Chicago",
                                    "Open_Date": "2009-05-15 14:00:19",
                                    "Zip_Code": "60127",
                                    "Phone": "713-823-7288",
                                    "Email": "store36@retail.com"
                                },
                                {
                                    "Store_ID": "37",
                                    "City": "New York :)",
                                    "Open_Date": "2002-09-19 01:06:08",
                                    "Zip_Code": "10004",
                                    "Phone": "213-380-8291",
                                    "Email": "store37@walmart.com"
                                },
                                {
                                    "Store_ID": "40",
                                    "City": "Los Angeles",
                                    "Open_Date": "2007-08-02 12:42:21",
                                    "Zip_Code": "90003",
                                    "Phone": "210-961-8679",
                                    "Email": "store40@retail.com"
                                },
                                {
                                    "Store_ID": "42",
                                    "City": "new york",
                                    "Open_Date": "2002-04-27 07:05:33",
                                    "Zip_Code": "10008",
                                    "Phone": "713-371-1353",
                                    "Email": "store42@example.com"
                                },
                                {
                                    "Store_ID": "43",
                                    "City": "San Antonio",
                                    "Open_Date": "2008-09-15 12:28:16",
                                    "Zip_Code": "78209",
                                    "Phone": "213-268-1316",
                                    "Email": "store43@retail.com"
                                },
                                {
                                    "Store_ID": "44",
                                    "City": "San Diego",
                                    "Open_Date": "2001-08-09 12:59:35",
                                    "Zip_Code": "92208",
                                    "Phone": "1-212-979-8702",
                                    "Email": "store44@example.com"
                                },
                                {
                                    "Store_ID": "45",
                                    "City": "Los Angeles",
                                    "Open_Date": "20050928103945",
                                    "Zip_Code": "90008",
                                    "Phone": "213 365-4037",
                                    "Email": "store45 at walmart.com"
                                }
                            ]
                        },
                        "text/html": "<table><tr><th>Store_ID</th><th>City</th><th>Open_Date</th><th>Zip_Code</th><th>Phone</th><th>Email</th></tr><tr><td>2</td><td>San Antonio</td><td>2005-10-27 07:01:09</td><td>78-201</td><td>213-516-7236</td><td>store2@retail.com</td></tr><tr><td>3</td><td>San Antonio</td><td>2007-02-01 16:59:13</td><td>78-112</td><td>212-350-1192</td><td>store3@walmart.com</td></tr><tr><td>4</td><td>Houston</td><td>2004-07-17 00:28:08</td><td>77001</td><td>312-977-8178</td><td>store4@walmart.com</td></tr><tr><td>5</td><td>Houston</td><td>2009-04-23 01:08:37</td><td>77002</td><td>713-619-1883</td><td>store5@store.com</td></tr><tr><td>6</td><td>los angeles</td><td>2006-08-10 19:42:16</td><td>90001</td><td>212-721-6342</td><td>store6@store.com</td></tr><tr><td>7</td><td>Phoenix</td><td>2007-10-16 08:02:37</td><td>60601</td><td>713-801-8755</td><td>store7@store.com</td></tr><tr><td>8</td><td>san diego</td><td>2002-03-10 05:40:48</td><td>94-023</td><td>212-544-5446</td><td>store8@retail.com</td></tr><tr><td>9</td><td>New York</td><td>2007-07-24 04:31:20</td><td>10001</td><td>312-224-2101</td><td>store9 at store.com</td></tr><tr><td>10</td><td>Philadelphia</td><td>2007-05-21 13:40:13</td><td>19019</td><td>213-519-6422</td><td>store10 at walmart.com</td></tr><tr><td>11</td><td>Los Angeles</td><td>2001-04-24 19:12:27</td><td>90005</td><td>210-821-7144</td><td>store11@walmart.com</td></tr><tr><td>13</td><td>San  Antonio</td><td>2000-05-12 21:22:25</td><td>78,109</td><td>215-962-1700</td><td>store13@retail.com</td></tr><tr><td>14</td><td>Los Angeles</td><td>2002-01-18 09:30:07</td><td>90009</td><td>619-427-9882</td><td>store14 at walmart.com</td></tr><tr><td>15</td><td>San Diego</td><td>2000-02-02 18:13:56</td><td>92,201</td><td>210-541-1222</td><td>store15@retail.com</td></tr><tr><td>18</td><td>San Antonio</td><td>2001-04-17 19:28:03</td><td>78201</td><td>212-405-9345</td><td>store18@walmart.com</td></tr><tr><td>19</td><td>New_York</td><td>2006-11-27 23:48:03</td><td>10002</td><td>(+1) 312-116-9300</td><td>store19@store.com</td></tr><tr><td>20</td><td>San Antonio</td><td>2006-09-02 13:04:17</td><td>78205</td><td>213-152-9783</td><td>store20@walmart.com</td></tr><tr><td>21</td><td>Houston</td><td>2001-11-05 06:29:10</td><td>77003</td><td>619-238-5211</td><td>store21@retail.com</td></tr><tr><td>22</td><td>Chicago</td><td>2002-03-07 15:36:15</td><td>60007</td><td>210-854-1838</td><td>store22@store,com</td></tr><tr><td>23</td><td>Phoenix</td><td>2000-03-30 19:09:12</td><td>92101</td><td>602-702-1125</td><td>store23 at example.com</td></tr><tr><td>25</td><td>Houston</td><td>2006-08-05 00:08:51</td><td>77004</td><td>212-751-3931</td><td>store25@walmart.com</td></tr><tr><td>28</td><td>phoenix</td><td>2005-05-23 09:46:24</td><td>10002u</td><td>713-380-2726</td><td>store28@store.com</td></tr><tr><td>29</td><td>San Antonio</td><td>2003-04-10 03:59:36</td><td>78207</td><td>213-515-7007</td><td>store29#walmart.com</td></tr><tr><td>30</td><td>Los Angeles</td><td>20070517100103</td><td>90002</td><td>312-914-5145</td><td>store30 at example.com</td></tr><tr><td>31</td><td>Chicago  </td><td>2002-11-08 08:44:18</td><td>60106</td><td>713-931-7408</td><td>store31@store.com</td></tr><tr><td>32</td><td>New  York</td><td>2008-09-04 23:03:55</td><td>10003</td><td>213-317-5083</td><td>store32@retail.com</td></tr><tr><td>33</td><td>Houston</td><td>2000-10-20 16:22:03</td><td>77027</td><td>312-170-2398</td><td>store33@example.com</td></tr><tr><td>34</td><td>Los Angeles</td><td>2006-11-05 23:15:37</td><td>90004</td><td>212 299 5738</td><td>store34 at retail.com</td></tr><tr><td>35</td><td>Houston</td><td>2000-06-04 23:43:00</td><td>77020</td><td>(+1) 602-663-9585</td><td>store35@retail.com</td></tr><tr><td>36</td><td>Chicago</td><td>2009-05-15 14:00:19</td><td>60127</td><td>713-823-7288</td><td>store36@retail.com</td></tr><tr><td>37</td><td>New York :)</td><td>2002-09-19 01:06:08</td><td>10004</td><td>213-380-8291</td><td>store37@walmart.com</td></tr><tr><td>40</td><td>Los Angeles</td><td>2007-08-02 12:42:21</td><td>90003</td><td>210-961-8679</td><td>store40@retail.com</td></tr><tr><td>42</td><td>new york</td><td>2002-04-27 07:05:33</td><td>10008</td><td>713-371-1353</td><td>store42@example.com</td></tr><tr><td>43</td><td>San Antonio</td><td>2008-09-15 12:28:16</td><td>78209</td><td>213-268-1316</td><td>store43@retail.com</td></tr><tr><td>44</td><td>San Diego</td><td>2001-08-09 12:59:35</td><td>92208</td><td>1-212-979-8702</td><td>store44@example.com</td></tr><tr><td>45</td><td>Los Angeles</td><td>20050928103945</td><td>90008</td><td>213 365-4037</td><td>store45 at walmart.com</td></tr></table>"
                    },
                    "metadata": {}
                }
            ],
            "execution_count": 6
        },
        {
            "cell_type": "markdown",
            "source": [
                "<span style=\"font-size: 18px;\">\r\n",
                "Aquí vemos que la gran mayoría de los números de teléfonos presentan caracteres no numéricos como son:\r\n",
                "\r\n",
                "- \"-\"\r\n",
                "- \"()\"\r\n",
                "- \"+\"\r\n",
                "</span>"
            ],
            "metadata": {
                "azdata_cell_guid": "95edd111-66e0-47b3-b9c6-71b8cbc6e68d"
            },
            "attachments": {}
        },
        {
            "cell_type": "markdown",
            "source": [
                "## **Columna Email**\r\n",
                "<span style=\"font-size: 18px;\">\r\n",
                "En esta columna nos centramos en identificar correos electrónicos que cumplan con el formato estándar. Es importante resaltar que esta validación se limita a verificar el cumplimiento del formato, sin garantizar la validez del correo. Para ello, se implementaron las siguientes instrucciones:\r\n",
                "\r\n",
                "- <b>Conversión a VARCHAR de 320 caracteres :</b> Se intenta convertir cada correo a un tipo VARCHAR(320). Si la conversión falla, significa que el correo no es válido (contiene caracteres no permitidos o es NULL).\r\n",
                "- <b>Validación de un patrón básico :</b> Se verifica que el correo contenga un patrón mínimo válido, es decir, incluya un símbolo @ y al menos un punto (.) después de este.\r\n",
                "- <b>Comprobación de longitud máxima del correo :</b> Se asegura que la longitud total del correo no exceda los 320 caracteres, conforme a las especificaciones del estándar RFC 3696. https://datatracker.ietf.org/doc/html/rfc3696.\r\n",
                "- <b>Validación de la longitud del dominio :</b> Se verifica que la longitud del dominio (la parte después del @) no supere los 255 caracteres, siguiendo estos pasos:\r\n",
                "    - <b>Ubicación del símbolo @ :</b> Mediante <b>CHARINDEX('@', Email) + 1</b> se encuentra la posición del símbolo @ y se avanza un carácter para ubicar el inicio del dominio.\r\n",
                "    - <b>Extracción del dominio :</b> Con <b> SUBSTRING(Email, CHARINDEX('@', Email) + 1, LEN(Email))</b> se extrae la parte del correo que corresponde al dominio (por ejemplo, gmail.com).\r\n",
                "    - <b>Validación de la longitud :</b> Finalmente, se utiliza la función LEN() para comprobar que la longitud del dominio no exceda los 255 caracteres.    \r\n",
                "</span>"
            ],
            "metadata": {
                "azdata_cell_guid": "404af4dc-6b62-4695-8e55-d721fc77d98b"
            },
            "attachments": {}
        },
        {
            "cell_type": "code",
            "source": [
                "-- # 7.\r\n",
                "SELECT *\r\n",
                "FROM Store\r\n",
                "WHERE TRY_CONVERT(VARCHAR(320), Email) IS NULL\r\n",
                "  OR Email NOT LIKE '%@%.%'\r\n",
                "  OR LEN(Email) > 320\r\n",
                "  OR LEN(SUBSTRING(Email, CHARINDEX('@', Email) + 1, LEN(Email))) > 255;"
            ],
            "metadata": {
                "azdata_cell_guid": "9be4e98c-671a-4428-b946-a5655c61aaeb",
                "language": "sql",
                "tags": []
            },
            "outputs": [
                {
                    "output_type": "display_data",
                    "data": {
                        "text/html": "(13 rows affected)"
                    },
                    "metadata": {}
                },
                {
                    "output_type": "display_data",
                    "data": {
                        "text/html": "Total execution time: 00:00:00.008"
                    },
                    "metadata": {}
                },
                {
                    "output_type": "execute_result",
                    "execution_count": 7,
                    "data": {
                        "application/vnd.dataresource+json": {
                            "schema": {
                                "fields": [
                                    {
                                        "name": "Store_ID"
                                    },
                                    {
                                        "name": "City"
                                    },
                                    {
                                        "name": "Open_Date"
                                    },
                                    {
                                        "name": "Zip_Code"
                                    },
                                    {
                                        "name": "Phone"
                                    },
                                    {
                                        "name": "Email"
                                    }
                                ]
                            },
                            "data": [
                                {
                                    "Store_ID": "1",
                                    "City": "San Antonio",
                                    "Open_Date": "2003-07-24 21:45:30",
                                    "Zip_Code": "78015",
                                    "Phone": "2136875667",
                                    "Email": "store1 at retail.com"
                                },
                                {
                                    "Store_ID": "9",
                                    "City": "New York",
                                    "Open_Date": "2007-07-24 04:31:20",
                                    "Zip_Code": "10001",
                                    "Phone": "312-224-2101",
                                    "Email": "store9 at store.com"
                                },
                                {
                                    "Store_ID": "10",
                                    "City": "Philadelphia",
                                    "Open_Date": "2007-05-21 13:40:13",
                                    "Zip_Code": "19019",
                                    "Phone": "213-519-6422",
                                    "Email": "store10 at walmart.com"
                                },
                                {
                                    "Store_ID": "12",
                                    "City": "Philadelphia.",
                                    "Open_Date": "2001-03-21 09:54:21",
                                    "Zip_Code": "19050",
                                    "Phone": "6024369028",
                                    "Email": "store12 at example.com"
                                },
                                {
                                    "Store_ID": "14",
                                    "City": "Los Angeles",
                                    "Open_Date": "2002-01-18 09:30:07",
                                    "Zip_Code": "90009",
                                    "Phone": "619-427-9882",
                                    "Email": "store14 at walmart.com"
                                },
                                {
                                    "Store_ID": "16",
                                    "City": "San Antonio",
                                    "Open_Date": "2004-06-17 11:22:53",
                                    "Zip_Code": "78,154",
                                    "Phone": "2125939415",
                                    "Email": "store16 at store.com"
                                },
                                {
                                    "Store_ID": "22",
                                    "City": "Chicago",
                                    "Open_Date": "2002-03-07 15:36:15",
                                    "Zip_Code": "60007",
                                    "Phone": "210-854-1838",
                                    "Email": "store22@store,com"
                                },
                                {
                                    "Store_ID": "23",
                                    "City": "Phoenix",
                                    "Open_Date": "2000-03-30 19:09:12",
                                    "Zip_Code": "92101",
                                    "Phone": "602-702-1125",
                                    "Email": "store23 at example.com"
                                },
                                {
                                    "Store_ID": "29",
                                    "City": "San Antonio",
                                    "Open_Date": "2003-04-10 03:59:36",
                                    "Zip_Code": "78207",
                                    "Phone": "213-515-7007",
                                    "Email": "store29#walmart.com"
                                },
                                {
                                    "Store_ID": "30",
                                    "City": "Los Angeles",
                                    "Open_Date": "20070517100103",
                                    "Zip_Code": "90002",
                                    "Phone": "312-914-5145",
                                    "Email": "store30 at example.com"
                                },
                                {
                                    "Store_ID": "34",
                                    "City": "Los Angeles",
                                    "Open_Date": "2006-11-05 23:15:37",
                                    "Zip_Code": "90004",
                                    "Phone": "212 299 5738",
                                    "Email": "store34 at retail.com"
                                },
                                {
                                    "Store_ID": "39",
                                    "City": "Phoenix",
                                    "Open_Date": "2006-09-07 19:46:02",
                                    "Zip_Code": "90001h",
                                    "Phone": "2105957485",
                                    "Email": "store39 at walmart.com"
                                },
                                {
                                    "Store_ID": "45",
                                    "City": "Los Angeles",
                                    "Open_Date": "20050928103945",
                                    "Zip_Code": "90008",
                                    "Phone": "213 365-4037",
                                    "Email": "store45 at walmart.com"
                                }
                            ]
                        },
                        "text/html": "<table><tr><th>Store_ID</th><th>City</th><th>Open_Date</th><th>Zip_Code</th><th>Phone</th><th>Email</th></tr><tr><td>1</td><td>San Antonio</td><td>2003-07-24 21:45:30</td><td>78015</td><td>2136875667</td><td>store1 at retail.com</td></tr><tr><td>9</td><td>New York</td><td>2007-07-24 04:31:20</td><td>10001</td><td>312-224-2101</td><td>store9 at store.com</td></tr><tr><td>10</td><td>Philadelphia</td><td>2007-05-21 13:40:13</td><td>19019</td><td>213-519-6422</td><td>store10 at walmart.com</td></tr><tr><td>12</td><td>Philadelphia.</td><td>2001-03-21 09:54:21</td><td>19050</td><td>6024369028</td><td>store12 at example.com</td></tr><tr><td>14</td><td>Los Angeles</td><td>2002-01-18 09:30:07</td><td>90009</td><td>619-427-9882</td><td>store14 at walmart.com</td></tr><tr><td>16</td><td>San Antonio</td><td>2004-06-17 11:22:53</td><td>78,154</td><td>2125939415</td><td>store16 at store.com</td></tr><tr><td>22</td><td>Chicago</td><td>2002-03-07 15:36:15</td><td>60007</td><td>210-854-1838</td><td>store22@store,com</td></tr><tr><td>23</td><td>Phoenix</td><td>2000-03-30 19:09:12</td><td>92101</td><td>602-702-1125</td><td>store23 at example.com</td></tr><tr><td>29</td><td>San Antonio</td><td>2003-04-10 03:59:36</td><td>78207</td><td>213-515-7007</td><td>store29#walmart.com</td></tr><tr><td>30</td><td>Los Angeles</td><td>20070517100103</td><td>90002</td><td>312-914-5145</td><td>store30 at example.com</td></tr><tr><td>34</td><td>Los Angeles</td><td>2006-11-05 23:15:37</td><td>90004</td><td>212 299 5738</td><td>store34 at retail.com</td></tr><tr><td>39</td><td>Phoenix</td><td>2006-09-07 19:46:02</td><td>90001h</td><td>2105957485</td><td>store39 at walmart.com</td></tr><tr><td>45</td><td>Los Angeles</td><td>20050928103945</td><td>90008</td><td>213 365-4037</td><td>store45 at walmart.com</td></tr></table>"
                    },
                    "metadata": {}
                }
            ],
            "execution_count": 7
        },
        {
            "cell_type": "markdown",
            "source": [
                "<span style=\"font-size: 18px;\">\r\n",
                "Como se puede observar, existen 13 correos electrónicos que no cumplen con el formato estándar.\r\n",
                "</span>"
            ],
            "metadata": {
                "azdata_cell_guid": "b4654f0d-8af6-4e58-ac45-e389554febd4"
            },
            "attachments": {}
        },
        {
            "cell_type": "markdown",
            "source": [
                "## **Resultados y conclusiones**\r\n",
                "\r\n",
                "<span style=\"font-size: 18px;\">\r\n",
                "A modo de resumen tenemos los siguientes resultados:\r\n",
                "\r\n",
                "1. La tabla <b>Store</b> tiene 45 registros y 6 columnas.\r\n",
                "1. La columna <b>City</b> tiene 32 nombres de ciudades que deben ser convertidos a un formato estándar.\r\n",
                "1. La columna <b>Open_Date</b> tiene 3 fechas en formato inválido.\r\n",
                "1. La columna <b>Zip_Code</b> tiene 9 registros con caracteres no numéricos.\r\n",
                "1. La columna <b>Phone</b> tiene 35 registros con caracteres no numéricos.\r\n",
                "1. La columna <b>Email</b> tiene 13 correos que no cumplen con el formato estándar de un correo electrónico (nombre@dominio.es).\r\n",
                "\r\n",
                "<b>Conclusiones:</b>\r\n",
                "\r\n",
                "1. La columna <b>City</b> requiere que los registros se estandaricen para garantizar la consistencia de los datos.\r\n",
                "1. Las fechas deben ser transformadas al formato DD-MM-AAAA.\r\n",
                "1. Las columnas <b>Zip_Code</b> y <b>Phone</b> deben transformarse a formato <b>int</b> y esto incluye eliminar los caracteres no numéricos.\r\n",
                "1. Se deben corregir los correos electrónicos con el formato inválido.\r\n",
                "\r\n",
                "</span>"
            ],
            "metadata": {
                "azdata_cell_guid": "cf34235e-96ef-4ca2-8b16-70c974fba423"
            },
            "attachments": {}
        }
    ]
}